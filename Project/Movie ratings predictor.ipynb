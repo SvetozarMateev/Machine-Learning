{
 "cells": [
  {
   "cell_type": "markdown",
   "metadata": {},
   "source": [
    "# Can I predict the rating of a movie ?\n",
    "#### Svetozar Mateev"
   ]
  },
  {
   "cell_type": "markdown",
   "metadata": {},
   "source": [
    "I have a dataset with 5000+ movies scraped from IMDB and i hope that with the given attributes I will be able to predict the ratings."
   ]
  },
  {
   "cell_type": "markdown",
   "metadata": {},
   "source": [
    "Firts of all I am going to start with the imports. I am going to neeed both data science and machine learning libraries."
   ]
  },
  {
   "cell_type": "code",
   "execution_count": 1,
   "metadata": {
    "collapsed": false
   },
   "outputs": [],
   "source": [
    "%matplotlib inline\n",
    "import pandas as pd\n",
    "import numpy as np\n",
    "import matplotlib.pyplot as plt\n",
    "import seaborn as sns\n",
    "\n",
    "from sklearn.linear_model import LinearRegression\n",
    "from sklearn.model_selection import train_test_split,GridSearchCV,cross_val_score,StratifiedKFold\n",
    "from sklearn.metrics import r2_score\n",
    "from sklearn.preprocessing import StandardScaler,MinMaxScaler,LabelEncoder\n",
    "\n",
    "\n",
    "from sklearn.linear_model import Lasso,Ridge,ElasticNet,BayesianRidge,ARDRegression,RANSACRegressor\n",
    "from sklearn.neighbors import KNeighborsRegressor\n",
    "from sklearn.svm import SVR\n",
    "from sklearn.tree import DecisionTreeRegressor\n",
    "from sklearn.ensemble import RandomForestRegressor,AdaBoostRegressor, RandomForestClassifier\n",
    "from sklearn.decomposition import PCA\n",
    "from sklearn.neural_network import MLPRegressor\n"
   ]
  },
  {
   "cell_type": "markdown",
   "metadata": {},
   "source": [
    "### Exploatory data analysis"
   ]
  },
  {
   "cell_type": "markdown",
   "metadata": {},
   "source": [
    "#### Data cleaning"
   ]
  },
  {
   "cell_type": "code",
   "execution_count": 2,
   "metadata": {
    "collapsed": false
   },
   "outputs": [
    {
     "data": {
      "text/plain": [
       "Index(['color', 'director_name', 'num_critic_for_reviews', 'duration',\n",
       "       'director_facebook_likes', 'actor_3_facebook_likes', 'actor_2_name',\n",
       "       'actor_1_facebook_likes', 'gross', 'genres', 'actor_1_name',\n",
       "       'movie_title', 'num_voted_users', 'cast_total_facebook_likes',\n",
       "       'actor_3_name', 'facenumber_in_poster', 'plot_keywords',\n",
       "       'movie_imdb_link', 'num_user_for_reviews', 'language', 'country',\n",
       "       'content_rating', 'budget', 'title_year', 'actor_2_facebook_likes',\n",
       "       'imdb_score', 'aspect_ratio', 'movie_facebook_likes'],\n",
       "      dtype='object')"
      ]
     },
     "execution_count": 2,
     "metadata": {},
     "output_type": "execute_result"
    }
   ],
   "source": [
    "movie_data = pd.read_csv (\"movie_metadata.csv\")\n",
    "movie_data.columns"
   ]
  },
  {
   "cell_type": "markdown",
   "metadata": {},
   "source": [
    "These are my attributes."
   ]
  },
  {
   "cell_type": "code",
   "execution_count": 3,
   "metadata": {
    "collapsed": false
   },
   "outputs": [],
   "source": [
    "#movie_data=movie_data.dropna()\n",
    "#\n",
    "#attributes = pd.get_dummies(movie_data.drop(['gross',\n",
    "#                              'actor_2_name','genres','actor_1_name','movie_title','actor_3_name','plot_keywords',\n",
    "#                               'movie_imdb_link', 'content_rating',                              \n",
    "#                             ],axis=1))\n",
    "#labels = movie_data.gross\n",
    "#scl=StandardScaler().fit(attributes)\n",
    "#scl_a=scl.transform(attributes)\n",
    "#model=RandomForestRegressor(n_estimators=1000,n_jobs=-1)\n",
    "#params={'n_estimators':[10,100,1000],'max_depth':[None,1,2,3]}\n",
    "#grid=GridSearchCV(model,params)\n",
    "#grid.fit(scl_a,labels)\n",
    "\n"
   ]
  },
  {
   "cell_type": "code",
   "execution_count": 4,
   "metadata": {
    "collapsed": true
   },
   "outputs": [],
   "source": [
    "#cross_val_score(grid,scl_a,labels,cv=10,n_jobs=-1)"
   ]
  },
  {
   "cell_type": "code",
   "execution_count": 5,
   "metadata": {
    "collapsed": false
   },
   "outputs": [],
   "source": [
    "#fr=RandomForestRegressor(n_estimators=100,max_depth=15,n_jobs=-1)\n",
    "#attr_train,attr_test,l_train,l_test=train_test_split(scl_a,labels,train_size=0.9)\n",
    "#fr.fit(attr_train,l_train)\n",
    "#predicted=fr.predict(attr_test)\n",
    "#print(fr.score(attr_test,l_test))\n",
    "#print(l_test)\n",
    "#print(predicted.std())"
   ]
  },
  {
   "cell_type": "code",
   "execution_count": 6,
   "metadata": {
    "collapsed": false
   },
   "outputs": [],
   "source": [
    "#fr2=RandomForestRegressor()\n",
    "#params={'n_estimators':[10,100,1000,2000],'max_depth':[None,1,10,100]}\n",
    "#grid=GridSearchCV(fr2,params)\n",
    "#grid.fit(attr_train,l_train)\n",
    "#print(grid.best_params_)\n",
    "#print(grid.best_score_)"
   ]
  },
  {
   "cell_type": "code",
   "execution_count": 7,
   "metadata": {
    "collapsed": false
   },
   "outputs": [
    {
     "name": "stdout",
     "output_type": "stream",
     "text": [
      "color\n",
      "director_name\n",
      "num_critic_for_reviews\n",
      "duration\n",
      "director_facebook_likes\n",
      "actor_3_facebook_likes\n",
      "actor_2_name\n",
      "actor_1_facebook_likes\n",
      "gross\n",
      "actor_1_name\n",
      "actor_3_name\n",
      "facenumber_in_poster\n",
      "plot_keywords\n",
      "num_user_for_reviews\n",
      "language\n",
      "country\n",
      "content_rating\n",
      "budget\n",
      "title_year\n",
      "actor_2_facebook_likes\n",
      "aspect_ratio\n",
      "(19,)\n",
      "(104,)\n",
      "(50,)\n",
      "(15,)\n",
      "(104,)\n",
      "(23,)\n",
      "(13,)\n",
      "(7,)\n",
      "(884,)\n",
      "(7,)\n",
      "(23,)\n",
      "(13,)\n",
      "(153,)\n",
      "(21,)\n",
      "(12,)\n",
      "(5,)\n",
      "(303,)\n",
      "(492,)\n",
      "(108,)\n",
      "(13,)\n",
      "(329,)\n"
     ]
    }
   ],
   "source": [
    "columns = movie_data.columns\n",
    "for col in columns:\n",
    "    \n",
    "    if movie_data['%s'% (col)].isnull().any()==True:\n",
    "        print(col)\n",
    "print(movie_data.color[movie_data.color.isnull()].shape) \n",
    "print(movie_data.director_name[movie_data.director_name.isnull()].shape) \n",
    "print(movie_data.num_critic_for_reviews[movie_data.num_critic_for_reviews.isnull()].shape )  #fill NaN here\n",
    "print(movie_data.duration[movie_data.duration.isnull()].shape)  # fill NaN here\n",
    "print(movie_data.director_facebook_likes[movie_data.director_facebook_likes.isnull()].shape)   # fill NaN here\n",
    "print(movie_data.actor_3_facebook_likes[movie_data.actor_3_facebook_likes.isnull()].shape )  # fill NaN here\n",
    "print(movie_data.actor_2_name[movie_data.actor_2_name.isnull()].shape)   \n",
    "print(movie_data.actor_1_facebook_likes[movie_data.actor_1_facebook_likes.isnull()].shape )  # fill NaN here\n",
    "print(movie_data.gross[movie_data.gross.isnull()].shape)   # fill Nan here\n",
    "print(movie_data.actor_1_name[movie_data.actor_1_name.isnull()].shape  ) \n",
    "print(movie_data.actor_3_name[movie_data.actor_3_name.isnull()].shape )  \n",
    "print(movie_data.facenumber_in_poster[movie_data.facenumber_in_poster.isnull()].shape   )# fill NaN here\n",
    "print(movie_data.plot_keywords[movie_data.plot_keywords.isnull()].shape  ) \n",
    "print(movie_data.num_user_for_reviews[movie_data.num_user_for_reviews.isnull()].shape   )# fill NaN here\n",
    "print(movie_data.language[movie_data.language.isnull()].shape   )\n",
    "print(movie_data.country[movie_data.country.isnull()].shape) \n",
    "print(movie_data.content_rating[movie_data.content_rating.isnull()].shape)  \n",
    "print(movie_data.budget[movie_data.budget.isnull()].shape) # fill NaN here  \n",
    "print(movie_data.title_year[movie_data.title_year.isnull()].shape) \n",
    "print(movie_data.actor_2_facebook_likes[movie_data.actor_2_facebook_likes.isnull()].shape)  \n",
    "print(movie_data.aspect_ratio[movie_data.aspect_ratio.isnull()].shape)# fill Nan here\n",
    "\n"
   ]
  },
  {
   "cell_type": "markdown",
   "metadata": {},
   "source": [
    "After I checked for Nan's it turned out that there aren't that many. Nevertheless I am going to fill most of them with their mean value."
   ]
  },
  {
   "cell_type": "code",
   "execution_count": 8,
   "metadata": {
    "collapsed": false
   },
   "outputs": [],
   "source": [
    "movie_data.num_critic_for_reviews=movie_data.num_critic_for_reviews.fillna(movie_data.num_critic_for_reviews.mean())\n",
    "movie_data.duration = movie_data.duration.fillna(movie_data.duration.mean())\n",
    "real_director_likes= movie_data.director_facebook_likes[movie_data.director_facebook_likes!=0]\n",
    "real_director_likes = real_director_likes.dropna()\n",
    "movie_data.director_facebook_likes=movie_data.director_facebook_likes.fillna(real_director_likes.mean())\n",
    "\n",
    "movie_data.actor_3_facebook_likes= movie_data.actor_3_facebook_likes.fillna(movie_data.actor_3_facebook_likes.mean())\n",
    "\n",
    "gross_real_values= movie_data.gross[movie_data.gross !=0]\n",
    "gross_real_values= gross_real_values.dropna()\n",
    "movie_data.gross= movie_data.gross.fillna(gross_real_values.mean())\n",
    "\n",
    "movie_data.gross = movie_data.gross/1000000\n",
    "movie_data.facenumber_in_poster= movie_data.facenumber_in_poster.fillna(movie_data.facenumber_in_poster.mean())\n",
    "movie_data.num_user_for_reviews= movie_data.num_user_for_reviews.fillna(movie_data.num_user_for_reviews.mean())\n",
    "movie_data.budget= movie_data.budget.fillna(movie_data.budget.mean())\n",
    "movie_data.budget= movie_data.budget/1000000\n",
    "movie_data.aspect_ratio= movie_data.aspect_ratio.fillna(movie_data.aspect_ratio.mean())\n",
    "movie_data=movie_data.dropna().reset_index(drop=True)\n"
   ]
  },
  {
   "cell_type": "markdown",
   "metadata": {},
   "source": [
    "Some columns had an unusual amount of 0's so I read in the documentation that this was a web scraper bug so I did't use them for the filling."
   ]
  },
  {
   "cell_type": "code",
   "execution_count": 9,
   "metadata": {
    "collapsed": false
   },
   "outputs": [
    {
     "data": {
      "image/png": "[encoded data removed]",
      "text/plain": [
       "<matplotlib.figure.Figure at 0x2331f0426a0>"
      ]
     },
     "metadata": {},
     "output_type": "display_data"
    }
   ],
   "source": [
    "basic_matrix=movie_data.corr()\n",
    "sns.heatmap(basic_matrix, square=True,annot=True)\n",
    "plt.show()"
   ]
  },
  {
   "cell_type": "markdown",
   "metadata": {},
   "source": [
    "Here is a correlation matrix of all numerical variables. I am using it so I can see the data better and because of the strong correlation between the facebook likes of the first actor and the number of critics for reviews I am going to drop the one of them."
   ]
  },
  {
   "cell_type": "code",
   "execution_count": 10,
   "metadata": {
    "collapsed": false
   },
   "outputs": [
    {
     "data": {
      "text/plain": [
       "(4581, 26)"
      ]
     },
     "execution_count": 10,
     "metadata": {},
     "output_type": "execute_result"
    }
   ],
   "source": [
    "movie_data = movie_data.drop(['actor_1_facebook_likes'],axis=1)\n",
    "movie_data = movie_data.drop(['movie_imdb_link'], axis=1)\n",
    "movie_data.shape"
   ]
  },
  {
   "cell_type": "code",
   "execution_count": 11,
   "metadata": {
    "collapsed": false
   },
   "outputs": [
    {
     "data": {
      "image/png": "[encoded data removed]",
      "text/plain": [
       "<matplotlib.figure.Figure at 0x2331ed36ef0>"
      ]
     },
     "metadata": {},
     "output_type": "display_data"
    },
    {
     "name": "stdout",
     "output_type": "stream",
     "text": [
      "987     The Messenger: The Story of Joan of Arc \n",
      "1300                                  Red Cliff \n",
      "2246                          Princess Mononoke \n",
      "2257                                   Steamboy \n",
      "2880                                   The Host \n",
      "2897                                   Fateless \n",
      "2962                     Kabhi Alvida Naa Kehna \n",
      "3178                   The Legend of Suriyothai \n",
      "3278                                      Akira \n",
      "3657                                      Tango \n",
      "3665                             Lady Vengeance \n",
      "4231                              Godzilla 2000 \n",
      "Name: movie_title, dtype: object\n"
     ]
    },
    {
     "name": "stderr",
     "output_type": "stream",
     "text": [
      "C:\\Users\\Lenovo\\Anaconda3\\lib\\site-packages\\pandas\\core\\indexing.py:141: SettingWithCopyWarning: \n",
      "A value is trying to be set on a copy of a slice from a DataFrame\n",
      "\n",
      "See the caveats in the documentation: http://pandas.pydata.org/pandas-docs/stable/indexing.html#indexing-view-versus-copy\n",
      "  self._setitem_with_indexer(indexer, value)\n"
     ]
    }
   ],
   "source": [
    "plt.scatter(movie_data.title_year,movie_data.budget)\n",
    "plt.xlabel(\"Year of release\")\n",
    "plt.ylabel(\"Budget in milions\")\n",
    "plt.show()\n",
    "odd_movies= movie_data[movie_data.budget>380]\n",
    "print(odd_movies.movie_title)\n",
    "\n",
    "\n",
    "movie_data.budget.loc[movie_data.budget==390.000000]=85\n",
    "movie_data.budget.loc[movie_data.budget==553.632000]=36\n",
    "movie_data.budget.loc[movie_data.budget==2400.000000]=23.5\n",
    "movie_data.budget.loc[movie_data.budget==2127.519898]=22\n",
    "movie_data.budget.loc[movie_data.budget==12215.500000]=40\n",
    "movie_data.budget.loc[movie_data.budget==2500.000000]=8.5\n",
    "movie_data.budget.loc[movie_data.budget==700.000000]=7.4\n",
    "movie_data.budget.loc[movie_data.budget==400.000000]=10.1\n",
    "movie_data.budget.loc[movie_data.budget==1100.000000]=8\n",
    "movie_data.budget.loc[movie_data.budget== 700.000000]=4.206\n",
    "movie_data.budget.loc[movie_data.budget== 4200.000000]=4.5\n",
    "movie_data.budget.loc[movie_data.budget==1000.000000]=8.3\n",
    "\n",
    "\n",
    "\n"
   ]
  },
  {
   "cell_type": "markdown",
   "metadata": {},
   "source": [
    "Here I am looking at how the budjet of a film is variating with time.However I googled the record budget for a movie and it was 380 000 000 not 1.2 billion dollars. So i fixed them with the help of Google and the plot below is the accurate one."
   ]
  },
  {
   "cell_type": "code",
   "execution_count": 12,
   "metadata": {
    "collapsed": false
   },
   "outputs": [
    {
     "data": {
      "image/png": "[encoded data removed]",
      "text/plain": [
       "<matplotlib.figure.Figure at 0x2331efcf400>"
      ]
     },
     "metadata": {},
     "output_type": "display_data"
    },
    {
     "data": {
      "image/png": "[encoded data removed]",
      "text/plain": [
       "<matplotlib.figure.Figure at 0x2331a637400>"
      ]
     },
     "metadata": {},
     "output_type": "display_data"
    },
    {
     "data": {
      "image/png": "[encoded data removed]",
      "text/plain": [
       "<matplotlib.figure.Figure at 0x2331e994048>"
      ]
     },
     "metadata": {},
     "output_type": "display_data"
    }
   ],
   "source": [
    "plt.scatter(movie_data.title_year,movie_data.budget)\n",
    "plt.xlim(1920,2018)\n",
    "plt.xlabel(\"Year of release\")\n",
    "plt.ylabel(\"Budget in milions\")\n",
    "plt.show()\n",
    "\n",
    "plt.hist(movie_data.imdb_score,bins=30)\n",
    "plt.xlabel(\"IMDB score\")\n",
    "plt.ylabel(\"Number of movies\")\n",
    "plt.show()\n",
    "\n",
    "plt.hist(movie_data.title_year, bins= 50)\n",
    "plt.xlim(1920,2020)\n",
    "plt.xlabel(\"Year\")\n",
    "plt.ylabel(\"Number of movies\")\n",
    "plt.show()"
   ]
  },
  {
   "cell_type": "markdown",
   "metadata": {},
   "source": [
    "From the plot I can see something very bad. There are very few movies with rating above 9 and below let's say 4 in comparison with those with ratings 5,6,7,8."
   ]
  },
  {
   "cell_type": "markdown",
   "metadata": {},
   "source": [
    "More bad news. The movies before 1980 are very few in number compared to those after."
   ]
  },
  {
   "cell_type": "markdown",
   "metadata": {},
   "source": [
    "I am going to create a method to help me with the plotting."
   ]
  },
  {
   "cell_type": "code",
   "execution_count": 13,
   "metadata": {
    "collapsed": false
   },
   "outputs": [],
   "source": [
    "def plotting_from_high_to_low(parameter,xlabel,ylabel):\n",
    "    group_country = movie_data.groupby(by=parameter,as_index=False)\n",
    "    number_per_country=group_country.size()\n",
    "    country_to_count ={}\n",
    "\n",
    "    names=[]\n",
    "    for g in group_country:\n",
    "        names.append(g[0])\n",
    "\n",
    "\n",
    "    counter=0\n",
    "    for o in number_per_country:\n",
    "        country_to_count[names[counter]]=o\n",
    "        counter+=1\n",
    "    v_counter=0\n",
    "    values=[]\n",
    "    for z in sorted(country_to_count.values(),reverse=True):\n",
    "        values.append(z)\n",
    "        if v_counter>8:\n",
    "            break\n",
    "        v_counter+=1\n",
    "    n_counter=0\n",
    "    name=[]\n",
    "    for y in sorted(country_to_count, key=country_to_count.__getitem__,reverse=True):\n",
    "        name.append(y)\n",
    "        if n_counter>8:\n",
    "            break\n",
    "        n_counter+=1\n",
    "\n",
    "    plt.bar(left=range(10),height=values,align='center')\n",
    "    plt.xticks(range(10),name,rotation=90)\n",
    "    plt.xlabel(xlabel)\n",
    "    plt.ylabel(ylabel)\n",
    "    plt.show()"
   ]
  },
  {
   "cell_type": "code",
   "execution_count": 14,
   "metadata": {
    "collapsed": false
   },
   "outputs": [
    {
     "data": {
      "image/png": "[encoded data removed]",
      "text/plain": [
       "<matplotlib.figure.Figure at 0x2331e3f2278>"
      ]
     },
     "metadata": {},
     "output_type": "display_data"
    },
    {
     "data": {
      "image/png": "[encoded data removed]",
      "text/plain": [
       "<matplotlib.figure.Figure at 0x2331eaefba8>"
      ]
     },
     "metadata": {},
     "output_type": "display_data"
    },
    {
     "data": {
      "image/png": "[encoded data removed]",
      "text/plain": [
       "<matplotlib.figure.Figure at 0x2331ec1dd30>"
      ]
     },
     "metadata": {},
     "output_type": "display_data"
    },
    {
     "data": {
      "image/png": "[encoded data removed]",
      "text/plain": [
       "<matplotlib.figure.Figure at 0x2331ede1a90>"
      ]
     },
     "metadata": {},
     "output_type": "display_data"
    }
   ],
   "source": [
    "plotting_from_high_to_low('language','Languages','Movies')\n",
    "plotting_from_high_to_low('country','Countries','Movies')\n",
    "plotting_from_high_to_low('actor_1_name','Actors','Movies')\n",
    "plotting_from_high_to_low('director_name','Directors','Movies')"
   ]
  },
  {
   "cell_type": "markdown",
   "metadata": {},
   "source": [
    "Clearly the main movie language is English which is logical but is very bad for model training."
   ]
  },
  {
   "cell_type": "code",
   "execution_count": 15,
   "metadata": {
    "collapsed": false
   },
   "outputs": [],
   "source": [
    "\n",
    "#group_country = movie_data.groupby(by='country',as_index=False)\n",
    "#number_per_country=group_country.size()\n",
    "#country_to_count ={}\n",
    "#\n",
    "#names=[]\n",
    "#for g in group_country:\n",
    "#    names.append(g[0])\n",
    "#\n",
    "#\n",
    "#counter=0\n",
    "#for o in number_per_country:\n",
    "#    country_to_count[names[counter]]=o\n",
    "#    counter+=1\n",
    "#v_counter=0\n",
    "#values=[]\n",
    "#for z in sorted(country_to_count.values(),reverse=True):\n",
    "#    values.append(z)\n",
    "#    if v_counter>8:\n",
    "#        break\n",
    "#    v_counter+=1\n",
    "#n_counter=0\n",
    "#name=[]\n",
    "#for y in sorted(country_to_count, key=country_to_count.__getitem__,reverse=True):\n",
    "#    name.append(y)\n",
    "#    if n_counter>8:\n",
    "#        break\n",
    "#    n_counter+=1\n",
    "#\n",
    "#plt.bar(left=range(10),height=values,align='center')\n",
    "#plt.xticks(range(10),name,rotation=90)\n",
    "#plt.show()\n"
   ]
  },
  {
   "cell_type": "markdown",
   "metadata": {},
   "source": [
    "From the diagram I can confidentrly say that the USA are the leader in film making according to my data."
   ]
  },
  {
   "cell_type": "code",
   "execution_count": null,
   "metadata": {
    "collapsed": false
   },
   "outputs": [],
   "source": []
  },
  {
   "cell_type": "markdown",
   "metadata": {},
   "source": [
    "The actor Robert De Niro has the most movies as the main actor.However Johnny Depp isn't too far behind."
   ]
  },
  {
   "cell_type": "code",
   "execution_count": null,
   "metadata": {
    "collapsed": false
   },
   "outputs": [],
   "source": []
  },
  {
   "cell_type": "markdown",
   "metadata": {},
   "source": [
    "And in terms of directors Steven Spilberg is leading in terms of movies made."
   ]
  },
  {
   "cell_type": "code",
   "execution_count": 16,
   "metadata": {
    "collapsed": false
   },
   "outputs": [
    {
     "data": {
      "image/png": "[encoded data removed]",
      "text/plain": [
       "<matplotlib.figure.Figure at 0x2331ec11390>"
      ]
     },
     "metadata": {},
     "output_type": "display_data"
    },
    {
     "data": {
      "image/png": "[encoded data removed]",
      "text/plain": [
       "<matplotlib.figure.Figure at 0x2331ee7fd30>"
      ]
     },
     "metadata": {},
     "output_type": "display_data"
    }
   ],
   "source": [
    "plt.scatter(movie_data.imdb_score, movie_data.gross)\n",
    "plt.xlabel(\"IMDB rating\")\n",
    "plt.ylabel(\"Gross in millions\")\n",
    "plt.show()\n",
    "plt.scatter(movie_data.imdb_score,movie_data.budget)\n",
    "plt.xlabel(\"IMDB rating\")\n",
    "plt.ylabel(\"Budget in millions\")\n",
    "plt.show()\n"
   ]
  },
  {
   "cell_type": "markdown",
   "metadata": {},
   "source": [
    "From the plots I can see that the rating of a movie clearly isn't connected neither to the budget nor to the gross."
   ]
  },
  {
   "cell_type": "code",
   "execution_count": 17,
   "metadata": {
    "collapsed": false
   },
   "outputs": [
    {
     "data": {
      "image/png": "[encoded data removed]",
      "text/plain": [
       "<matplotlib.figure.Figure at 0x2331ebe4fd0>"
      ]
     },
     "metadata": {},
     "output_type": "display_data"
    },
    {
     "name": "stdout",
     "output_type": "stream",
     "text": [
      "4.1257367387\n",
      "95.8742632613\n"
     ]
    }
   ],
   "source": [
    "color_group = movie_data.groupby(by='color')\n",
    "occurences=color_group.size()\n",
    "plt.bar(left=[0,1], height = occurences,align='center')\n",
    "plt.xticks([0,1],[\"Black and White\",\"Color\"] )\n",
    "plt.show()\n",
    "for o in occurences:\n",
    "    print(o/len(movie_data)*100)"
   ]
  },
  {
   "cell_type": "markdown",
   "metadata": {},
   "source": [
    "As I expected only 4.12% of the movies are black and white and almost all have color."
   ]
  },
  {
   "cell_type": "code",
   "execution_count": 18,
   "metadata": {
    "collapsed": false
   },
   "outputs": [],
   "source": [
    "movie_data.language=LabelEncoder().fit_transform(movie_data.language)\n",
    "#print(movie_data.language)\n",
    "movie_data.country=LabelEncoder().fit_transform(movie_data.country)\n",
    "#print(movie_data.country)\n",
    "movie_data.director_name=LabelEncoder().fit_transform(movie_data.director_name)\n",
    "#print(movie_data.director_name)\n",
    "movie_data.actor_1_name=LabelEncoder().fit_transform(movie_data.actor_1_name)\n",
    "#print(movie_data.actor_1_name)"
   ]
  },
  {
   "cell_type": "markdown",
   "metadata": {},
   "source": [
    "### Model testing "
   ]
  },
  {
   "cell_type": "code",
   "execution_count": 19,
   "metadata": {
    "collapsed": false
   },
   "outputs": [],
   "source": [
    "#'color', 'director_name', 'num_critic_for_reviews', 'duration',\n",
    "#       'director_facebook_likes', 'actor_3_facebook_likes', 'actor_2_name',\n",
    "#       'actor_1_facebook_likes', 'gross', 'genres', 'actor_1_name',\n",
    "#       'movie_title', 'num_voted_users', 'cast_total_facebook_likes',\n",
    "#       'actor_3_name', 'facenumber_in_poster', 'plot_keywords',\n",
    "#       'movie_imdb_link', 'num_user_for_reviews', 'language', 'country',\n",
    "#       'content_rating', 'budget', 'title_year', 'actor_2_facebook_likes',\n",
    "#       'imdb_score', 'aspect_ratio', 'movie_facebook_likes'\n",
    "workable_data = movie_data.drop([\"genres\",\"content_rating\",\"movie_title\",\"director_name\",\n",
    "                                 \"actor_1_name\",\"actor_2_name\",\"actor_1_name\",\"plot_keywords\",\"actor_3_name\"], axis=1)\n",
    "scaler=StandardScaler()\n",
    "attributes = scaler.fit_transform(pd.get_dummies(workable_data.drop('imdb_score',axis=1)),workable_data['imdb_score'])\n",
    "labels = workable_data['imdb_score']\n",
    "attr_train,attr_test,l_train,l_test = train_test_split(attributes,labels, train_size=0.7)\n"
   ]
  },
  {
   "cell_type": "markdown",
   "metadata": {},
   "source": [
    "After I have processed the data in a way in which it is scaled, easy to fit and train and I have dropped some of the columns which can't be used or are not appropriate to use. I am going to try different models.\n",
    "First the method is doing a grid search to find the best parameters then it is cross validating twice- the first time for the r2 score and the second time for the negative mean squared error.I am going to evaluate the model's performance with a negative mean squared error and r2 score. My main concern is that the models will be very unstable because of the data."
   ]
  },
  {
   "cell_type": "code",
   "execution_count": 20,
   "metadata": {
    "collapsed": false
   },
   "outputs": [
    {
     "name": "stdout",
     "output_type": "stream",
     "text": [
      "{'fit_intercept': True, 'normalize': False}\n",
      "0.378420682564\n"
     ]
    }
   ],
   "source": [
    "parameters={\"fit_intercept\":[True,False],\"normalize\":[True,False]}\n",
    "score_model = LinearRegression()\n",
    "grid=GridSearchCV(score_model,parameters)\n",
    "grid.fit(attr_train,l_train)\n",
    "print(grid.best_params_)\n",
    "print(grid.best_score_)"
   ]
  },
  {
   "cell_type": "code",
   "execution_count": 21,
   "metadata": {
    "collapsed": true
   },
   "outputs": [],
   "source": [
    "def best_params(model,parameters,attr_train,l_train,attr_test,l_test,attributes,labels):\n",
    "    grid=GridSearchCV(model,parameters)\n",
    "    grid.fit(attr_train,l_train)\n",
    "    kfold= StratifiedKFold(n_splits=5, shuffle = True)\n",
    "    folds = kfold.get_n_splits(attr_train,l_train)\n",
    "    cross= cross_val_score(model,attributes,labels,cv=folds,scoring='r2')\n",
    "    cross2= cross_val_score(model,attributes,labels,cv=folds,scoring='neg_mean_squared_error')\n",
    "\n",
    "    print(grid.best_params_)\n",
    "    print('Grid Score',grid.best_score_)\n",
    "    print('R2 score',cross)\n",
    "    print('Negative mean squared error',cross2)\n",
    " \n",
    "    "
   ]
  },
  {
   "cell_type": "code",
   "execution_count": 22,
   "metadata": {
    "collapsed": false
   },
   "outputs": [
    {
     "data": {
      "text/plain": [
       "array([ 0.36066461,  0.39894648,  0.27459683])"
      ]
     },
     "execution_count": 22,
     "metadata": {},
     "output_type": "execute_result"
    }
   ],
   "source": [
    "score_model=LinearRegression(n_jobs=16)\n",
    "score_model.fit(attr_train,l_train)\n",
    "cross= cross_val_score(score_model,attributes,labels,cv=3,scoring='r2')\n",
    "cross"
   ]
  },
  {
   "cell_type": "code",
   "execution_count": 23,
   "metadata": {
    "collapsed": false
   },
   "outputs": [
    {
     "name": "stdout",
     "output_type": "stream",
     "text": [
      "{'alpha': 1}\n",
      "Grid Score -0.0022978722614\n",
      "R2 score [-0.00432857 -0.00602907 -0.01575349 -0.003927   -0.00557895]\n",
      "Negative mean squared error [-0.9992169  -0.996503   -1.39344431 -1.1742522  -1.48718679]\n"
     ]
    }
   ],
   "source": [
    "lasso_model = Lasso()\n",
    "parameters={\"alpha\": [1,1.1,1.2,1.3,1.4]}\n",
    "best_params(lasso_model,parameters,attr_train,l_train,attr_test,l_test,attributes,labels)"
   ]
  },
  {
   "cell_type": "code",
   "execution_count": 24,
   "metadata": {
    "collapsed": false
   },
   "outputs": [
    {
     "name": "stdout",
     "output_type": "stream",
     "text": [
      "{'alpha': 8}\n",
      "Grid Score 0.378540958006\n",
      "R2 score [ 0.36873787  0.4201919   0.38343073  0.33703992  0.28698385]\n",
      "Negative mean squared error [-0.62804923 -0.5743179  -0.84583016 -0.77543719 -1.05450517]\n"
     ]
    }
   ],
   "source": [
    "ridge_model = Ridge()\n",
    "parameters={\"alpha\": [2,5,3,4,6,7,8]}\n",
    "best_params(ridge_model,parameters,attr_train,l_train,attr_test,l_test,attributes,labels)\n"
   ]
  },
  {
   "cell_type": "code",
   "execution_count": 25,
   "metadata": {
    "collapsed": false
   },
   "outputs": [
    {
     "name": "stdout",
     "output_type": "stream",
     "text": [
      "{'alpha': 2, 'l1_ratio': 0.1}\n",
      "Grid Score 0.11966704455\n",
      "R2 score [-0.00432857 -0.00439645 -0.01575349  0.00491515  0.00362176]\n",
      "Negative mean squared error [-0.9992169  -0.99488583 -1.39344431 -1.1639099  -1.47357954]\n"
     ]
    }
   ],
   "source": [
    "elastic_model=ElasticNet()\n",
    "parameters={\"alpha\": [2,5,3,4,6,7,8],\"l1_ratio\":[0.1,0.2,0.3,0.4,0.5]}\n",
    "best_params(elastic_model,parameters,attr_train,l_train,attr_test,l_test,attributes,labels)"
   ]
  },
  {
   "cell_type": "code",
   "execution_count": 26,
   "metadata": {
    "collapsed": false
   },
   "outputs": [
    {
     "name": "stdout",
     "output_type": "stream",
     "text": [
      "{}\n",
      "Grid Score -0.949647645178\n",
      "R2 score [ -1.36101037e+00  -2.72878236e+00  -2.74292084e+00  -2.50010049e+03\n",
      "  -4.00770791e-02]\n",
      "Negative mean squared error [ -6.11065372 -13.85041446  -1.72294594  -1.5860196   -2.41236309]\n"
     ]
    }
   ],
   "source": [
    "ransac=RANSACRegressor()\n",
    "params={}\n",
    "best_params(ransac,params,attr_train,l_train,attr_test,l_test,attributes,labels)"
   ]
  },
  {
   "cell_type": "code",
   "execution_count": 27,
   "metadata": {
    "collapsed": false
   },
   "outputs": [
    {
     "name": "stdout",
     "output_type": "stream",
     "text": [
      "{'criterion': 'mse', 'max_depth': 6}\n",
      "Grid Score 0.346453171916\n",
      "R2 score [ 0.10618143  0.06454833  0.11139524  0.02580493 -0.26642306]\n",
      "Negative mean squared error [-0.94858233 -0.96052402 -1.24113537 -1.18       -2.11578603]\n"
     ]
    }
   ],
   "source": [
    "tree= DecisionTreeRegressor()\n",
    "parameters={\"criterion\": ['mse','mae'],\"max_depth\":[None,1,2,3,5,6]}\n",
    "best_params(tree,parameters,attr_train,l_train,attr_test,l_test,attributes,labels)"
   ]
  },
  {
   "cell_type": "code",
   "execution_count": 28,
   "metadata": {
    "collapsed": false
   },
   "outputs": [
    {
     "name": "stdout",
     "output_type": "stream",
     "text": [
      "{'max_depth': None, 'n_estimators': 1000}\n",
      "Grid Score 0.515313777405\n",
      "R2 score [ 0.44157856  0.51012547  0.49101876  0.39352773  0.2922386 ]\n",
      "Negative mean squared error [-0.54215518 -0.48286255 -0.72692729 -0.65891277 -1.03469541]\n"
     ]
    }
   ],
   "source": [
    "forest = RandomForestRegressor(n_jobs=-1)\n",
    "parameters={\"n_estimators\":[100,500,1000],\"max_depth\":[None,1,10,50,30]}\n",
    "best_params(forest,parameters,attr_train,l_train,attr_test,l_test,attributes,labels)"
   ]
  },
  {
   "cell_type": "code",
   "execution_count": 29,
   "metadata": {
    "collapsed": false
   },
   "outputs": [
    {
     "name": "stdout",
     "output_type": "stream",
     "text": [
      "{'learning_rate': 0.1, 'n_estimators': 50}\n",
      "Grid Score 0.360647382936\n",
      "R2 score [ 0.32367315  0.41415524  0.40037816  0.11965519 -0.06174413]\n",
      "Negative mean squared error [-0.63687811 -0.61521033 -0.83957477 -1.03923291 -1.53580889]\n"
     ]
    }
   ],
   "source": [
    "adaboost = AdaBoostRegressor()\n",
    "parameters={ 'n_estimators' :[200, 100, 50,25], 'learning_rate':[0.5, 0.1,1]}\n",
    "best_params(adaboost,parameters,attr_train,l_train,attr_test,l_test,attributes,labels)"
   ]
  },
  {
   "cell_type": "code",
   "execution_count": 30,
   "metadata": {
    "collapsed": false
   },
   "outputs": [
    {
     "name": "stdout",
     "output_type": "stream",
     "text": [
      "{'alpha_1': 0.0001, 'alpha_2': 1, 'fit_intercept': True, 'lambda_1': 1e-08, 'lambda_2': 1e-06, 'n_iter': 100, 'normalize': False, 'tol': 1}\n",
      "Grid Score 0.378547897753\n",
      "R2 score [ 0.3738231   0.42052365  0.38266931  0.33647501  0.28686408]\n",
      "Negative mean squared error [-0.62298989 -0.5739893  -0.8468747  -0.77609794 -1.05468231]\n"
     ]
    }
   ],
   "source": [
    "br=BayesianRidge()\n",
    "params={'n_iter':[100,200],'tol':[0.001,0.01,1,10],'alpha_1':[1e-06,1e-05,1e-04],\n",
    "        'alpha_2':[10,100,1],\n",
    "        'lambda_1':[1e-08,1e-06,1e-07], \n",
    "        'lambda_2':[1e-08,1e-06,1e-07],\n",
    "        'fit_intercept':[True,False],'normalize':[True,False]}\n",
    "best_params(br,params,attr_train,l_train,attr_test,l_test,attributes,labels)"
   ]
  },
  {
   "cell_type": "code",
   "execution_count": 31,
   "metadata": {
    "collapsed": false
   },
   "outputs": [
    {
     "name": "stdout",
     "output_type": "stream",
     "text": [
      "MLPRegressor(activation='relu', alpha=0.0001, batch_size='auto', beta_1=0.9,\n",
      "       beta_2=0.999, early_stopping=False, epsilon=1e-08,\n",
      "       hidden_layer_sizes=(500, 500), learning_rate='constant',\n",
      "       learning_rate_init=0.001, max_iter=200, momentum=0.9,\n",
      "       nesterovs_momentum=True, power_t=0.5, random_state=None,\n",
      "       shuffle=True, solver='adam', tol=0.0001, validation_fraction=0.1,\n",
      "       verbose=False, warm_start=False)\n"
     ]
    }
   ],
   "source": [
    "nn=MLPRegressor()\n",
    "params={\"hidden_layer_sizes\":[(10,10,10,10,10),(100,100,100),(500,500),(66,66,66),(50,60,70,20)]}\n",
    "search = GridSearchCV(nn,params,n_jobs=-1)\n",
    "search.fit(attr_train,l_train)\n",
    "print(search.best_estimator_)"
   ]
  },
  {
   "cell_type": "code",
   "execution_count": 32,
   "metadata": {
    "collapsed": false
   },
   "outputs": [
    {
     "name": "stdout",
     "output_type": "stream",
     "text": [
      "0.361824812585\n",
      "0.530656484977\n"
     ]
    }
   ],
   "source": [
    "print(search.score(attr_test,l_test))\n",
    "print(search.score(attr_train,l_train))"
   ]
  },
  {
   "cell_type": "code",
   "execution_count": 33,
   "metadata": {
    "collapsed": false
   },
   "outputs": [
    {
     "name": "stdout",
     "output_type": "stream",
     "text": [
      "[ 0.32667552  0.39402996  0.2551191 ]\n",
      "[-0.71112985 -0.76598469 -1.01549417]\n"
     ]
    }
   ],
   "source": [
    "nn1=MLPRegressor(hidden_layer_sizes=(10,10,10,10,10))\n",
    "print(cross_val_score(nn1,attributes,labels,n_jobs=-1,scoring='r2'))\n",
    "print(cross_val_score(nn1,attributes,labels,n_jobs=-1,scoring='neg_mean_squared_error'))"
   ]
  },
  {
   "cell_type": "code",
   "execution_count": 34,
   "metadata": {
    "collapsed": false
   },
   "outputs": [],
   "source": [
    "#svm = SVR()\n",
    "#parameters={'kernel':['linear'],'C':[1000],'epsilon':[1]}\n",
    "#best_params(svm,parameters,attr_train,l_train,attr_test,l_test,attributes,labels)"
   ]
  },
  {
   "cell_type": "markdown",
   "metadata": {},
   "source": [
    "After testing many models I can see that the Ridge regression, the Random Forest,AdaBoost,Bayesian Ridge and the Support Vector Machines are giving me useful results and I would say that the support vector machines are the best model to use because they are the most stable one depsite still having a difference of 8.5% between the lowest and the highest result."
   ]
  },
  {
   "cell_type": "code",
   "execution_count": 35,
   "metadata": {
    "collapsed": false
   },
   "outputs": [],
   "source": [
    "#svm1=SVR(C=1000, epsilon=1, kernel=\"linear\")\n",
    "#svm1.fit(attr_train,l_train)"
   ]
  },
  {
   "cell_type": "code",
   "execution_count": 36,
   "metadata": {
    "collapsed": false
   },
   "outputs": [
    {
     "ename": "NameError",
     "evalue": "name 'svm1' is not defined",
     "output_type": "error",
     "traceback": [
      "\u001b[0;31m---------------------------------------------------------------------------\u001b[0m",
      "\u001b[0;31mNameError\u001b[0m                                 Traceback (most recent call last)",
      "\u001b[0;32m<ipython-input-36-37044ade1899>\u001b[0m in \u001b[0;36m<module>\u001b[0;34m()\u001b[0m\n\u001b[0;32m----> 1\u001b[0;31m \u001b[0mpredicted\u001b[0m\u001b[1;33m=\u001b[0m\u001b[0msvm1\u001b[0m\u001b[1;33m.\u001b[0m\u001b[0mpredict\u001b[0m\u001b[1;33m(\u001b[0m\u001b[0mattr_test\u001b[0m\u001b[1;33m)\u001b[0m\u001b[1;33m\u001b[0m\u001b[0m\n\u001b[0m\u001b[1;32m      2\u001b[0m \u001b[0my\u001b[0m\u001b[1;33m=\u001b[0m\u001b[0ml_test\u001b[0m\u001b[1;33m-\u001b[0m\u001b[0mpredicted\u001b[0m\u001b[1;33m\u001b[0m\u001b[0m\n\u001b[1;32m      3\u001b[0m \u001b[0mprint\u001b[0m\u001b[1;33m(\u001b[0m\u001b[0my\u001b[0m\u001b[1;33m.\u001b[0m\u001b[0mmean\u001b[0m\u001b[1;33m(\u001b[0m\u001b[1;33m)\u001b[0m\u001b[1;33m)\u001b[0m\u001b[1;33m\u001b[0m\u001b[0m\n\u001b[1;32m      4\u001b[0m \u001b[0mplt\u001b[0m\u001b[1;33m.\u001b[0m\u001b[0mscatter\u001b[0m\u001b[1;33m(\u001b[0m\u001b[0mpredicted\u001b[0m\u001b[1;33m,\u001b[0m\u001b[0my\u001b[0m\u001b[1;33m)\u001b[0m\u001b[1;33m\u001b[0m\u001b[0m\n\u001b[1;32m      5\u001b[0m \u001b[0mplt\u001b[0m\u001b[1;33m.\u001b[0m\u001b[0mtitle\u001b[0m\u001b[1;33m(\u001b[0m\u001b[1;34m\"SVM\"\u001b[0m\u001b[1;33m)\u001b[0m\u001b[1;33m\u001b[0m\u001b[0m\n",
      "\u001b[0;31mNameError\u001b[0m: name 'svm1' is not defined"
     ]
    }
   ],
   "source": [
    "predicted=svm1.predict(attr_test)\n",
    "y=l_test-predicted\n",
    "print(y.mean())\n",
    "plt.scatter(predicted,y)\n",
    "plt.title(\"SVM\")\n",
    "plt.show()\n",
    "\n",
    "plt.title(\"SVM\")\n",
    "plt.hist(y, bins=40)\n",
    "plt.show()\n"
   ]
  },
  {
   "cell_type": "markdown",
   "metadata": {},
   "source": [
    "After I plotted some error plots I can say I am not very happy with the results so I am going to try to implement inflation and a few other tricks."
   ]
  },
  {
   "cell_type": "code",
   "execution_count": 37,
   "metadata": {
    "collapsed": false
   },
   "outputs": [
    {
     "data": {
      "text/html": [
       "<div>\n",
       "<table border=\"1\" class=\"dataframe\">\n",
       "  <thead>\n",
       "    <tr style=\"text-align: right;\">\n",
       "      <th></th>\n",
       "      <th>year</th>\n",
       "      <th>jan</th>\n",
       "      <th>feb</th>\n",
       "      <th>mar</th>\n",
       "      <th>apr</th>\n",
       "      <th>may</th>\n",
       "      <th>june</th>\n",
       "      <th>jule</th>\n",
       "      <th>aug</th>\n",
       "      <th>sep</th>\n",
       "      <th>oct</th>\n",
       "      <th>nov</th>\n",
       "      <th>dec</th>\n",
       "      <th>mean</th>\n",
       "    </tr>\n",
       "  </thead>\n",
       "  <tbody>\n",
       "    <tr>\n",
       "      <th>0</th>\n",
       "      <td>1913</td>\n",
       "      <td>9.8</td>\n",
       "      <td>9.8</td>\n",
       "      <td>9.8</td>\n",
       "      <td>9.8</td>\n",
       "      <td>9.7</td>\n",
       "      <td>9.8</td>\n",
       "      <td>9.9</td>\n",
       "      <td>9.9</td>\n",
       "      <td>10.0</td>\n",
       "      <td>10.0</td>\n",
       "      <td>10.1</td>\n",
       "      <td>10.0</td>\n",
       "      <td>9.883333</td>\n",
       "    </tr>\n",
       "    <tr>\n",
       "      <th>1</th>\n",
       "      <td>1914</td>\n",
       "      <td>10.0</td>\n",
       "      <td>9.9</td>\n",
       "      <td>9.9</td>\n",
       "      <td>9.8</td>\n",
       "      <td>9.9</td>\n",
       "      <td>9.9</td>\n",
       "      <td>10.0</td>\n",
       "      <td>10.2</td>\n",
       "      <td>10.2</td>\n",
       "      <td>10.1</td>\n",
       "      <td>10.2</td>\n",
       "      <td>10.1</td>\n",
       "      <td>10.016667</td>\n",
       "    </tr>\n",
       "    <tr>\n",
       "      <th>2</th>\n",
       "      <td>1915</td>\n",
       "      <td>10.1</td>\n",
       "      <td>10.0</td>\n",
       "      <td>9.9</td>\n",
       "      <td>10.0</td>\n",
       "      <td>10.1</td>\n",
       "      <td>10.1</td>\n",
       "      <td>10.1</td>\n",
       "      <td>10.1</td>\n",
       "      <td>10.1</td>\n",
       "      <td>10.2</td>\n",
       "      <td>10.3</td>\n",
       "      <td>10.3</td>\n",
       "      <td>10.108333</td>\n",
       "    </tr>\n",
       "    <tr>\n",
       "      <th>3</th>\n",
       "      <td>1916</td>\n",
       "      <td>10.4</td>\n",
       "      <td>10.4</td>\n",
       "      <td>10.5</td>\n",
       "      <td>10.6</td>\n",
       "      <td>10.7</td>\n",
       "      <td>10.8</td>\n",
       "      <td>10.8</td>\n",
       "      <td>10.9</td>\n",
       "      <td>11.1</td>\n",
       "      <td>11.3</td>\n",
       "      <td>11.5</td>\n",
       "      <td>11.6</td>\n",
       "      <td>10.883333</td>\n",
       "    </tr>\n",
       "    <tr>\n",
       "      <th>4</th>\n",
       "      <td>1917</td>\n",
       "      <td>11.7</td>\n",
       "      <td>12.0</td>\n",
       "      <td>12.0</td>\n",
       "      <td>12.6</td>\n",
       "      <td>12.8</td>\n",
       "      <td>13.0</td>\n",
       "      <td>12.8</td>\n",
       "      <td>13.0</td>\n",
       "      <td>13.3</td>\n",
       "      <td>13.5</td>\n",
       "      <td>13.5</td>\n",
       "      <td>13.7</td>\n",
       "      <td>12.825000</td>\n",
       "    </tr>\n",
       "  </tbody>\n",
       "</table>\n",
       "</div>"
      ],
      "text/plain": [
       "   year   jan   feb   mar   apr   may  june  jule   aug   sep   oct   nov  \\\n",
       "0  1913   9.8   9.8   9.8   9.8   9.7   9.8   9.9   9.9  10.0  10.0  10.1   \n",
       "1  1914  10.0   9.9   9.9   9.8   9.9   9.9  10.0  10.2  10.2  10.1  10.2   \n",
       "2  1915  10.1  10.0   9.9  10.0  10.1  10.1  10.1  10.1  10.1  10.2  10.3   \n",
       "3  1916  10.4  10.4  10.5  10.6  10.7  10.8  10.8  10.9  11.1  11.3  11.5   \n",
       "4  1917  11.7  12.0  12.0  12.6  12.8  13.0  12.8  13.0  13.3  13.5  13.5   \n",
       "\n",
       "    dec       mean  \n",
       "0  10.0   9.883333  \n",
       "1  10.1  10.016667  \n",
       "2  10.3  10.108333  \n",
       "3  11.6  10.883333  \n",
       "4  13.7  12.825000  "
      ]
     },
     "execution_count": 37,
     "metadata": {},
     "output_type": "execute_result"
    }
   ],
   "source": [
    "inflation = pd.read_excel('inflation.xlsx')\n",
    "inflation=inflation.drop([0,1,2,3,4,5,6,7,8,9])\n",
    "inflation.columns=['year','jan','feb','mar','apr','may','june','jule','aug','sep','oct','nov','dec','half1','half2']\n",
    "inflation.jan=inflation.jan.astype(float)\n",
    "inflation.feb=inflation.feb.astype(float)\n",
    "inflation.mar=inflation.mar.astype(float)\n",
    "inflation.apr=inflation.apr.astype(float)\n",
    "inflation.may=inflation.may.astype(float)\n",
    "inflation.june=inflation.june.astype(float)\n",
    "inflation.jule=inflation.jule.astype(float)\n",
    "inflation.aug=inflation.aug.astype(float)\n",
    "inflation.sep=inflation.sep.astype(float)\n",
    "inflation['oct']=inflation['oct'].astype(float)\n",
    "inflation.nov=inflation.nov.astype(float)\n",
    "inflation.dec=inflation.dec.astype(float)\n",
    "inflation=inflation.drop(['half1','half2'],axis=1)\n",
    "\n",
    "inflation['mean']=(inflation.jan+\n",
    "inflation.feb+inflation.mar\n",
    "+inflation.apr+inflation.may+inflation.june\n",
    "+inflation.jule+inflation.aug+inflation.sep+inflation['oct']+inflation.nov+inflation.dec)/12\n",
    "inflation.reset_index(inplace=True,drop=True)\n",
    "inflation.head()"
   ]
  },
  {
   "cell_type": "code",
   "execution_count": 38,
   "metadata": {
    "collapsed": false
   },
   "outputs": [],
   "source": [
    "\n",
    "def calculateInflation(year_wanted,year_now,num):\n",
    "    price_now=-1\n",
    "    price_future=-1\n",
    "    year_wanted_num = year_wanted-1913\n",
    "    year_now_num = year_now-1913\n",
    "    counter=0\n",
    "    for i in inflation['mean']:    \n",
    "        if counter==year_now_num:\n",
    "            price_now=i\n",
    "        if counter==year_wanted_num:\n",
    "            price_future=i\n",
    "        counter+=1\n",
    "  \n",
    "    year_wanted_num\n",
    "    \n",
    "    inflation_rate=(price_future-price_now)/price_now\n",
    " \n",
    "    return(num*inflation_rate+num)\n",
    "    \n"
   ]
  },
  {
   "cell_type": "code",
   "execution_count": 39,
   "metadata": {
    "collapsed": false
   },
   "outputs": [],
   "source": [
    "budgets=pd.DataFrame()\n",
    "grosses=pd.DataFrame()\n",
    "budgets['adj_budget']=movie_data.budget\n",
    "grosses['adj_gross']=movie_data.gross\n",
    "\n",
    "for i in range(len(movie_data)):\n",
    "    budgets.iloc[i].adj_budget=calculateInflation(2016,movie_data.iloc[i].title_year,movie_data.iloc[i].budget)\n",
    "    grosses.iloc[i].adj_gross=calculateInflation(2016,movie_data.iloc[i].title_year,movie_data.iloc[i].gross)\n",
    "   \n",
    "    "
   ]
  },
  {
   "cell_type": "code",
   "execution_count": 40,
   "metadata": {
    "collapsed": false
   },
   "outputs": [
    {
     "data": {
      "text/html": [
       "<div>\n",
       "<table border=\"1\" class=\"dataframe\">\n",
       "  <thead>\n",
       "    <tr style=\"text-align: right;\">\n",
       "      <th></th>\n",
       "      <th>color</th>\n",
       "      <th>director_name</th>\n",
       "      <th>num_critic_for_reviews</th>\n",
       "      <th>duration</th>\n",
       "      <th>director_facebook_likes</th>\n",
       "      <th>actor_3_facebook_likes</th>\n",
       "      <th>actor_2_name</th>\n",
       "      <th>genres</th>\n",
       "      <th>actor_1_name</th>\n",
       "      <th>movie_title</th>\n",
       "      <th>...</th>\n",
       "      <th>language</th>\n",
       "      <th>country</th>\n",
       "      <th>content_rating</th>\n",
       "      <th>title_year</th>\n",
       "      <th>actor_2_facebook_likes</th>\n",
       "      <th>imdb_score</th>\n",
       "      <th>aspect_ratio</th>\n",
       "      <th>movie_facebook_likes</th>\n",
       "      <th>adj_budget</th>\n",
       "      <th>adj_gross</th>\n",
       "    </tr>\n",
       "  </thead>\n",
       "  <tbody>\n",
       "    <tr>\n",
       "      <th>0</th>\n",
       "      <td>Color</td>\n",
       "      <td>807</td>\n",
       "      <td>723.000000</td>\n",
       "      <td>178.0</td>\n",
       "      <td>0.0</td>\n",
       "      <td>855.0</td>\n",
       "      <td>Joel David Moore</td>\n",
       "      <td>Action|Adventure|Fantasy|Sci-Fi</td>\n",
       "      <td>230</td>\n",
       "      <td>Avatar</td>\n",
       "      <td>...</td>\n",
       "      <td>9</td>\n",
       "      <td>53</td>\n",
       "      <td>PG-13</td>\n",
       "      <td>2009.0</td>\n",
       "      <td>936.0</td>\n",
       "      <td>7.9</td>\n",
       "      <td>1.780000</td>\n",
       "      <td>33000</td>\n",
       "      <td>265.137009</td>\n",
       "      <td>850.794285</td>\n",
       "    </tr>\n",
       "    <tr>\n",
       "      <th>1</th>\n",
       "      <td>Color</td>\n",
       "      <td>697</td>\n",
       "      <td>302.000000</td>\n",
       "      <td>169.0</td>\n",
       "      <td>563.0</td>\n",
       "      <td>1000.0</td>\n",
       "      <td>Orlando Bloom</td>\n",
       "      <td>Action|Adventure|Fantasy</td>\n",
       "      <td>869</td>\n",
       "      <td>Pirates of the Caribbean: At World's End</td>\n",
       "      <td>...</td>\n",
       "      <td>9</td>\n",
       "      <td>53</td>\n",
       "      <td>PG-13</td>\n",
       "      <td>2007.0</td>\n",
       "      <td>5000.0</td>\n",
       "      <td>7.1</td>\n",
       "      <td>2.350000</td>\n",
       "      <td>0</td>\n",
       "      <td>347.262037</td>\n",
       "      <td>358.147720</td>\n",
       "    </tr>\n",
       "    <tr>\n",
       "      <th>2</th>\n",
       "      <td>Color</td>\n",
       "      <td>1788</td>\n",
       "      <td>602.000000</td>\n",
       "      <td>148.0</td>\n",
       "      <td>0.0</td>\n",
       "      <td>161.0</td>\n",
       "      <td>Rory Kinnear</td>\n",
       "      <td>Action|Adventure|Thriller</td>\n",
       "      <td>306</td>\n",
       "      <td>Spectre</td>\n",
       "      <td>...</td>\n",
       "      <td>9</td>\n",
       "      <td>52</td>\n",
       "      <td>PG-13</td>\n",
       "      <td>2015.0</td>\n",
       "      <td>393.0</td>\n",
       "      <td>6.8</td>\n",
       "      <td>2.350000</td>\n",
       "      <td>85000</td>\n",
       "      <td>248.090879</td>\n",
       "      <td>202.598277</td>\n",
       "    </tr>\n",
       "    <tr>\n",
       "      <th>3</th>\n",
       "      <td>Color</td>\n",
       "      <td>332</td>\n",
       "      <td>813.000000</td>\n",
       "      <td>164.0</td>\n",
       "      <td>22000.0</td>\n",
       "      <td>23000.0</td>\n",
       "      <td>Christian Bale</td>\n",
       "      <td>Action|Thriller</td>\n",
       "      <td>1709</td>\n",
       "      <td>The Dark Knight Rises</td>\n",
       "      <td>...</td>\n",
       "      <td>9</td>\n",
       "      <td>53</td>\n",
       "      <td>PG-13</td>\n",
       "      <td>2012.0</td>\n",
       "      <td>23000.0</td>\n",
       "      <td>8.5</td>\n",
       "      <td>2.350000</td>\n",
       "      <td>164000</td>\n",
       "      <td>261.338770</td>\n",
       "      <td>468.455642</td>\n",
       "    </tr>\n",
       "    <tr>\n",
       "      <th>4</th>\n",
       "      <td>Color</td>\n",
       "      <td>87</td>\n",
       "      <td>462.000000</td>\n",
       "      <td>132.0</td>\n",
       "      <td>475.0</td>\n",
       "      <td>530.0</td>\n",
       "      <td>Samantha Morton</td>\n",
       "      <td>Action|Adventure|Sci-Fi</td>\n",
       "      <td>388</td>\n",
       "      <td>John Carter</td>\n",
       "      <td>...</td>\n",
       "      <td>9</td>\n",
       "      <td>53</td>\n",
       "      <td>PG-13</td>\n",
       "      <td>2012.0</td>\n",
       "      <td>632.0</td>\n",
       "      <td>6.6</td>\n",
       "      <td>2.350000</td>\n",
       "      <td>24000</td>\n",
       "      <td>275.660134</td>\n",
       "      <td>76.372261</td>\n",
       "    </tr>\n",
       "    <tr>\n",
       "      <th>5</th>\n",
       "      <td>Color</td>\n",
       "      <td>1791</td>\n",
       "      <td>392.000000</td>\n",
       "      <td>156.0</td>\n",
       "      <td>0.0</td>\n",
       "      <td>4000.0</td>\n",
       "      <td>James Franco</td>\n",
       "      <td>Action|Adventure|Romance</td>\n",
       "      <td>696</td>\n",
       "      <td>Spider-Man 3</td>\n",
       "      <td>...</td>\n",
       "      <td>9</td>\n",
       "      <td>53</td>\n",
       "      <td>PG-13</td>\n",
       "      <td>2007.0</td>\n",
       "      <td>11000.0</td>\n",
       "      <td>6.2</td>\n",
       "      <td>2.350000</td>\n",
       "      <td>0</td>\n",
       "      <td>298.645352</td>\n",
       "      <td>389.547329</td>\n",
       "    </tr>\n",
       "    <tr>\n",
       "      <th>6</th>\n",
       "      <td>Color</td>\n",
       "      <td>1457</td>\n",
       "      <td>324.000000</td>\n",
       "      <td>100.0</td>\n",
       "      <td>15.0</td>\n",
       "      <td>284.0</td>\n",
       "      <td>Donna Murphy</td>\n",
       "      <td>Adventure|Animation|Comedy|Family|Fantasy|Musi...</td>\n",
       "      <td>186</td>\n",
       "      <td>Tangled</td>\n",
       "      <td>...</td>\n",
       "      <td>9</td>\n",
       "      <td>53</td>\n",
       "      <td>PG</td>\n",
       "      <td>2010.0</td>\n",
       "      <td>553.0</td>\n",
       "      <td>7.8</td>\n",
       "      <td>1.850000</td>\n",
       "      <td>29000</td>\n",
       "      <td>286.174223</td>\n",
       "      <td>221.022547</td>\n",
       "    </tr>\n",
       "    <tr>\n",
       "      <th>7</th>\n",
       "      <td>Color</td>\n",
       "      <td>1076</td>\n",
       "      <td>635.000000</td>\n",
       "      <td>141.0</td>\n",
       "      <td>0.0</td>\n",
       "      <td>19000.0</td>\n",
       "      <td>Robert Downey Jr.</td>\n",
       "      <td>Action|Adventure|Sci-Fi</td>\n",
       "      <td>289</td>\n",
       "      <td>Avengers: Age of Ultron</td>\n",
       "      <td>...</td>\n",
       "      <td>9</td>\n",
       "      <td>53</td>\n",
       "      <td>PG-13</td>\n",
       "      <td>2015.0</td>\n",
       "      <td>21000.0</td>\n",
       "      <td>7.5</td>\n",
       "      <td>2.350000</td>\n",
       "      <td>118000</td>\n",
       "      <td>253.153958</td>\n",
       "      <td>464.782160</td>\n",
       "    </tr>\n",
       "    <tr>\n",
       "      <th>8</th>\n",
       "      <td>Color</td>\n",
       "      <td>476</td>\n",
       "      <td>375.000000</td>\n",
       "      <td>153.0</td>\n",
       "      <td>282.0</td>\n",
       "      <td>10000.0</td>\n",
       "      <td>Daniel Radcliffe</td>\n",
       "      <td>Adventure|Family|Fantasy|Mystery</td>\n",
       "      <td>25</td>\n",
       "      <td>Harry Potter and the Half-Blood Prince</td>\n",
       "      <td>...</td>\n",
       "      <td>9</td>\n",
       "      <td>52</td>\n",
       "      <td>PG</td>\n",
       "      <td>2009.0</td>\n",
       "      <td>11000.0</td>\n",
       "      <td>7.5</td>\n",
       "      <td>2.350000</td>\n",
       "      <td>10000</td>\n",
       "      <td>279.680389</td>\n",
       "      <td>337.805783</td>\n",
       "    </tr>\n",
       "    <tr>\n",
       "      <th>9</th>\n",
       "      <td>Color</td>\n",
       "      <td>2108</td>\n",
       "      <td>673.000000</td>\n",
       "      <td>183.0</td>\n",
       "      <td>0.0</td>\n",
       "      <td>2000.0</td>\n",
       "      <td>Lauren Cohan</td>\n",
       "      <td>Action|Adventure|Sci-Fi</td>\n",
       "      <td>653</td>\n",
       "      <td>Batman v Superman: Dawn of Justice</td>\n",
       "      <td>...</td>\n",
       "      <td>9</td>\n",
       "      <td>53</td>\n",
       "      <td>PG-13</td>\n",
       "      <td>2016.0</td>\n",
       "      <td>4000.0</td>\n",
       "      <td>6.9</td>\n",
       "      <td>2.350000</td>\n",
       "      <td>197000</td>\n",
       "      <td>250.000000</td>\n",
       "      <td>330.249062</td>\n",
       "    </tr>\n",
       "    <tr>\n",
       "      <th>10</th>\n",
       "      <td>Color</td>\n",
       "      <td>249</td>\n",
       "      <td>434.000000</td>\n",
       "      <td>169.0</td>\n",
       "      <td>0.0</td>\n",
       "      <td>903.0</td>\n",
       "      <td>Marlon Brando</td>\n",
       "      <td>Action|Adventure|Sci-Fi</td>\n",
       "      <td>973</td>\n",
       "      <td>Superman Returns</td>\n",
       "      <td>...</td>\n",
       "      <td>9</td>\n",
       "      <td>53</td>\n",
       "      <td>PG-13</td>\n",
       "      <td>2006.0</td>\n",
       "      <td>10000.0</td>\n",
       "      <td>6.1</td>\n",
       "      <td>2.350000</td>\n",
       "      <td>0</td>\n",
       "      <td>248.827239</td>\n",
       "      <td>238.194825</td>\n",
       "    </tr>\n",
       "    <tr>\n",
       "      <th>11</th>\n",
       "      <td>Color</td>\n",
       "      <td>1260</td>\n",
       "      <td>403.000000</td>\n",
       "      <td>106.0</td>\n",
       "      <td>395.0</td>\n",
       "      <td>393.0</td>\n",
       "      <td>Mathieu Amalric</td>\n",
       "      <td>Action|Adventure</td>\n",
       "      <td>604</td>\n",
       "      <td>Quantum of Solace</td>\n",
       "      <td>...</td>\n",
       "      <td>9</td>\n",
       "      <td>52</td>\n",
       "      <td>PG-13</td>\n",
       "      <td>2008.0</td>\n",
       "      <td>412.0</td>\n",
       "      <td>6.7</td>\n",
       "      <td>2.350000</td>\n",
       "      <td>0</td>\n",
       "      <td>222.948797</td>\n",
       "      <td>187.687691</td>\n",
       "    </tr>\n",
       "    <tr>\n",
       "      <th>12</th>\n",
       "      <td>Color</td>\n",
       "      <td>697</td>\n",
       "      <td>313.000000</td>\n",
       "      <td>151.0</td>\n",
       "      <td>563.0</td>\n",
       "      <td>1000.0</td>\n",
       "      <td>Orlando Bloom</td>\n",
       "      <td>Action|Adventure|Fantasy</td>\n",
       "      <td>869</td>\n",
       "      <td>Pirates of the Caribbean: Dead Man's Chest</td>\n",
       "      <td>...</td>\n",
       "      <td>9</td>\n",
       "      <td>53</td>\n",
       "      <td>PG-13</td>\n",
       "      <td>2006.0</td>\n",
       "      <td>5000.0</td>\n",
       "      <td>7.3</td>\n",
       "      <td>2.350000</td>\n",
       "      <td>5000</td>\n",
       "      <td>267.876214</td>\n",
       "      <td>503.646128</td>\n",
       "    </tr>\n",
       "    <tr>\n",
       "      <th>13</th>\n",
       "      <td>Color</td>\n",
       "      <td>697</td>\n",
       "      <td>450.000000</td>\n",
       "      <td>150.0</td>\n",
       "      <td>563.0</td>\n",
       "      <td>1000.0</td>\n",
       "      <td>Ruth Wilson</td>\n",
       "      <td>Action|Adventure|Western</td>\n",
       "      <td>869</td>\n",
       "      <td>The Lone Ranger</td>\n",
       "      <td>...</td>\n",
       "      <td>9</td>\n",
       "      <td>53</td>\n",
       "      <td>PG-13</td>\n",
       "      <td>2013.0</td>\n",
       "      <td>2000.0</td>\n",
       "      <td>6.5</td>\n",
       "      <td>2.350000</td>\n",
       "      <td>48000</td>\n",
       "      <td>221.506640</td>\n",
       "      <td>91.992130</td>\n",
       "    </tr>\n",
       "    <tr>\n",
       "      <th>14</th>\n",
       "      <td>Color</td>\n",
       "      <td>2108</td>\n",
       "      <td>733.000000</td>\n",
       "      <td>143.0</td>\n",
       "      <td>0.0</td>\n",
       "      <td>748.0</td>\n",
       "      <td>Christopher Meloni</td>\n",
       "      <td>Action|Adventure|Fantasy|Sci-Fi</td>\n",
       "      <td>653</td>\n",
       "      <td>Man of Steel</td>\n",
       "      <td>...</td>\n",
       "      <td>9</td>\n",
       "      <td>53</td>\n",
       "      <td>PG-13</td>\n",
       "      <td>2013.0</td>\n",
       "      <td>3000.0</td>\n",
       "      <td>7.2</td>\n",
       "      <td>2.350000</td>\n",
       "      <td>118000</td>\n",
       "      <td>231.809275</td>\n",
       "      <td>299.828879</td>\n",
       "    </tr>\n",
       "    <tr>\n",
       "      <th>15</th>\n",
       "      <td>Color</td>\n",
       "      <td>73</td>\n",
       "      <td>258.000000</td>\n",
       "      <td>150.0</td>\n",
       "      <td>80.0</td>\n",
       "      <td>201.0</td>\n",
       "      <td>Pierfrancesco Favino</td>\n",
       "      <td>Action|Adventure|Family|Fantasy</td>\n",
       "      <td>1363</td>\n",
       "      <td>The Chronicles of Narnia: Prince Caspian</td>\n",
       "      <td>...</td>\n",
       "      <td>9</td>\n",
       "      <td>53</td>\n",
       "      <td>PG</td>\n",
       "      <td>2008.0</td>\n",
       "      <td>216.0</td>\n",
       "      <td>6.6</td>\n",
       "      <td>2.350000</td>\n",
       "      <td>0</td>\n",
       "      <td>250.817396</td>\n",
       "      <td>157.863380</td>\n",
       "    </tr>\n",
       "    <tr>\n",
       "      <th>16</th>\n",
       "      <td>Color</td>\n",
       "      <td>1076</td>\n",
       "      <td>703.000000</td>\n",
       "      <td>173.0</td>\n",
       "      <td>0.0</td>\n",
       "      <td>19000.0</td>\n",
       "      <td>Robert Downey Jr.</td>\n",
       "      <td>Action|Adventure|Sci-Fi</td>\n",
       "      <td>289</td>\n",
       "      <td>The Avengers</td>\n",
       "      <td>...</td>\n",
       "      <td>9</td>\n",
       "      <td>53</td>\n",
       "      <td>PG-13</td>\n",
       "      <td>2012.0</td>\n",
       "      <td>21000.0</td>\n",
       "      <td>8.1</td>\n",
       "      <td>1.850000</td>\n",
       "      <td>123000</td>\n",
       "      <td>229.978117</td>\n",
       "      <td>651.548439</td>\n",
       "    </tr>\n",
       "    <tr>\n",
       "      <th>17</th>\n",
       "      <td>Color</td>\n",
       "      <td>1693</td>\n",
       "      <td>448.000000</td>\n",
       "      <td>136.0</td>\n",
       "      <td>252.0</td>\n",
       "      <td>1000.0</td>\n",
       "      <td>Sam Claflin</td>\n",
       "      <td>Action|Adventure|Fantasy</td>\n",
       "      <td>869</td>\n",
       "      <td>Pirates of the Caribbean: On Stranger Tides</td>\n",
       "      <td>...</td>\n",
       "      <td>9</td>\n",
       "      <td>53</td>\n",
       "      <td>PG-13</td>\n",
       "      <td>2011.0</td>\n",
       "      <td>11000.0</td>\n",
       "      <td>6.7</td>\n",
       "      <td>2.350000</td>\n",
       "      <td>58000</td>\n",
       "      <td>266.746750</td>\n",
       "      <td>257.212021</td>\n",
       "    </tr>\n",
       "    <tr>\n",
       "      <th>18</th>\n",
       "      <td>Color</td>\n",
       "      <td>149</td>\n",
       "      <td>451.000000</td>\n",
       "      <td>106.0</td>\n",
       "      <td>188.0</td>\n",
       "      <td>718.0</td>\n",
       "      <td>Michael Stuhlbarg</td>\n",
       "      <td>Action|Adventure|Comedy|Family|Fantasy|Sci-Fi</td>\n",
       "      <td>1784</td>\n",
       "      <td>Men in Black 3</td>\n",
       "      <td>...</td>\n",
       "      <td>9</td>\n",
       "      <td>53</td>\n",
       "      <td>PG-13</td>\n",
       "      <td>2012.0</td>\n",
       "      <td>816.0</td>\n",
       "      <td>6.8</td>\n",
       "      <td>1.850000</td>\n",
       "      <td>40000</td>\n",
       "      <td>235.204893</td>\n",
       "      <td>187.140359</td>\n",
       "    </tr>\n",
       "    <tr>\n",
       "      <th>19</th>\n",
       "      <td>Color</td>\n",
       "      <td>1579</td>\n",
       "      <td>422.000000</td>\n",
       "      <td>164.0</td>\n",
       "      <td>0.0</td>\n",
       "      <td>773.0</td>\n",
       "      <td>Adam Brown</td>\n",
       "      <td>Adventure|Fantasy</td>\n",
       "      <td>20</td>\n",
       "      <td>The Hobbit: The Battle of the Five Armies</td>\n",
       "      <td>...</td>\n",
       "      <td>9</td>\n",
       "      <td>34</td>\n",
       "      <td>PG-13</td>\n",
       "      <td>2014.0</td>\n",
       "      <td>972.0</td>\n",
       "      <td>7.5</td>\n",
       "      <td>2.350000</td>\n",
       "      <td>65000</td>\n",
       "      <td>253.454267</td>\n",
       "      <td>258.633220</td>\n",
       "    </tr>\n",
       "    <tr>\n",
       "      <th>20</th>\n",
       "      <td>Color</td>\n",
       "      <td>1264</td>\n",
       "      <td>599.000000</td>\n",
       "      <td>153.0</td>\n",
       "      <td>464.0</td>\n",
       "      <td>963.0</td>\n",
       "      <td>Andrew Garfield</td>\n",
       "      <td>Action|Adventure|Fantasy</td>\n",
       "      <td>515</td>\n",
       "      <td>The Amazing Spider-Man</td>\n",
       "      <td>...</td>\n",
       "      <td>9</td>\n",
       "      <td>53</td>\n",
       "      <td>PG-13</td>\n",
       "      <td>2012.0</td>\n",
       "      <td>10000.0</td>\n",
       "      <td>7.0</td>\n",
       "      <td>2.350000</td>\n",
       "      <td>56000</td>\n",
       "      <td>240.431668</td>\n",
       "      <td>273.915084</td>\n",
       "    </tr>\n",
       "    <tr>\n",
       "      <th>21</th>\n",
       "      <td>Color</td>\n",
       "      <td>1685</td>\n",
       "      <td>343.000000</td>\n",
       "      <td>156.0</td>\n",
       "      <td>0.0</td>\n",
       "      <td>738.0</td>\n",
       "      <td>William Hurt</td>\n",
       "      <td>Action|Adventure|Drama|History</td>\n",
       "      <td>1124</td>\n",
       "      <td>Robin Hood</td>\n",
       "      <td>...</td>\n",
       "      <td>9</td>\n",
       "      <td>53</td>\n",
       "      <td>PG-13</td>\n",
       "      <td>2010.0</td>\n",
       "      <td>882.0</td>\n",
       "      <td>6.7</td>\n",
       "      <td>2.350000</td>\n",
       "      <td>17000</td>\n",
       "      <td>220.134018</td>\n",
       "      <td>115.812215</td>\n",
       "    </tr>\n",
       "    <tr>\n",
       "      <th>22</th>\n",
       "      <td>Color</td>\n",
       "      <td>1579</td>\n",
       "      <td>509.000000</td>\n",
       "      <td>186.0</td>\n",
       "      <td>0.0</td>\n",
       "      <td>773.0</td>\n",
       "      <td>Adam Brown</td>\n",
       "      <td>Adventure|Fantasy</td>\n",
       "      <td>20</td>\n",
       "      <td>The Hobbit: The Desolation of Smaug</td>\n",
       "      <td>...</td>\n",
       "      <td>9</td>\n",
       "      <td>53</td>\n",
       "      <td>PG-13</td>\n",
       "      <td>2013.0</td>\n",
       "      <td>972.0</td>\n",
       "      <td>7.9</td>\n",
       "      <td>2.350000</td>\n",
       "      <td>83000</td>\n",
       "      <td>231.809275</td>\n",
       "      <td>266.174076</td>\n",
       "    </tr>\n",
       "    <tr>\n",
       "      <th>23</th>\n",
       "      <td>Color</td>\n",
       "      <td>312</td>\n",
       "      <td>251.000000</td>\n",
       "      <td>113.0</td>\n",
       "      <td>129.0</td>\n",
       "      <td>1000.0</td>\n",
       "      <td>Eva Green</td>\n",
       "      <td>Adventure|Family|Fantasy</td>\n",
       "      <td>311</td>\n",
       "      <td>The Golden Compass</td>\n",
       "      <td>...</td>\n",
       "      <td>9</td>\n",
       "      <td>53</td>\n",
       "      <td>PG-13</td>\n",
       "      <td>2007.0</td>\n",
       "      <td>6000.0</td>\n",
       "      <td>6.1</td>\n",
       "      <td>2.350000</td>\n",
       "      <td>0</td>\n",
       "      <td>208.357222</td>\n",
       "      <td>81.124485</td>\n",
       "    </tr>\n",
       "    <tr>\n",
       "      <th>24</th>\n",
       "      <td>Color</td>\n",
       "      <td>1579</td>\n",
       "      <td>446.000000</td>\n",
       "      <td>201.0</td>\n",
       "      <td>0.0</td>\n",
       "      <td>84.0</td>\n",
       "      <td>Thomas Kretschmann</td>\n",
       "      <td>Action|Adventure|Drama|Romance</td>\n",
       "      <td>1265</td>\n",
       "      <td>King Kong</td>\n",
       "      <td>...</td>\n",
       "      <td>9</td>\n",
       "      <td>34</td>\n",
       "      <td>PG-13</td>\n",
       "      <td>2005.0</td>\n",
       "      <td>919.0</td>\n",
       "      <td>7.2</td>\n",
       "      <td>2.350000</td>\n",
       "      <td>0</td>\n",
       "      <td>254.396331</td>\n",
       "      <td>267.977974</td>\n",
       "    </tr>\n",
       "    <tr>\n",
       "      <th>25</th>\n",
       "      <td>Color</td>\n",
       "      <td>807</td>\n",
       "      <td>315.000000</td>\n",
       "      <td>194.0</td>\n",
       "      <td>0.0</td>\n",
       "      <td>794.0</td>\n",
       "      <td>Kate Winslet</td>\n",
       "      <td>Drama|Romance</td>\n",
       "      <td>1039</td>\n",
       "      <td>Titanic</td>\n",
       "      <td>...</td>\n",
       "      <td>9</td>\n",
       "      <td>53</td>\n",
       "      <td>PG-13</td>\n",
       "      <td>1997.0</td>\n",
       "      <td>14000.0</td>\n",
       "      <td>7.7</td>\n",
       "      <td>2.350000</td>\n",
       "      <td>26000</td>\n",
       "      <td>299.043298</td>\n",
       "      <td>984.857686</td>\n",
       "    </tr>\n",
       "    <tr>\n",
       "      <th>26</th>\n",
       "      <td>Color</td>\n",
       "      <td>117</td>\n",
       "      <td>516.000000</td>\n",
       "      <td>147.0</td>\n",
       "      <td>94.0</td>\n",
       "      <td>11000.0</td>\n",
       "      <td>Scarlett Johansson</td>\n",
       "      <td>Action|Adventure|Sci-Fi</td>\n",
       "      <td>1454</td>\n",
       "      <td>Captain America: Civil War</td>\n",
       "      <td>...</td>\n",
       "      <td>9</td>\n",
       "      <td>53</td>\n",
       "      <td>PG-13</td>\n",
       "      <td>2016.0</td>\n",
       "      <td>19000.0</td>\n",
       "      <td>8.2</td>\n",
       "      <td>2.350000</td>\n",
       "      <td>72000</td>\n",
       "      <td>250.000000</td>\n",
       "      <td>407.197282</td>\n",
       "    </tr>\n",
       "    <tr>\n",
       "      <th>27</th>\n",
       "      <td>Color</td>\n",
       "      <td>1563</td>\n",
       "      <td>377.000000</td>\n",
       "      <td>131.0</td>\n",
       "      <td>532.0</td>\n",
       "      <td>627.0</td>\n",
       "      <td>Alexander Skarsgård</td>\n",
       "      <td>Action|Adventure|Sci-Fi|Thriller</td>\n",
       "      <td>1050</td>\n",
       "      <td>Battleship</td>\n",
       "      <td>...</td>\n",
       "      <td>9</td>\n",
       "      <td>53</td>\n",
       "      <td>PG-13</td>\n",
       "      <td>2012.0</td>\n",
       "      <td>10000.0</td>\n",
       "      <td>5.9</td>\n",
       "      <td>2.350000</td>\n",
       "      <td>44000</td>\n",
       "      <td>218.479211</td>\n",
       "      <td>68.129094</td>\n",
       "    </tr>\n",
       "    <tr>\n",
       "      <th>28</th>\n",
       "      <td>Color</td>\n",
       "      <td>351</td>\n",
       "      <td>644.000000</td>\n",
       "      <td>124.0</td>\n",
       "      <td>365.0</td>\n",
       "      <td>1000.0</td>\n",
       "      <td>Judy Greer</td>\n",
       "      <td>Action|Adventure|Sci-Fi|Thriller</td>\n",
       "      <td>220</td>\n",
       "      <td>Jurassic World</td>\n",
       "      <td>...</td>\n",
       "      <td>9</td>\n",
       "      <td>53</td>\n",
       "      <td>PG-13</td>\n",
       "      <td>2015.0</td>\n",
       "      <td>2000.0</td>\n",
       "      <td>7.0</td>\n",
       "      <td>2.000000</td>\n",
       "      <td>150000</td>\n",
       "      <td>151.892375</td>\n",
       "      <td>660.405030</td>\n",
       "    </tr>\n",
       "    <tr>\n",
       "      <th>29</th>\n",
       "      <td>Color</td>\n",
       "      <td>1788</td>\n",
       "      <td>750.000000</td>\n",
       "      <td>143.0</td>\n",
       "      <td>0.0</td>\n",
       "      <td>393.0</td>\n",
       "      <td>Helen McCrory</td>\n",
       "      <td>Action|Adventure|Thriller</td>\n",
       "      <td>29</td>\n",
       "      <td>Skyfall</td>\n",
       "      <td>...</td>\n",
       "      <td>9</td>\n",
       "      <td>52</td>\n",
       "      <td>PG-13</td>\n",
       "      <td>2012.0</td>\n",
       "      <td>563.0</td>\n",
       "      <td>7.8</td>\n",
       "      <td>2.350000</td>\n",
       "      <td>80000</td>\n",
       "      <td>209.071016</td>\n",
       "      <td>318.164561</td>\n",
       "    </tr>\n",
       "    <tr>\n",
       "      <th>...</th>\n",
       "      <td>...</td>\n",
       "      <td>...</td>\n",
       "      <td>...</td>\n",
       "      <td>...</td>\n",
       "      <td>...</td>\n",
       "      <td>...</td>\n",
       "      <td>...</td>\n",
       "      <td>...</td>\n",
       "      <td>...</td>\n",
       "      <td>...</td>\n",
       "      <td>...</td>\n",
       "      <td>...</td>\n",
       "      <td>...</td>\n",
       "      <td>...</td>\n",
       "      <td>...</td>\n",
       "      <td>...</td>\n",
       "      <td>...</td>\n",
       "      <td>...</td>\n",
       "      <td>...</td>\n",
       "      <td>...</td>\n",
       "      <td>...</td>\n",
       "    </tr>\n",
       "    <tr>\n",
       "      <th>4551</th>\n",
       "      <td>Color</td>\n",
       "      <td>1322</td>\n",
       "      <td>73.000000</td>\n",
       "      <td>83.0</td>\n",
       "      <td>8.0</td>\n",
       "      <td>8.0</td>\n",
       "      <td>Shailene Garnett</td>\n",
       "      <td>Crime|Drama|Thriller</td>\n",
       "      <td>1347</td>\n",
       "      <td>The Dirties</td>\n",
       "      <td>...</td>\n",
       "      <td>9</td>\n",
       "      <td>8</td>\n",
       "      <td>Not Rated</td>\n",
       "      <td>2013.0</td>\n",
       "      <td>19.0</td>\n",
       "      <td>6.7</td>\n",
       "      <td>2.220403</td>\n",
       "      <td>1000</td>\n",
       "      <td>40.955672</td>\n",
       "      <td>49.935228</td>\n",
       "    </tr>\n",
       "    <tr>\n",
       "      <th>4552</th>\n",
       "      <td>Color</td>\n",
       "      <td>247</td>\n",
       "      <td>1.000000</td>\n",
       "      <td>99.0</td>\n",
       "      <td>9.0</td>\n",
       "      <td>3.0</td>\n",
       "      <td>Sonia Braga</td>\n",
       "      <td>Comedy|Drama|Romance</td>\n",
       "      <td>1112</td>\n",
       "      <td>Gabriela</td>\n",
       "      <td>...</td>\n",
       "      <td>29</td>\n",
       "      <td>6</td>\n",
       "      <td>R</td>\n",
       "      <td>1983.0</td>\n",
       "      <td>308.0</td>\n",
       "      <td>6.4</td>\n",
       "      <td>2.350000</td>\n",
       "      <td>114</td>\n",
       "      <td>95.792307</td>\n",
       "      <td>116.794831</td>\n",
       "    </tr>\n",
       "    <tr>\n",
       "      <th>4553</th>\n",
       "      <td>Color</td>\n",
       "      <td>1201</td>\n",
       "      <td>113.000000</td>\n",
       "      <td>98.0</td>\n",
       "      <td>969.0</td>\n",
       "      <td>433.0</td>\n",
       "      <td>Merritt Wever</td>\n",
       "      <td>Comedy|Drama|Romance</td>\n",
       "      <td>1032</td>\n",
       "      <td>Tiny Furniture</td>\n",
       "      <td>...</td>\n",
       "      <td>9</td>\n",
       "      <td>53</td>\n",
       "      <td>Not Rated</td>\n",
       "      <td>2010.0</td>\n",
       "      <td>529.0</td>\n",
       "      <td>6.3</td>\n",
       "      <td>2.350000</td>\n",
       "      <td>0</td>\n",
       "      <td>0.071544</td>\n",
       "      <td>0.429046</td>\n",
       "    </tr>\n",
       "    <tr>\n",
       "      <th>4554</th>\n",
       "      <td>Color</td>\n",
       "      <td>2087</td>\n",
       "      <td>161.000000</td>\n",
       "      <td>97.0</td>\n",
       "      <td>18.0</td>\n",
       "      <td>236.0</td>\n",
       "      <td>Olivia Cooke</td>\n",
       "      <td>Sci-Fi|Thriller</td>\n",
       "      <td>1057</td>\n",
       "      <td>The Signal</td>\n",
       "      <td>...</td>\n",
       "      <td>9</td>\n",
       "      <td>53</td>\n",
       "      <td>PG-13</td>\n",
       "      <td>2014.0</td>\n",
       "      <td>680.0</td>\n",
       "      <td>6.1</td>\n",
       "      <td>2.350000</td>\n",
       "      <td>10000</td>\n",
       "      <td>4.055268</td>\n",
       "      <td>49.138099</td>\n",
       "    </tr>\n",
       "    <tr>\n",
       "      <th>4555</th>\n",
       "      <td>Color</td>\n",
       "      <td>276</td>\n",
       "      <td>34.000000</td>\n",
       "      <td>83.0</td>\n",
       "      <td>3.0</td>\n",
       "      <td>69.0</td>\n",
       "      <td>Paul Eenhoorn</td>\n",
       "      <td>Drama</td>\n",
       "      <td>736</td>\n",
       "      <td>This Is Martin Bonner</td>\n",
       "      <td>...</td>\n",
       "      <td>9</td>\n",
       "      <td>53</td>\n",
       "      <td>R</td>\n",
       "      <td>2013.0</td>\n",
       "      <td>571.0</td>\n",
       "      <td>6.6</td>\n",
       "      <td>16.000000</td>\n",
       "      <td>234</td>\n",
       "      <td>0.043271</td>\n",
       "      <td>49.935228</td>\n",
       "    </tr>\n",
       "    <tr>\n",
       "      <th>4556</th>\n",
       "      <td>Color</td>\n",
       "      <td>441</td>\n",
       "      <td>75.000000</td>\n",
       "      <td>90.0</td>\n",
       "      <td>234.0</td>\n",
       "      <td>15.0</td>\n",
       "      <td>Eddie Rouse</td>\n",
       "      <td>Drama</td>\n",
       "      <td>1354</td>\n",
       "      <td>George Washington</td>\n",
       "      <td>...</td>\n",
       "      <td>9</td>\n",
       "      <td>53</td>\n",
       "      <td>Unrated</td>\n",
       "      <td>2000.0</td>\n",
       "      <td>61.0</td>\n",
       "      <td>7.5</td>\n",
       "      <td>2.350000</td>\n",
       "      <td>451</td>\n",
       "      <td>0.058538</td>\n",
       "      <td>0.337036</td>\n",
       "    </tr>\n",
       "    <tr>\n",
       "      <th>4557</th>\n",
       "      <td>Color</td>\n",
       "      <td>1146</td>\n",
       "      <td>21.000000</td>\n",
       "      <td>90.0</td>\n",
       "      <td>4.0</td>\n",
       "      <td>113.0</td>\n",
       "      <td>Christa Miller</td>\n",
       "      <td>Comedy|Romance</td>\n",
       "      <td>431</td>\n",
       "      <td>Smiling Fish &amp; Goat on Fire</td>\n",
       "      <td>...</td>\n",
       "      <td>9</td>\n",
       "      <td>53</td>\n",
       "      <td>R</td>\n",
       "      <td>1999.0</td>\n",
       "      <td>467.0</td>\n",
       "      <td>7.6</td>\n",
       "      <td>1.850000</td>\n",
       "      <td>0</td>\n",
       "      <td>0.057633</td>\n",
       "      <td>0.399447</td>\n",
       "    </tr>\n",
       "    <tr>\n",
       "      <th>4558</th>\n",
       "      <td>Color</td>\n",
       "      <td>2024</td>\n",
       "      <td>2.000000</td>\n",
       "      <td>83.0</td>\n",
       "      <td>138.0</td>\n",
       "      <td>76.0</td>\n",
       "      <td>Patricia Raven</td>\n",
       "      <td>Horror</td>\n",
       "      <td>500</td>\n",
       "      <td>Raymond Did It</td>\n",
       "      <td>...</td>\n",
       "      <td>9</td>\n",
       "      <td>53</td>\n",
       "      <td>Unrated</td>\n",
       "      <td>2011.0</td>\n",
       "      <td>114.0</td>\n",
       "      <td>3.2</td>\n",
       "      <td>2.350000</td>\n",
       "      <td>239</td>\n",
       "      <td>0.042679</td>\n",
       "      <td>51.715161</td>\n",
       "    </tr>\n",
       "    <tr>\n",
       "      <th>4559</th>\n",
       "      <td>Color</td>\n",
       "      <td>1308</td>\n",
       "      <td>71.000000</td>\n",
       "      <td>117.0</td>\n",
       "      <td>17000.0</td>\n",
       "      <td>476.0</td>\n",
       "      <td>Levon Helm</td>\n",
       "      <td>Documentary|Music</td>\n",
       "      <td>1444</td>\n",
       "      <td>The Last Waltz</td>\n",
       "      <td>...</td>\n",
       "      <td>9</td>\n",
       "      <td>53</td>\n",
       "      <td>PG</td>\n",
       "      <td>1978.0</td>\n",
       "      <td>572.0</td>\n",
       "      <td>8.2</td>\n",
       "      <td>1.850000</td>\n",
       "      <td>0</td>\n",
       "      <td>146.258260</td>\n",
       "      <td>1.184529</td>\n",
       "    </tr>\n",
       "    <tr>\n",
       "      <th>4560</th>\n",
       "      <td>Color</td>\n",
       "      <td>211</td>\n",
       "      <td>61.000000</td>\n",
       "      <td>79.0</td>\n",
       "      <td>2.0</td>\n",
       "      <td>20.0</td>\n",
       "      <td>Mark Rendall</td>\n",
       "      <td>Drama</td>\n",
       "      <td>1814</td>\n",
       "      <td>The Exploding Girl</td>\n",
       "      <td>...</td>\n",
       "      <td>9</td>\n",
       "      <td>53</td>\n",
       "      <td>Unrated</td>\n",
       "      <td>2009.0</td>\n",
       "      <td>72.0</td>\n",
       "      <td>6.3</td>\n",
       "      <td>2.220403</td>\n",
       "      <td>377</td>\n",
       "      <td>44.472113</td>\n",
       "      <td>0.027638</td>\n",
       "    </tr>\n",
       "    <tr>\n",
       "      <th>4561</th>\n",
       "      <td>Black and White</td>\n",
       "      <td>75</td>\n",
       "      <td>52.000000</td>\n",
       "      <td>109.0</td>\n",
       "      <td>26.0</td>\n",
       "      <td>3.0</td>\n",
       "      <td>Kate Dollenmayer</td>\n",
       "      <td>Comedy</td>\n",
       "      <td>78</td>\n",
       "      <td>Mutual Appreciation</td>\n",
       "      <td>...</td>\n",
       "      <td>9</td>\n",
       "      <td>53</td>\n",
       "      <td>R</td>\n",
       "      <td>2005.0</td>\n",
       "      <td>6.0</td>\n",
       "      <td>6.9</td>\n",
       "      <td>1.660000</td>\n",
       "      <td>91</td>\n",
       "      <td>48.854690</td>\n",
       "      <td>59.566111</td>\n",
       "    </tr>\n",
       "    <tr>\n",
       "      <th>4562</th>\n",
       "      <td>Color</td>\n",
       "      <td>380</td>\n",
       "      <td>140.194272</td>\n",
       "      <td>89.0</td>\n",
       "      <td>2.0</td>\n",
       "      <td>0.0</td>\n",
       "      <td>Ron Gelner</td>\n",
       "      <td>Horror</td>\n",
       "      <td>1285</td>\n",
       "      <td>Her Cry: La Llorona Investigation</td>\n",
       "      <td>...</td>\n",
       "      <td>9</td>\n",
       "      <td>53</td>\n",
       "      <td>Not Rated</td>\n",
       "      <td>2013.0</td>\n",
       "      <td>0.0</td>\n",
       "      <td>5.4</td>\n",
       "      <td>2.220403</td>\n",
       "      <td>48</td>\n",
       "      <td>0.061816</td>\n",
       "      <td>49.935228</td>\n",
       "    </tr>\n",
       "    <tr>\n",
       "      <th>4563</th>\n",
       "      <td>Color</td>\n",
       "      <td>159</td>\n",
       "      <td>53.000000</td>\n",
       "      <td>93.0</td>\n",
       "      <td>214.0</td>\n",
       "      <td>59.0</td>\n",
       "      <td>Tony Way</td>\n",
       "      <td>Comedy|Crime|Drama</td>\n",
       "      <td>1215</td>\n",
       "      <td>Down Terrace</td>\n",
       "      <td>...</td>\n",
       "      <td>9</td>\n",
       "      <td>52</td>\n",
       "      <td>R</td>\n",
       "      <td>2009.0</td>\n",
       "      <td>95.0</td>\n",
       "      <td>6.5</td>\n",
       "      <td>2.220403</td>\n",
       "      <td>535</td>\n",
       "      <td>44.472113</td>\n",
       "      <td>0.010750</td>\n",
       "    </tr>\n",
       "    <tr>\n",
       "      <th>4564</th>\n",
       "      <td>Black and White</td>\n",
       "      <td>1152</td>\n",
       "      <td>136.000000</td>\n",
       "      <td>102.0</td>\n",
       "      <td>0.0</td>\n",
       "      <td>216.0</td>\n",
       "      <td>Brian O'Halloran</td>\n",
       "      <td>Comedy</td>\n",
       "      <td>746</td>\n",
       "      <td>Clerks</td>\n",
       "      <td>...</td>\n",
       "      <td>9</td>\n",
       "      <td>53</td>\n",
       "      <td>R</td>\n",
       "      <td>1994.0</td>\n",
       "      <td>657.0</td>\n",
       "      <td>7.8</td>\n",
       "      <td>1.370000</td>\n",
       "      <td>0</td>\n",
       "      <td>0.372418</td>\n",
       "      <td>5.102336</td>\n",
       "    </tr>\n",
       "    <tr>\n",
       "      <th>4565</th>\n",
       "      <td>Color</td>\n",
       "      <td>1462</td>\n",
       "      <td>80.000000</td>\n",
       "      <td>97.0</td>\n",
       "      <td>119.0</td>\n",
       "      <td>7.0</td>\n",
       "      <td>Matt Malloy</td>\n",
       "      <td>Comedy|Drama</td>\n",
       "      <td>1613</td>\n",
       "      <td>In the Company of Men</td>\n",
       "      <td>...</td>\n",
       "      <td>9</td>\n",
       "      <td>8</td>\n",
       "      <td>R</td>\n",
       "      <td>1997.0</td>\n",
       "      <td>108.0</td>\n",
       "      <td>7.3</td>\n",
       "      <td>1.850000</td>\n",
       "      <td>489</td>\n",
       "      <td>0.037380</td>\n",
       "      <td>4.271268</td>\n",
       "    </tr>\n",
       "    <tr>\n",
       "      <th>4566</th>\n",
       "      <td>Color</td>\n",
       "      <td>426</td>\n",
       "      <td>233.000000</td>\n",
       "      <td>109.0</td>\n",
       "      <td>453.0</td>\n",
       "      <td>120.0</td>\n",
       "      <td>Martin Donovan</td>\n",
       "      <td>Action|Crime|Drama|Thriller</td>\n",
       "      <td>1239</td>\n",
       "      <td>Sabotage</td>\n",
       "      <td>...</td>\n",
       "      <td>9</td>\n",
       "      <td>53</td>\n",
       "      <td>R</td>\n",
       "      <td>2014.0</td>\n",
       "      <td>206.0</td>\n",
       "      <td>5.7</td>\n",
       "      <td>1.850000</td>\n",
       "      <td>10000</td>\n",
       "      <td>35.483597</td>\n",
       "      <td>10.645047</td>\n",
       "    </tr>\n",
       "    <tr>\n",
       "      <th>4567</th>\n",
       "      <td>Color</td>\n",
       "      <td>2036</td>\n",
       "      <td>58.000000</td>\n",
       "      <td>80.0</td>\n",
       "      <td>892.0</td>\n",
       "      <td>492.0</td>\n",
       "      <td>Katharine Isabelle</td>\n",
       "      <td>Action|Crime|Thriller</td>\n",
       "      <td>1152</td>\n",
       "      <td>Rampage</td>\n",
       "      <td>...</td>\n",
       "      <td>9</td>\n",
       "      <td>8</td>\n",
       "      <td>R</td>\n",
       "      <td>2009.0</td>\n",
       "      <td>918.0</td>\n",
       "      <td>6.3</td>\n",
       "      <td>2.350000</td>\n",
       "      <td>0</td>\n",
       "      <td>44.472113</td>\n",
       "      <td>54.222652</td>\n",
       "    </tr>\n",
       "    <tr>\n",
       "      <th>4568</th>\n",
       "      <td>Black and White</td>\n",
       "      <td>1670</td>\n",
       "      <td>61.000000</td>\n",
       "      <td>100.0</td>\n",
       "      <td>0.0</td>\n",
       "      <td>0.0</td>\n",
       "      <td>Richard Linklater</td>\n",
       "      <td>Comedy|Drama</td>\n",
       "      <td>1715</td>\n",
       "      <td>Slacker</td>\n",
       "      <td>...</td>\n",
       "      <td>9</td>\n",
       "      <td>53</td>\n",
       "      <td>R</td>\n",
       "      <td>1991.0</td>\n",
       "      <td>0.0</td>\n",
       "      <td>7.1</td>\n",
       "      <td>1.370000</td>\n",
       "      <td>2000</td>\n",
       "      <td>0.040532</td>\n",
       "      <td>2.163207</td>\n",
       "    </tr>\n",
       "    <tr>\n",
       "      <th>4569</th>\n",
       "      <td>Color</td>\n",
       "      <td>1269</td>\n",
       "      <td>43.000000</td>\n",
       "      <td>91.0</td>\n",
       "      <td>158.0</td>\n",
       "      <td>265.0</td>\n",
       "      <td>Brittany Curran</td>\n",
       "      <td>Horror|Mystery|Thriller</td>\n",
       "      <td>118</td>\n",
       "      <td>Exeter</td>\n",
       "      <td>...</td>\n",
       "      <td>9</td>\n",
       "      <td>53</td>\n",
       "      <td>R</td>\n",
       "      <td>2015.0</td>\n",
       "      <td>512.0</td>\n",
       "      <td>4.6</td>\n",
       "      <td>1.850000</td>\n",
       "      <td>0</td>\n",
       "      <td>40.254133</td>\n",
       "      <td>49.079877</td>\n",
       "    </tr>\n",
       "    <tr>\n",
       "      <th>4570</th>\n",
       "      <td>Color</td>\n",
       "      <td>858</td>\n",
       "      <td>51.000000</td>\n",
       "      <td>85.0</td>\n",
       "      <td>157.0</td>\n",
       "      <td>10.0</td>\n",
       "      <td>Katie Aselton</td>\n",
       "      <td>Comedy|Drama|Romance</td>\n",
       "      <td>1125</td>\n",
       "      <td>The Puffy Chair</td>\n",
       "      <td>...</td>\n",
       "      <td>9</td>\n",
       "      <td>53</td>\n",
       "      <td>R</td>\n",
       "      <td>2005.0</td>\n",
       "      <td>224.0</td>\n",
       "      <td>6.6</td>\n",
       "      <td>2.220403</td>\n",
       "      <td>297</td>\n",
       "      <td>0.018435</td>\n",
       "      <td>0.236536</td>\n",
       "    </tr>\n",
       "    <tr>\n",
       "      <th>4571</th>\n",
       "      <td>Color</td>\n",
       "      <td>852</td>\n",
       "      <td>42.000000</td>\n",
       "      <td>78.0</td>\n",
       "      <td>91.0</td>\n",
       "      <td>86.0</td>\n",
       "      <td>Jason Trost</td>\n",
       "      <td>Sci-Fi|Thriller</td>\n",
       "      <td>1560</td>\n",
       "      <td>All Superheroes Must Die</td>\n",
       "      <td>...</td>\n",
       "      <td>9</td>\n",
       "      <td>53</td>\n",
       "      <td>Unrated</td>\n",
       "      <td>2011.0</td>\n",
       "      <td>91.0</td>\n",
       "      <td>4.0</td>\n",
       "      <td>2.350000</td>\n",
       "      <td>835</td>\n",
       "      <td>0.021340</td>\n",
       "      <td>51.715161</td>\n",
       "    </tr>\n",
       "    <tr>\n",
       "      <th>4572</th>\n",
       "      <td>Color</td>\n",
       "      <td>1010</td>\n",
       "      <td>73.000000</td>\n",
       "      <td>108.0</td>\n",
       "      <td>0.0</td>\n",
       "      <td>105.0</td>\n",
       "      <td>Mink Stole</td>\n",
       "      <td>Comedy|Crime|Horror</td>\n",
       "      <td>439</td>\n",
       "      <td>Pink Flamingos</td>\n",
       "      <td>...</td>\n",
       "      <td>9</td>\n",
       "      <td>53</td>\n",
       "      <td>NC-17</td>\n",
       "      <td>1972.0</td>\n",
       "      <td>143.0</td>\n",
       "      <td>6.1</td>\n",
       "      <td>1.370000</td>\n",
       "      <td>0</td>\n",
       "      <td>0.057395</td>\n",
       "      <td>1.035884</td>\n",
       "    </tr>\n",
       "    <tr>\n",
       "      <th>4573</th>\n",
       "      <td>Color</td>\n",
       "      <td>1506</td>\n",
       "      <td>81.000000</td>\n",
       "      <td>110.0</td>\n",
       "      <td>107.0</td>\n",
       "      <td>45.0</td>\n",
       "      <td>Béatrice Dalle</td>\n",
       "      <td>Drama|Music|Romance</td>\n",
       "      <td>1101</td>\n",
       "      <td>Clean</td>\n",
       "      <td>...</td>\n",
       "      <td>11</td>\n",
       "      <td>15</td>\n",
       "      <td>R</td>\n",
       "      <td>2004.0</td>\n",
       "      <td>133.0</td>\n",
       "      <td>6.9</td>\n",
       "      <td>2.350000</td>\n",
       "      <td>171</td>\n",
       "      <td>0.005718</td>\n",
       "      <td>0.172819</td>\n",
       "    </tr>\n",
       "    <tr>\n",
       "      <th>4574</th>\n",
       "      <td>Color</td>\n",
       "      <td>796</td>\n",
       "      <td>64.000000</td>\n",
       "      <td>90.0</td>\n",
       "      <td>397.0</td>\n",
       "      <td>0.0</td>\n",
       "      <td>Nargess Mamizadeh</td>\n",
       "      <td>Drama</td>\n",
       "      <td>550</td>\n",
       "      <td>The Circle</td>\n",
       "      <td>...</td>\n",
       "      <td>27</td>\n",
       "      <td>24</td>\n",
       "      <td>Not Rated</td>\n",
       "      <td>2000.0</td>\n",
       "      <td>0.0</td>\n",
       "      <td>7.5</td>\n",
       "      <td>1.850000</td>\n",
       "      <td>697</td>\n",
       "      <td>0.013938</td>\n",
       "      <td>0.939094</td>\n",
       "    </tr>\n",
       "    <tr>\n",
       "      <th>4575</th>\n",
       "      <td>Color</td>\n",
       "      <td>1829</td>\n",
       "      <td>143.000000</td>\n",
       "      <td>77.0</td>\n",
       "      <td>291.0</td>\n",
       "      <td>8.0</td>\n",
       "      <td>David Sullivan</td>\n",
       "      <td>Drama|Sci-Fi|Thriller</td>\n",
       "      <td>1574</td>\n",
       "      <td>Primer</td>\n",
       "      <td>...</td>\n",
       "      <td>9</td>\n",
       "      <td>53</td>\n",
       "      <td>PG-13</td>\n",
       "      <td>2004.0</td>\n",
       "      <td>45.0</td>\n",
       "      <td>7.0</td>\n",
       "      <td>1.850000</td>\n",
       "      <td>19000</td>\n",
       "      <td>0.008895</td>\n",
       "      <td>0.539727</td>\n",
       "    </tr>\n",
       "    <tr>\n",
       "      <th>4576</th>\n",
       "      <td>Color</td>\n",
       "      <td>1465</td>\n",
       "      <td>35.000000</td>\n",
       "      <td>80.0</td>\n",
       "      <td>0.0</td>\n",
       "      <td>0.0</td>\n",
       "      <td>Edgar Tancangco</td>\n",
       "      <td>Thriller</td>\n",
       "      <td>669</td>\n",
       "      <td>Cavite</td>\n",
       "      <td>...</td>\n",
       "      <td>9</td>\n",
       "      <td>39</td>\n",
       "      <td>Not Rated</td>\n",
       "      <td>2005.0</td>\n",
       "      <td>0.0</td>\n",
       "      <td>6.3</td>\n",
       "      <td>2.220403</td>\n",
       "      <td>74</td>\n",
       "      <td>0.008603</td>\n",
       "      <td>0.086115</td>\n",
       "    </tr>\n",
       "    <tr>\n",
       "      <th>4577</th>\n",
       "      <td>Color</td>\n",
       "      <td>1722</td>\n",
       "      <td>56.000000</td>\n",
       "      <td>81.0</td>\n",
       "      <td>0.0</td>\n",
       "      <td>6.0</td>\n",
       "      <td>Peter Marquardt</td>\n",
       "      <td>Action|Crime|Drama|Romance|Thriller</td>\n",
       "      <td>239</td>\n",
       "      <td>El Mariachi</td>\n",
       "      <td>...</td>\n",
       "      <td>32</td>\n",
       "      <td>53</td>\n",
       "      <td>R</td>\n",
       "      <td>1992.0</td>\n",
       "      <td>20.0</td>\n",
       "      <td>6.9</td>\n",
       "      <td>1.370000</td>\n",
       "      <td>0</td>\n",
       "      <td>0.011973</td>\n",
       "      <td>3.490928</td>\n",
       "    </tr>\n",
       "    <tr>\n",
       "      <th>4578</th>\n",
       "      <td>Color</td>\n",
       "      <td>119</td>\n",
       "      <td>140.194272</td>\n",
       "      <td>84.0</td>\n",
       "      <td>2.0</td>\n",
       "      <td>2.0</td>\n",
       "      <td>John Considine</td>\n",
       "      <td>Crime|Drama</td>\n",
       "      <td>1437</td>\n",
       "      <td>The Mongol King</td>\n",
       "      <td>...</td>\n",
       "      <td>9</td>\n",
       "      <td>53</td>\n",
       "      <td>PG-13</td>\n",
       "      <td>2005.0</td>\n",
       "      <td>44.0</td>\n",
       "      <td>7.8</td>\n",
       "      <td>2.220403</td>\n",
       "      <td>4</td>\n",
       "      <td>0.003994</td>\n",
       "      <td>59.566111</td>\n",
       "    </tr>\n",
       "    <tr>\n",
       "      <th>4579</th>\n",
       "      <td>Color</td>\n",
       "      <td>542</td>\n",
       "      <td>14.000000</td>\n",
       "      <td>95.0</td>\n",
       "      <td>0.0</td>\n",
       "      <td>133.0</td>\n",
       "      <td>Caitlin FitzGerald</td>\n",
       "      <td>Comedy|Drama</td>\n",
       "      <td>964</td>\n",
       "      <td>Newlyweds</td>\n",
       "      <td>...</td>\n",
       "      <td>9</td>\n",
       "      <td>53</td>\n",
       "      <td>Not Rated</td>\n",
       "      <td>2011.0</td>\n",
       "      <td>205.0</td>\n",
       "      <td>6.4</td>\n",
       "      <td>2.220403</td>\n",
       "      <td>413</td>\n",
       "      <td>0.009603</td>\n",
       "      <td>0.004891</td>\n",
       "    </tr>\n",
       "    <tr>\n",
       "      <th>4580</th>\n",
       "      <td>Color</td>\n",
       "      <td>1019</td>\n",
       "      <td>43.000000</td>\n",
       "      <td>90.0</td>\n",
       "      <td>16.0</td>\n",
       "      <td>16.0</td>\n",
       "      <td>Brian Herzlinger</td>\n",
       "      <td>Documentary</td>\n",
       "      <td>842</td>\n",
       "      <td>My Date with Drew</td>\n",
       "      <td>...</td>\n",
       "      <td>9</td>\n",
       "      <td>53</td>\n",
       "      <td>PG</td>\n",
       "      <td>2004.0</td>\n",
       "      <td>23.0</td>\n",
       "      <td>6.6</td>\n",
       "      <td>1.850000</td>\n",
       "      <td>456</td>\n",
       "      <td>0.001398</td>\n",
       "      <td>0.108288</td>\n",
       "    </tr>\n",
       "  </tbody>\n",
       "</table>\n",
       "<p>4581 rows × 26 columns</p>\n",
       "</div>"
      ],
      "text/plain": [
       "                 color  director_name  num_critic_for_reviews  duration  \\\n",
       "0                Color            807              723.000000     178.0   \n",
       "1                Color            697              302.000000     169.0   \n",
       "2                Color           1788              602.000000     148.0   \n",
       "3                Color            332              813.000000     164.0   \n",
       "4                Color             87              462.000000     132.0   \n",
       "5                Color           1791              392.000000     156.0   \n",
       "6                Color           1457              324.000000     100.0   \n",
       "7                Color           1076              635.000000     141.0   \n",
       "8                Color            476              375.000000     153.0   \n",
       "9                Color           2108              673.000000     183.0   \n",
       "10               Color            249              434.000000     169.0   \n",
       "11               Color           1260              403.000000     106.0   \n",
       "12               Color            697              313.000000     151.0   \n",
       "13               Color            697              450.000000     150.0   \n",
       "14               Color           2108              733.000000     143.0   \n",
       "15               Color             73              258.000000     150.0   \n",
       "16               Color           1076              703.000000     173.0   \n",
       "17               Color           1693              448.000000     136.0   \n",
       "18               Color            149              451.000000     106.0   \n",
       "19               Color           1579              422.000000     164.0   \n",
       "20               Color           1264              599.000000     153.0   \n",
       "21               Color           1685              343.000000     156.0   \n",
       "22               Color           1579              509.000000     186.0   \n",
       "23               Color            312              251.000000     113.0   \n",
       "24               Color           1579              446.000000     201.0   \n",
       "25               Color            807              315.000000     194.0   \n",
       "26               Color            117              516.000000     147.0   \n",
       "27               Color           1563              377.000000     131.0   \n",
       "28               Color            351              644.000000     124.0   \n",
       "29               Color           1788              750.000000     143.0   \n",
       "...                ...            ...                     ...       ...   \n",
       "4551             Color           1322               73.000000      83.0   \n",
       "4552             Color            247                1.000000      99.0   \n",
       "4553             Color           1201              113.000000      98.0   \n",
       "4554             Color           2087              161.000000      97.0   \n",
       "4555             Color            276               34.000000      83.0   \n",
       "4556             Color            441               75.000000      90.0   \n",
       "4557             Color           1146               21.000000      90.0   \n",
       "4558             Color           2024                2.000000      83.0   \n",
       "4559             Color           1308               71.000000     117.0   \n",
       "4560             Color            211               61.000000      79.0   \n",
       "4561   Black and White             75               52.000000     109.0   \n",
       "4562             Color            380              140.194272      89.0   \n",
       "4563             Color            159               53.000000      93.0   \n",
       "4564   Black and White           1152              136.000000     102.0   \n",
       "4565             Color           1462               80.000000      97.0   \n",
       "4566             Color            426              233.000000     109.0   \n",
       "4567             Color           2036               58.000000      80.0   \n",
       "4568   Black and White           1670               61.000000     100.0   \n",
       "4569             Color           1269               43.000000      91.0   \n",
       "4570             Color            858               51.000000      85.0   \n",
       "4571             Color            852               42.000000      78.0   \n",
       "4572             Color           1010               73.000000     108.0   \n",
       "4573             Color           1506               81.000000     110.0   \n",
       "4574             Color            796               64.000000      90.0   \n",
       "4575             Color           1829              143.000000      77.0   \n",
       "4576             Color           1465               35.000000      80.0   \n",
       "4577             Color           1722               56.000000      81.0   \n",
       "4578             Color            119              140.194272      84.0   \n",
       "4579             Color            542               14.000000      95.0   \n",
       "4580             Color           1019               43.000000      90.0   \n",
       "\n",
       "      director_facebook_likes  actor_3_facebook_likes          actor_2_name  \\\n",
       "0                         0.0                   855.0      Joel David Moore   \n",
       "1                       563.0                  1000.0         Orlando Bloom   \n",
       "2                         0.0                   161.0          Rory Kinnear   \n",
       "3                     22000.0                 23000.0        Christian Bale   \n",
       "4                       475.0                   530.0       Samantha Morton   \n",
       "5                         0.0                  4000.0          James Franco   \n",
       "6                        15.0                   284.0          Donna Murphy   \n",
       "7                         0.0                 19000.0     Robert Downey Jr.   \n",
       "8                       282.0                 10000.0      Daniel Radcliffe   \n",
       "9                         0.0                  2000.0          Lauren Cohan   \n",
       "10                        0.0                   903.0         Marlon Brando   \n",
       "11                      395.0                   393.0       Mathieu Amalric   \n",
       "12                      563.0                  1000.0         Orlando Bloom   \n",
       "13                      563.0                  1000.0           Ruth Wilson   \n",
       "14                        0.0                   748.0    Christopher Meloni   \n",
       "15                       80.0                   201.0  Pierfrancesco Favino   \n",
       "16                        0.0                 19000.0     Robert Downey Jr.   \n",
       "17                      252.0                  1000.0           Sam Claflin   \n",
       "18                      188.0                   718.0     Michael Stuhlbarg   \n",
       "19                        0.0                   773.0            Adam Brown   \n",
       "20                      464.0                   963.0       Andrew Garfield   \n",
       "21                        0.0                   738.0          William Hurt   \n",
       "22                        0.0                   773.0            Adam Brown   \n",
       "23                      129.0                  1000.0             Eva Green   \n",
       "24                        0.0                    84.0    Thomas Kretschmann   \n",
       "25                        0.0                   794.0          Kate Winslet   \n",
       "26                       94.0                 11000.0    Scarlett Johansson   \n",
       "27                      532.0                   627.0   Alexander Skarsgård   \n",
       "28                      365.0                  1000.0            Judy Greer   \n",
       "29                        0.0                   393.0         Helen McCrory   \n",
       "...                       ...                     ...                   ...   \n",
       "4551                      8.0                     8.0      Shailene Garnett   \n",
       "4552                      9.0                     3.0           Sonia Braga   \n",
       "4553                    969.0                   433.0         Merritt Wever   \n",
       "4554                     18.0                   236.0          Olivia Cooke   \n",
       "4555                      3.0                    69.0         Paul Eenhoorn   \n",
       "4556                    234.0                    15.0           Eddie Rouse   \n",
       "4557                      4.0                   113.0        Christa Miller   \n",
       "4558                    138.0                    76.0        Patricia Raven   \n",
       "4559                  17000.0                   476.0            Levon Helm   \n",
       "4560                      2.0                    20.0          Mark Rendall   \n",
       "4561                     26.0                     3.0      Kate Dollenmayer   \n",
       "4562                      2.0                     0.0            Ron Gelner   \n",
       "4563                    214.0                    59.0              Tony Way   \n",
       "4564                      0.0                   216.0      Brian O'Halloran   \n",
       "4565                    119.0                     7.0           Matt Malloy   \n",
       "4566                    453.0                   120.0        Martin Donovan   \n",
       "4567                    892.0                   492.0    Katharine Isabelle   \n",
       "4568                      0.0                     0.0     Richard Linklater   \n",
       "4569                    158.0                   265.0       Brittany Curran   \n",
       "4570                    157.0                    10.0         Katie Aselton   \n",
       "4571                     91.0                    86.0           Jason Trost   \n",
       "4572                      0.0                   105.0            Mink Stole   \n",
       "4573                    107.0                    45.0        Béatrice Dalle   \n",
       "4574                    397.0                     0.0     Nargess Mamizadeh   \n",
       "4575                    291.0                     8.0        David Sullivan   \n",
       "4576                      0.0                     0.0       Edgar Tancangco   \n",
       "4577                      0.0                     6.0       Peter Marquardt   \n",
       "4578                      2.0                     2.0        John Considine   \n",
       "4579                      0.0                   133.0    Caitlin FitzGerald   \n",
       "4580                     16.0                    16.0      Brian Herzlinger   \n",
       "\n",
       "                                                 genres  actor_1_name  \\\n",
       "0                       Action|Adventure|Fantasy|Sci-Fi           230   \n",
       "1                              Action|Adventure|Fantasy           869   \n",
       "2                             Action|Adventure|Thriller           306   \n",
       "3                                       Action|Thriller          1709   \n",
       "4                               Action|Adventure|Sci-Fi           388   \n",
       "5                              Action|Adventure|Romance           696   \n",
       "6     Adventure|Animation|Comedy|Family|Fantasy|Musi...           186   \n",
       "7                               Action|Adventure|Sci-Fi           289   \n",
       "8                      Adventure|Family|Fantasy|Mystery            25   \n",
       "9                               Action|Adventure|Sci-Fi           653   \n",
       "10                              Action|Adventure|Sci-Fi           973   \n",
       "11                                     Action|Adventure           604   \n",
       "12                             Action|Adventure|Fantasy           869   \n",
       "13                             Action|Adventure|Western           869   \n",
       "14                      Action|Adventure|Fantasy|Sci-Fi           653   \n",
       "15                      Action|Adventure|Family|Fantasy          1363   \n",
       "16                              Action|Adventure|Sci-Fi           289   \n",
       "17                             Action|Adventure|Fantasy           869   \n",
       "18        Action|Adventure|Comedy|Family|Fantasy|Sci-Fi          1784   \n",
       "19                                    Adventure|Fantasy            20   \n",
       "20                             Action|Adventure|Fantasy           515   \n",
       "21                       Action|Adventure|Drama|History          1124   \n",
       "22                                    Adventure|Fantasy            20   \n",
       "23                             Adventure|Family|Fantasy           311   \n",
       "24                       Action|Adventure|Drama|Romance          1265   \n",
       "25                                        Drama|Romance          1039   \n",
       "26                              Action|Adventure|Sci-Fi          1454   \n",
       "27                     Action|Adventure|Sci-Fi|Thriller          1050   \n",
       "28                     Action|Adventure|Sci-Fi|Thriller           220   \n",
       "29                            Action|Adventure|Thriller            29   \n",
       "...                                                 ...           ...   \n",
       "4551                               Crime|Drama|Thriller          1347   \n",
       "4552                               Comedy|Drama|Romance          1112   \n",
       "4553                               Comedy|Drama|Romance          1032   \n",
       "4554                                    Sci-Fi|Thriller          1057   \n",
       "4555                                              Drama           736   \n",
       "4556                                              Drama          1354   \n",
       "4557                                     Comedy|Romance           431   \n",
       "4558                                             Horror           500   \n",
       "4559                                  Documentary|Music          1444   \n",
       "4560                                              Drama          1814   \n",
       "4561                                             Comedy            78   \n",
       "4562                                             Horror          1285   \n",
       "4563                                 Comedy|Crime|Drama          1215   \n",
       "4564                                             Comedy           746   \n",
       "4565                                       Comedy|Drama          1613   \n",
       "4566                        Action|Crime|Drama|Thriller          1239   \n",
       "4567                              Action|Crime|Thriller          1152   \n",
       "4568                                       Comedy|Drama          1715   \n",
       "4569                            Horror|Mystery|Thriller           118   \n",
       "4570                               Comedy|Drama|Romance          1125   \n",
       "4571                                    Sci-Fi|Thriller          1560   \n",
       "4572                                Comedy|Crime|Horror           439   \n",
       "4573                                Drama|Music|Romance          1101   \n",
       "4574                                              Drama           550   \n",
       "4575                              Drama|Sci-Fi|Thriller          1574   \n",
       "4576                                           Thriller           669   \n",
       "4577                Action|Crime|Drama|Romance|Thriller           239   \n",
       "4578                                        Crime|Drama          1437   \n",
       "4579                                       Comedy|Drama           964   \n",
       "4580                                        Documentary           842   \n",
       "\n",
       "                                       movie_title     ...      language  \\\n",
       "0                                          Avatar      ...             9   \n",
       "1        Pirates of the Caribbean: At World's End      ...             9   \n",
       "2                                         Spectre      ...             9   \n",
       "3                           The Dark Knight Rises      ...             9   \n",
       "4                                     John Carter      ...             9   \n",
       "5                                    Spider-Man 3      ...             9   \n",
       "6                                         Tangled      ...             9   \n",
       "7                         Avengers: Age of Ultron      ...             9   \n",
       "8          Harry Potter and the Half-Blood Prince      ...             9   \n",
       "9              Batman v Superman: Dawn of Justice      ...             9   \n",
       "10                               Superman Returns      ...             9   \n",
       "11                              Quantum of Solace      ...             9   \n",
       "12     Pirates of the Caribbean: Dead Man's Chest      ...             9   \n",
       "13                                The Lone Ranger      ...             9   \n",
       "14                                   Man of Steel      ...             9   \n",
       "15       The Chronicles of Narnia: Prince Caspian      ...             9   \n",
       "16                                   The Avengers      ...             9   \n",
       "17    Pirates of the Caribbean: On Stranger Tides      ...             9   \n",
       "18                                 Men in Black 3      ...             9   \n",
       "19      The Hobbit: The Battle of the Five Armies      ...             9   \n",
       "20                         The Amazing Spider-Man      ...             9   \n",
       "21                                     Robin Hood      ...             9   \n",
       "22            The Hobbit: The Desolation of Smaug      ...             9   \n",
       "23                             The Golden Compass      ...             9   \n",
       "24                                      King Kong      ...             9   \n",
       "25                                        Titanic      ...             9   \n",
       "26                     Captain America: Civil War      ...             9   \n",
       "27                                     Battleship      ...             9   \n",
       "28                                 Jurassic World      ...             9   \n",
       "29                                        Skyfall      ...             9   \n",
       "...                                            ...     ...           ...   \n",
       "4551                                  The Dirties      ...             9   \n",
       "4552                                     Gabriela      ...            29   \n",
       "4553                               Tiny Furniture      ...             9   \n",
       "4554                                   The Signal      ...             9   \n",
       "4555                        This Is Martin Bonner      ...             9   \n",
       "4556                            George Washington      ...             9   \n",
       "4557                  Smiling Fish & Goat on Fire      ...             9   \n",
       "4558                               Raymond Did It      ...             9   \n",
       "4559                               The Last Waltz      ...             9   \n",
       "4560                           The Exploding Girl      ...             9   \n",
       "4561                          Mutual Appreciation      ...             9   \n",
       "4562            Her Cry: La Llorona Investigation      ...             9   \n",
       "4563                                 Down Terrace      ...             9   \n",
       "4564                                       Clerks      ...             9   \n",
       "4565                        In the Company of Men      ...             9   \n",
       "4566                                     Sabotage      ...             9   \n",
       "4567                                      Rampage      ...             9   \n",
       "4568                                      Slacker      ...             9   \n",
       "4569                                       Exeter      ...             9   \n",
       "4570                              The Puffy Chair      ...             9   \n",
       "4571                     All Superheroes Must Die      ...             9   \n",
       "4572                               Pink Flamingos      ...             9   \n",
       "4573                                        Clean      ...            11   \n",
       "4574                                   The Circle      ...            27   \n",
       "4575                                       Primer      ...             9   \n",
       "4576                                       Cavite      ...             9   \n",
       "4577                                  El Mariachi      ...            32   \n",
       "4578                              The Mongol King      ...             9   \n",
       "4579                                    Newlyweds      ...             9   \n",
       "4580                            My Date with Drew      ...             9   \n",
       "\n",
       "      country content_rating  title_year actor_2_facebook_likes  imdb_score  \\\n",
       "0          53          PG-13      2009.0                  936.0         7.9   \n",
       "1          53          PG-13      2007.0                 5000.0         7.1   \n",
       "2          52          PG-13      2015.0                  393.0         6.8   \n",
       "3          53          PG-13      2012.0                23000.0         8.5   \n",
       "4          53          PG-13      2012.0                  632.0         6.6   \n",
       "5          53          PG-13      2007.0                11000.0         6.2   \n",
       "6          53             PG      2010.0                  553.0         7.8   \n",
       "7          53          PG-13      2015.0                21000.0         7.5   \n",
       "8          52             PG      2009.0                11000.0         7.5   \n",
       "9          53          PG-13      2016.0                 4000.0         6.9   \n",
       "10         53          PG-13      2006.0                10000.0         6.1   \n",
       "11         52          PG-13      2008.0                  412.0         6.7   \n",
       "12         53          PG-13      2006.0                 5000.0         7.3   \n",
       "13         53          PG-13      2013.0                 2000.0         6.5   \n",
       "14         53          PG-13      2013.0                 3000.0         7.2   \n",
       "15         53             PG      2008.0                  216.0         6.6   \n",
       "16         53          PG-13      2012.0                21000.0         8.1   \n",
       "17         53          PG-13      2011.0                11000.0         6.7   \n",
       "18         53          PG-13      2012.0                  816.0         6.8   \n",
       "19         34          PG-13      2014.0                  972.0         7.5   \n",
       "20         53          PG-13      2012.0                10000.0         7.0   \n",
       "21         53          PG-13      2010.0                  882.0         6.7   \n",
       "22         53          PG-13      2013.0                  972.0         7.9   \n",
       "23         53          PG-13      2007.0                 6000.0         6.1   \n",
       "24         34          PG-13      2005.0                  919.0         7.2   \n",
       "25         53          PG-13      1997.0                14000.0         7.7   \n",
       "26         53          PG-13      2016.0                19000.0         8.2   \n",
       "27         53          PG-13      2012.0                10000.0         5.9   \n",
       "28         53          PG-13      2015.0                 2000.0         7.0   \n",
       "29         52          PG-13      2012.0                  563.0         7.8   \n",
       "...       ...            ...         ...                    ...         ...   \n",
       "4551        8      Not Rated      2013.0                   19.0         6.7   \n",
       "4552        6              R      1983.0                  308.0         6.4   \n",
       "4553       53      Not Rated      2010.0                  529.0         6.3   \n",
       "4554       53          PG-13      2014.0                  680.0         6.1   \n",
       "4555       53              R      2013.0                  571.0         6.6   \n",
       "4556       53        Unrated      2000.0                   61.0         7.5   \n",
       "4557       53              R      1999.0                  467.0         7.6   \n",
       "4558       53        Unrated      2011.0                  114.0         3.2   \n",
       "4559       53             PG      1978.0                  572.0         8.2   \n",
       "4560       53        Unrated      2009.0                   72.0         6.3   \n",
       "4561       53              R      2005.0                    6.0         6.9   \n",
       "4562       53      Not Rated      2013.0                    0.0         5.4   \n",
       "4563       52              R      2009.0                   95.0         6.5   \n",
       "4564       53              R      1994.0                  657.0         7.8   \n",
       "4565        8              R      1997.0                  108.0         7.3   \n",
       "4566       53              R      2014.0                  206.0         5.7   \n",
       "4567        8              R      2009.0                  918.0         6.3   \n",
       "4568       53              R      1991.0                    0.0         7.1   \n",
       "4569       53              R      2015.0                  512.0         4.6   \n",
       "4570       53              R      2005.0                  224.0         6.6   \n",
       "4571       53        Unrated      2011.0                   91.0         4.0   \n",
       "4572       53          NC-17      1972.0                  143.0         6.1   \n",
       "4573       15              R      2004.0                  133.0         6.9   \n",
       "4574       24      Not Rated      2000.0                    0.0         7.5   \n",
       "4575       53          PG-13      2004.0                   45.0         7.0   \n",
       "4576       39      Not Rated      2005.0                    0.0         6.3   \n",
       "4577       53              R      1992.0                   20.0         6.9   \n",
       "4578       53          PG-13      2005.0                   44.0         7.8   \n",
       "4579       53      Not Rated      2011.0                  205.0         6.4   \n",
       "4580       53             PG      2004.0                   23.0         6.6   \n",
       "\n",
       "      aspect_ratio  movie_facebook_likes  adj_budget   adj_gross  \n",
       "0         1.780000                 33000  265.137009  850.794285  \n",
       "1         2.350000                     0  347.262037  358.147720  \n",
       "2         2.350000                 85000  248.090879  202.598277  \n",
       "3         2.350000                164000  261.338770  468.455642  \n",
       "4         2.350000                 24000  275.660134   76.372261  \n",
       "5         2.350000                     0  298.645352  389.547329  \n",
       "6         1.850000                 29000  286.174223  221.022547  \n",
       "7         2.350000                118000  253.153958  464.782160  \n",
       "8         2.350000                 10000  279.680389  337.805783  \n",
       "9         2.350000                197000  250.000000  330.249062  \n",
       "10        2.350000                     0  248.827239  238.194825  \n",
       "11        2.350000                     0  222.948797  187.687691  \n",
       "12        2.350000                  5000  267.876214  503.646128  \n",
       "13        2.350000                 48000  221.506640   91.992130  \n",
       "14        2.350000                118000  231.809275  299.828879  \n",
       "15        2.350000                     0  250.817396  157.863380  \n",
       "16        1.850000                123000  229.978117  651.548439  \n",
       "17        2.350000                 58000  266.746750  257.212021  \n",
       "18        1.850000                 40000  235.204893  187.140359  \n",
       "19        2.350000                 65000  253.454267  258.633220  \n",
       "20        2.350000                 56000  240.431668  273.915084  \n",
       "21        2.350000                 17000  220.134018  115.812215  \n",
       "22        2.350000                 83000  231.809275  266.174076  \n",
       "23        2.350000                     0  208.357222   81.124485  \n",
       "24        2.350000                     0  254.396331  267.977974  \n",
       "25        2.350000                 26000  299.043298  984.857686  \n",
       "26        2.350000                 72000  250.000000  407.197282  \n",
       "27        2.350000                 44000  218.479211   68.129094  \n",
       "28        2.000000                150000  151.892375  660.405030  \n",
       "29        2.350000                 80000  209.071016  318.164561  \n",
       "...            ...                   ...         ...         ...  \n",
       "4551      2.220403                  1000   40.955672   49.935228  \n",
       "4552      2.350000                   114   95.792307  116.794831  \n",
       "4553      2.350000                     0    0.071544    0.429046  \n",
       "4554      2.350000                 10000    4.055268   49.138099  \n",
       "4555     16.000000                   234    0.043271   49.935228  \n",
       "4556      2.350000                   451    0.058538    0.337036  \n",
       "4557      1.850000                     0    0.057633    0.399447  \n",
       "4558      2.350000                   239    0.042679   51.715161  \n",
       "4559      1.850000                     0  146.258260    1.184529  \n",
       "4560      2.220403                   377   44.472113    0.027638  \n",
       "4561      1.660000                    91   48.854690   59.566111  \n",
       "4562      2.220403                    48    0.061816   49.935228  \n",
       "4563      2.220403                   535   44.472113    0.010750  \n",
       "4564      1.370000                     0    0.372418    5.102336  \n",
       "4565      1.850000                   489    0.037380    4.271268  \n",
       "4566      1.850000                 10000   35.483597   10.645047  \n",
       "4567      2.350000                     0   44.472113   54.222652  \n",
       "4568      1.370000                  2000    0.040532    2.163207  \n",
       "4569      1.850000                     0   40.254133   49.079877  \n",
       "4570      2.220403                   297    0.018435    0.236536  \n",
       "4571      2.350000                   835    0.021340   51.715161  \n",
       "4572      1.370000                     0    0.057395    1.035884  \n",
       "4573      2.350000                   171    0.005718    0.172819  \n",
       "4574      1.850000                   697    0.013938    0.939094  \n",
       "4575      1.850000                 19000    0.008895    0.539727  \n",
       "4576      2.220403                    74    0.008603    0.086115  \n",
       "4577      1.370000                     0    0.011973    3.490928  \n",
       "4578      2.220403                     4    0.003994   59.566111  \n",
       "4579      2.220403                   413    0.009603    0.004891  \n",
       "4580      1.850000                   456    0.001398    0.108288  \n",
       "\n",
       "[4581 rows x 26 columns]"
      ]
     },
     "execution_count": 40,
     "metadata": {},
     "output_type": "execute_result"
    }
   ],
   "source": [
    "movie_data=pd.concat([movie_data,budgets],axis=1)\n",
    "movie_data=pd.concat([movie_data,grosses],axis=1)\n",
    "movie_data=movie_data.drop(['budget','gross'],axis=1)\n",
    "movie_data"
   ]
  },
  {
   "cell_type": "code",
   "execution_count": 41,
   "metadata": {
    "collapsed": false
   },
   "outputs": [],
   "source": [
    "working_data =movie_data.drop([\"genres\",\"content_rating\",\"movie_title\",\n",
    "                                 \"actor_1_name\",\"actor_2_name\",\"actor_1_name\",\"plot_keywords\",\"actor_3_name\"], axis=1)\n",
    "attributes=working_data.drop('imdb_score',axis=1)\n",
    "labels=working_data.imdb_score\n",
    "attr_train,attr_test,l_train,l_test= train_test_split(attributes,labels,train_size=0.7)\n",
    "scale=StandardScaler()\n",
    "\n",
    "scaled_attr_train=scale.fit_transform(pd.get_dummies(attr_train),l_train)\n",
    "scaled_attr_test=scale.fit_transform(pd.get_dummies(attr_test),l_test)\n",
    "scaled_attr= scale.fit_transform(pd.get_dummies(attributes),labels)\n",
    "kfold= StratifiedKFold(n_splits=10, shuffle = True)\n",
    "folds = kfold.get_n_splits(scaled_attr_train,l_train)"
   ]
  },
  {
   "cell_type": "code",
   "execution_count": 42,
   "metadata": {
    "collapsed": false
   },
   "outputs": [],
   "source": [
    "kfold= StratifiedKFold(n_splits=4, shuffle = True)\n",
    "folds = kfold.get_n_splits(scaled_attr,labels)"
   ]
  },
  {
   "cell_type": "markdown",
   "metadata": {},
   "source": [
    "### Ridge"
   ]
  },
  {
   "cell_type": "code",
   "execution_count": 43,
   "metadata": {
    "collapsed": false
   },
   "outputs": [
    {
     "data": {
      "text/plain": [
       "GridSearchCV(cv=None, error_score='raise',\n",
       "       estimator=Ridge(alpha=1.0, copy_X=True, fit_intercept=True, max_iter=None,\n",
       "   normalize=False, random_state=None, solver='auto', tol=0.001),\n",
       "       fit_params={}, iid=True, n_jobs=1,\n",
       "       param_grid={'alpha': [0.1, 1, 2, 10], 'normalize': [True, False], 'fit_intercept': [True, False]},\n",
       "       pre_dispatch='2*n_jobs', refit=True, return_train_score=True,\n",
       "       scoring=None, verbose=0)"
      ]
     },
     "execution_count": 43,
     "metadata": {},
     "output_type": "execute_result"
    }
   ],
   "source": [
    "ridge_scl=Ridge()\n",
    "params={'alpha':[0.1,1,2,10],'normalize':[True,False],'fit_intercept':[True,False]}\n",
    "grid=GridSearchCV(ridge_scl,params)\n",
    "grid.fit(scaled_attr_train,l_train)"
   ]
  },
  {
   "cell_type": "code",
   "execution_count": 44,
   "metadata": {
    "collapsed": false
   },
   "outputs": [
    {
     "name": "stdout",
     "output_type": "stream",
     "text": [
      "[ 0.38234762  0.40726309  0.37200438  0.2780364 ]\n",
      "[-0.60967391 -0.68640865 -0.76939537 -1.0428054 ]\n"
     ]
    }
   ],
   "source": [
    "ridge_scl1=Ridge()\n",
    "print(cross_val_score(ridge_scl1,scaled_attr,labels,cv=folds,scoring='r2'))\n",
    "print(cross_val_score(ridge_scl1,scaled_attr,labels,cv=folds,scoring='neg_mean_squared_error'))"
   ]
  },
  {
   "cell_type": "code",
   "execution_count": 45,
   "metadata": {
    "collapsed": false
   },
   "outputs": [],
   "source": [
    "ridge_scl1.fit(scaled_attr_train,l_train)\n",
    "predicted=ridge_scl1.predict(scaled_attr_test)"
   ]
  },
  {
   "cell_type": "code",
   "execution_count": 46,
   "metadata": {
    "collapsed": false
   },
   "outputs": [
    {
     "name": "stdout",
     "output_type": "stream",
     "text": [
      "-0.02310635739805826\n",
      "2.81692192634\n"
     ]
    },
    {
     "data": {
      "image/png": "[encoded data removed]",
      "text/plain": [
       "<matplotlib.figure.Figure at 0x2331f0045c0>"
      ]
     },
     "metadata": {},
     "output_type": "display_data"
    },
    {
     "data": {
      "image/png": "[encoded data removed]",
      "text/plain": [
       "<matplotlib.figure.Figure at 0x2331eb3db70>"
      ]
     },
     "metadata": {},
     "output_type": "display_data"
    }
   ],
   "source": [
    "print((l_test-predicted).mean())\n",
    "print((l_test-predicted).max())\n",
    "plt.scatter(predicted,l_test-predicted)\n",
    "plt.show()\n",
    "plt.hist(l_test-predicted,bins=40)\n",
    "plt.show()"
   ]
  },
  {
   "cell_type": "markdown",
   "metadata": {},
   "source": [
    "I have prepared the training and testing samples which are stratified and scaled also inflation is a factor and I hope to achieve better results both with RandomForests and SVMs."
   ]
  },
  {
   "cell_type": "markdown",
   "metadata": {},
   "source": [
    "### Random Forest"
   ]
  },
  {
   "cell_type": "code",
   "execution_count": 47,
   "metadata": {
    "collapsed": false
   },
   "outputs": [
    {
     "name": "stdout",
     "output_type": "stream",
     "text": [
      "[ 0.45933285  0.49415919  0.46803288  0.29022809]\n",
      "[-0.53221813 -0.58777456 -0.65565927 -1.03597866]\n"
     ]
    }
   ],
   "source": [
    "forest = RandomForestRegressor(n_estimators=500, max_depth=10,n_jobs=-1)\n",
    "print(cross_val_score(forest,scaled_attr,labels,cv=folds,n_jobs=-1,scoring='r2'))\n",
    "print(cross_val_score(forest,scaled_attr,labels,cv=folds,n_jobs=-1,scoring='neg_mean_squared_error'))\n"
   ]
  },
  {
   "cell_type": "code",
   "execution_count": 48,
   "metadata": {
    "collapsed": false
   },
   "outputs": [
    {
     "data": {
      "text/plain": [
       "RandomForestRegressor(bootstrap=True, criterion='mse', max_depth=10,\n",
       "           max_features='auto', max_leaf_nodes=None,\n",
       "           min_impurity_split=1e-07, min_samples_leaf=1,\n",
       "           min_samples_split=2, min_weight_fraction_leaf=0.0,\n",
       "           n_estimators=500, n_jobs=-1, oob_score=False, random_state=None,\n",
       "           verbose=0, warm_start=False)"
      ]
     },
     "execution_count": 48,
     "metadata": {},
     "output_type": "execute_result"
    }
   ],
   "source": [
    "forest.fit(scaled_attr_train,l_train)"
   ]
  },
  {
   "cell_type": "code",
   "execution_count": 49,
   "metadata": {
    "collapsed": false
   },
   "outputs": [
    {
     "name": "stdout",
     "output_type": "stream",
     "text": [
      "-0.011243332096258397\n"
     ]
    }
   ],
   "source": [
    "predicted=forest.predict(scaled_attr_test)\n",
    "y=predicted-l_test\n",
    "print(y.mean())"
   ]
  },
  {
   "cell_type": "code",
   "execution_count": 50,
   "metadata": {
    "collapsed": false
   },
   "outputs": [
    {
     "data": {
      "image/png": "[encoded data removed]",
      "text/plain": [
       "<matplotlib.figure.Figure at 0x2331ea0b9e8>"
      ]
     },
     "metadata": {},
     "output_type": "display_data"
    },
    {
     "data": {
      "image/png": "[encoded data removed]",
      "text/plain": [
       "<matplotlib.figure.Figure at 0x2331ea0bb00>"
      ]
     },
     "metadata": {},
     "output_type": "display_data"
    }
   ],
   "source": [
    "plt.scatter(predicted,y)\n",
    "plt.title(\"Random Forest with Inflation and with scaled data\")\n",
    "plt.show()\n",
    "plt.title(\"Random Forest with Inflation and with scaled data\")\n",
    "plt.hist(y,bins=40)\n",
    "plt.show()"
   ]
  },
  {
   "cell_type": "code",
   "execution_count": 51,
   "metadata": {
    "collapsed": false
   },
   "outputs": [
    {
     "data": {
      "text/plain": [
       "0.77838016964389323"
      ]
     },
     "execution_count": 51,
     "metadata": {},
     "output_type": "execute_result"
    }
   ],
   "source": [
    "forest.score(scaled_attr_train,l_train)"
   ]
  },
  {
   "cell_type": "markdown",
   "metadata": {},
   "source": [
    "The results are actually slightly better. There is still some difference in the cross validation results but in comparison to the previous Random Forest they are smaller and the scores are higher."
   ]
  },
  {
   "cell_type": "markdown",
   "metadata": {},
   "source": [
    "### Support Vector Machines"
   ]
  },
  {
   "cell_type": "code",
   "execution_count": null,
   "metadata": {
    "collapsed": false
   },
   "outputs": [],
   "source": [
    "#svm1=SVR(C=10000,epsilon=1,kernel='linear')\n",
    "#cross_val_score(svm1,scaled_attr,labels,cv=folds,n_jobs=-1)"
   ]
  },
  {
   "cell_type": "markdown",
   "metadata": {},
   "source": [
    "With the support vector machines I am not getting very good scores but they have a smaller difference than the RandomForest scores and I am going to look at the error graph to see more information about how is my model working."
   ]
  },
  {
   "cell_type": "code",
   "execution_count": null,
   "metadata": {
    "collapsed": false
   },
   "outputs": [],
   "source": [
    "#svm1.fit(scaled_attr_train,l_train)\n",
    "#predicted=svm1.predict(scaled_attr_test)\n",
    "#"
   ]
  },
  {
   "cell_type": "code",
   "execution_count": null,
   "metadata": {
    "collapsed": false
   },
   "outputs": [],
   "source": [
    "y=l_test-predicted\n",
    "print(y.max())\n",
    "plt.scatter(predicted,y)\n",
    "plt.title(\"SVM with scaled data and inflation\")\n",
    "plt.show()\n",
    "\n",
    "plt.title(\"SVM with scaled data and inflation\")\n",
    "plt.hist(y,bins=40)\n",
    "plt.show()"
   ]
  },
  {
   "cell_type": "markdown",
   "metadata": {},
   "source": [
    "### Neural network"
   ]
  },
  {
   "cell_type": "code",
   "execution_count": 52,
   "metadata": {
    "collapsed": false
   },
   "outputs": [
    {
     "name": "stdout",
     "output_type": "stream",
     "text": [
      "{'hidden_layer_sizes': (80, 20, 50, 15, 60)}\n"
     ]
    }
   ],
   "source": [
    "nn1=MLPRegressor()\n",
    "params={'hidden_layer_sizes':[(100,100,100),(100,),(30,30,30,30,30),(80,20,50,15,60),(30,30,30,30,30)]}\n",
    "grid=GridSearchCV(nn1,params,n_jobs=-1)\n",
    "grid.fit(scaled_attr_train,l_train)\n",
    "print(grid.best_params_)"
   ]
  },
  {
   "cell_type": "code",
   "execution_count": 53,
   "metadata": {
    "collapsed": false
   },
   "outputs": [
    {
     "data": {
      "text/plain": [
       "array([ 0.26822516,  0.33404322,  0.43341215, -0.04555966])"
      ]
     },
     "execution_count": 53,
     "metadata": {},
     "output_type": "execute_result"
    }
   ],
   "source": [
    "nn2=MLPRegressor(hidden_layer_sizes=(80, 20, 50, 15, 60))\n",
    "cross_val_score(nn2,scaled_attr,labels,n_jobs=-1,cv=folds)"
   ]
  },
  {
   "cell_type": "markdown",
   "metadata": {},
   "source": [
    "The model is very unstable and the scores are low so I am not going to examine it any further"
   ]
  },
  {
   "cell_type": "code",
   "execution_count": 54,
   "metadata": {
    "collapsed": false
   },
   "outputs": [
    {
     "name": "stdout",
     "output_type": "stream",
     "text": [
      "[  2.05761737e+10   3.25823415e+08   2.69891658e+08]\n"
     ]
    },
    {
     "data": {
      "image/png": "[encoded data removed]",
      "text/plain": [
       "<matplotlib.figure.Figure at 0x2331e9a3518>"
      ]
     },
     "metadata": {},
     "output_type": "display_data"
    }
   ],
   "source": [
    "pca=PCA(n_components=3)\n",
    "pca.fit(pd.get_dummies(attributes))\n",
    "print(pca.explained_variance_)\n",
    "plt.bar(list(range(len(pca.components_))), pca.explained_variance_ratio_)\n",
    "plt.xlim(0,10)\n",
    "plt.show()"
   ]
  },
  {
   "cell_type": "code",
   "execution_count": 55,
   "metadata": {
    "collapsed": false
   },
   "outputs": [],
   "source": [
    "movie_data['net_income']=movie_data.adj_gross-movie_data.adj_budget"
   ]
  },
  {
   "cell_type": "code",
   "execution_count": 56,
   "metadata": {
    "collapsed": false
   },
   "outputs": [
    {
     "data": {
      "text/plain": [
       "<matplotlib.axes._subplots.AxesSubplot at 0x2331f00cef0>"
      ]
     },
     "execution_count": 56,
     "metadata": {},
     "output_type": "execute_result"
    },
    {
     "data": {
      "image/png": "[encoded data removed]",
      "text/plain": [
       "<matplotlib.figure.Figure at 0x2331ea1f668>"
      ]
     },
     "metadata": {},
     "output_type": "display_data"
    }
   ],
   "source": [
    "basic_matrix=movie_data.corr()\n",
    "sns.heatmap(basic_matrix, square=True)"
   ]
  },
  {
   "cell_type": "code",
   "execution_count": 57,
   "metadata": {
    "collapsed": true
   },
   "outputs": [],
   "source": [
    "movie_data.imdb_score= round(movie_data.imdb_score)\n",
    "attributes = pd.get_dummies(movie_data.drop([\"genres\",\"content_rating\",\"movie_title\",\"director_name\",\n",
    "                                 \"actor_1_name\",\"actor_2_name\",\"actor_1_name\",\n",
    "                                          \"plot_keywords\",\"actor_3_name\",\"imdb_score\"], axis=1))\n",
    "labels=movie_data.imdb_score\n",
    "skf=StratifiedKFold(n_splits=5)\n",
    "attr=skf.get_n_splits(attributes,labels)\n",
    "attr_train,attr_test,l_train,l_test=train_test_split(attributes,labels,train_size=0.7,stratify=labels)"
   ]
  },
  {
   "cell_type": "code",
   "execution_count": 58,
   "metadata": {
    "collapsed": false
   },
   "outputs": [
    {
     "data": {
      "text/plain": [
       "GridSearchCV(cv=None, error_score='raise',\n",
       "       estimator=RandomForestRegressor(bootstrap=True, criterion='mse', max_depth=10,\n",
       "           max_features='auto', max_leaf_nodes=None,\n",
       "           min_impurity_split=1e-07, min_samples_leaf=1,\n",
       "           min_samples_split=2, min_weight_fraction_leaf=0.0,\n",
       "           n_estimators=500, n_jobs=-1, oob_score=False, random_state=None,\n",
       "           verbose=0, warm_start=False),\n",
       "       fit_params={}, iid=True, n_jobs=1,\n",
       "       param_grid={'n_estimators': [10, 100, 1000], 'max_depth': [1, 10, 20, 50]},\n",
       "       pre_dispatch='2*n_jobs', refit=True, return_train_score=True,\n",
       "       scoring=None, verbose=0)"
      ]
     },
     "execution_count": 58,
     "metadata": {},
     "output_type": "execute_result"
    }
   ],
   "source": [
    "forest_classifier= RandomForestClassifier(n_jobs=-1)\n",
    "params={\"n_estimators\":[10,100,1000],\"max_depth\":[1,10,20,50]}\n",
    "grid=GridSearchCV(forest,params)\n",
    "grid.fit(attr_train,l_train)"
   ]
  },
  {
   "cell_type": "code",
   "execution_count": 61,
   "metadata": {
    "collapsed": false
   },
   "outputs": [
    {
     "data": {
      "text/plain": [
       "array([ 0.49292709,  0.53645267,  0.53980371,  0.53231106,  0.4271632 ])"
      ]
     },
     "execution_count": 61,
     "metadata": {},
     "output_type": "execute_result"
    }
   ],
   "source": [
    "forest_cl = RandomForestClassifier(n_jobs=-1,n_estimators=500, max_depth=10)\n",
    "cross_val_score(forest_cl,attributes,labels,cv=attr,n_jobs=-1)"
   ]
  }
 ],
 "metadata": {
  "anaconda-cloud": {},
  "kernelspec": {
   "display_name": "Python 3",
   "language": "python",
   "name": "python3"
  },
  "language_info": {
   "codemirror_mode": {
    "name": "ipython",
    "version": 3
   },
   "file_extension": ".py",
   "mimetype": "text/x-python",
   "name": "python",
   "nbconvert_exporter": "python",
   "pygments_lexer": "ipython3",
   "version": "3.6.0"
  }
 },
 "nbformat": 4,
 "nbformat_minor": 1
}
