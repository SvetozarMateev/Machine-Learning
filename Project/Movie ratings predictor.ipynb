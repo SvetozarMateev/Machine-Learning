{
 "cells": [
  {
   "cell_type": "markdown",
   "metadata": {},
   "source": [
    "# Can I predict the rating of a movie ?\n",
    "#### Svetozar Mateev"
   ]
  },
  {
   "cell_type": "markdown",
   "metadata": {},
   "source": [
    "I have a dataset with 5000+ movies scraped from IMDB and my goal is to predict what will the movie rating be before anyone has voted based on the attributes which are in the dataset. The author has acknowledged the fact that some movie budgets and grosses are not in USD and also that the inflation factor isn't present. Also some of the values are 0's because the web scraping algorithm which he used couldn't find what he was searching for."
   ]
  },
  {
   "cell_type": "markdown",
   "metadata": {},
   "source": [
    "Firts of all I am going to start with the imports. I am going to neeed both data science and machine learning libraries."
   ]
  },
  {
   "cell_type": "code",
   "execution_count": 1,
   "metadata": {
    "collapsed": false
   },
   "outputs": [],
   "source": [
    "%matplotlib inline\n",
    "import pandas as pd\n",
    "import numpy as np\n",
    "import matplotlib.pyplot as plt\n",
    "import seaborn as sns\n",
    "\n",
    "from sklearn.linear_model import LinearRegression\n",
    "from sklearn.model_selection import train_test_split,GridSearchCV,cross_val_score,StratifiedKFold\n",
    "from sklearn.metrics import r2_score\n",
    "from sklearn.preprocessing import StandardScaler,MinMaxScaler,LabelEncoder\n",
    "\n",
    "\n",
    "from sklearn.linear_model import Lasso,Ridge,ElasticNet,BayesianRidge,ARDRegression,RANSACRegressor\n",
    "from sklearn.neighbors import KNeighborsRegressor\n",
    "from sklearn.svm import SVR\n",
    "from sklearn.tree import DecisionTreeRegressor\n",
    "from sklearn.ensemble import RandomForestRegressor,AdaBoostRegressor, RandomForestClassifier\n",
    "from sklearn.decomposition import PCA\n",
    "from sklearn.neural_network import MLPRegressor\n"
   ]
  },
  {
   "cell_type": "markdown",
   "metadata": {},
   "source": [
    "### Exploatory data analysis"
   ]
  },
  {
   "cell_type": "markdown",
   "metadata": {},
   "source": [
    "#### Data cleaning"
   ]
  },
  {
   "cell_type": "code",
   "execution_count": 2,
   "metadata": {
    "collapsed": false
   },
   "outputs": [
    {
     "data": {
      "text/plain": [
       "Index(['color', 'director_name', 'num_critic_for_reviews', 'duration',\n",
       "       'director_facebook_likes', 'actor_3_facebook_likes', 'actor_2_name',\n",
       "       'actor_1_facebook_likes', 'gross', 'genres', 'actor_1_name',\n",
       "       'movie_title', 'num_voted_users', 'cast_total_facebook_likes',\n",
       "       'actor_3_name', 'facenumber_in_poster', 'plot_keywords',\n",
       "       'movie_imdb_link', 'num_user_for_reviews', 'language', 'country',\n",
       "       'content_rating', 'budget', 'title_year', 'actor_2_facebook_likes',\n",
       "       'imdb_score', 'aspect_ratio', 'movie_facebook_likes'],\n",
       "      dtype='object')"
      ]
     },
     "execution_count": 2,
     "metadata": {},
     "output_type": "execute_result"
    }
   ],
   "source": [
    "movie_data = pd.read_csv (\"movie_metadata.csv\")\n",
    "movie_data.columns"
   ]
  },
  {
   "cell_type": "markdown",
   "metadata": {},
   "source": [
    "My attributes are: color, director name, number of critic for reviews, duration,\n",
    "       director facebook likes, third actor facebook likes, Name of second actor,\n",
    "       first actor facebook likes, gross, genres, Name of first actor,\n",
    "       movie title, number if voted users, cast total facebook likes,\n",
    "       Name of third actor, Number of faces in poster, plot keywords,\n",
    "       movie imdb link, number of user for reviews, language, country,\n",
    "       content rating, budget, title year, Second actor facebook likes,\n",
    "       imdb score, aspect ratio, movie Facebook likes."
   ]
  },
  {
   "cell_type": "code",
   "execution_count": 3,
   "metadata": {
    "collapsed": false
   },
   "outputs": [
    {
     "name": "stdout",
     "output_type": "stream",
     "text": [
      "color\n",
      "director_name\n",
      "num_critic_for_reviews\n",
      "duration\n",
      "director_facebook_likes\n",
      "actor_3_facebook_likes\n",
      "actor_2_name\n",
      "actor_1_facebook_likes\n",
      "gross\n",
      "actor_1_name\n",
      "actor_3_name\n",
      "facenumber_in_poster\n",
      "plot_keywords\n",
      "num_user_for_reviews\n",
      "language\n",
      "country\n",
      "content_rating\n",
      "budget\n",
      "title_year\n",
      "actor_2_facebook_likes\n",
      "aspect_ratio\n",
      "(19,)\n",
      "(104,)\n",
      "(50,)\n",
      "(15,)\n",
      "(104,)\n",
      "(23,)\n",
      "(13,)\n",
      "(7,)\n",
      "(884,)\n",
      "(7,)\n",
      "(23,)\n",
      "(13,)\n",
      "(153,)\n",
      "(21,)\n",
      "(12,)\n",
      "(5,)\n",
      "(303,)\n",
      "(492,)\n",
      "(108,)\n",
      "(13,)\n",
      "(329,)\n"
     ]
    }
   ],
   "source": [
    "columns = movie_data.columns\n",
    "for col in columns:\n",
    "    \n",
    "    if movie_data['%s'% (col)].isnull().any()==True:\n",
    "        print(col)\n",
    "print(movie_data.color[movie_data.color.isnull()].shape) \n",
    "print(movie_data.director_name[movie_data.director_name.isnull()].shape) \n",
    "print(movie_data.num_critic_for_reviews[movie_data.num_critic_for_reviews.isnull()].shape )  #fill NaN here\n",
    "print(movie_data.duration[movie_data.duration.isnull()].shape)  # fill NaN here\n",
    "print(movie_data.director_facebook_likes[movie_data.director_facebook_likes.isnull()].shape)   # fill NaN here\n",
    "print(movie_data.actor_3_facebook_likes[movie_data.actor_3_facebook_likes.isnull()].shape )  # fill NaN here\n",
    "print(movie_data.actor_2_name[movie_data.actor_2_name.isnull()].shape)   \n",
    "print(movie_data.actor_1_facebook_likes[movie_data.actor_1_facebook_likes.isnull()].shape )  # fill NaN here\n",
    "print(movie_data.gross[movie_data.gross.isnull()].shape)   # fill Nan here\n",
    "print(movie_data.actor_1_name[movie_data.actor_1_name.isnull()].shape  ) \n",
    "print(movie_data.actor_3_name[movie_data.actor_3_name.isnull()].shape )  \n",
    "print(movie_data.facenumber_in_poster[movie_data.facenumber_in_poster.isnull()].shape   )# fill NaN here\n",
    "print(movie_data.plot_keywords[movie_data.plot_keywords.isnull()].shape  ) \n",
    "print(movie_data.num_user_for_reviews[movie_data.num_user_for_reviews.isnull()].shape   )# fill NaN here\n",
    "print(movie_data.language[movie_data.language.isnull()].shape   )\n",
    "print(movie_data.country[movie_data.country.isnull()].shape) \n",
    "print(movie_data.content_rating[movie_data.content_rating.isnull()].shape)  \n",
    "print(movie_data.budget[movie_data.budget.isnull()].shape) # fill NaN here  \n",
    "print(movie_data.title_year[movie_data.title_year.isnull()].shape) \n",
    "print(movie_data.actor_2_facebook_likes[movie_data.actor_2_facebook_likes.isnull()].shape)  \n",
    "print(movie_data.aspect_ratio[movie_data.aspect_ratio.isnull()].shape)# fill Nan here\n",
    "\n"
   ]
  },
  {
   "cell_type": "markdown",
   "metadata": {},
   "source": [
    "After I checked for Nan's it turned out that there aren't that many. Nevertheless I am going to fill most of them with their mean value."
   ]
  },
  {
   "cell_type": "code",
   "execution_count": 4,
   "metadata": {
    "collapsed": false
   },
   "outputs": [],
   "source": [
    "movie_data.num_critic_for_reviews=movie_data.num_critic_for_reviews.fillna(movie_data.num_critic_for_reviews.mean())\n",
    "movie_data.duration = movie_data.duration.fillna(movie_data.duration.mean())\n",
    "real_director_likes= movie_data.director_facebook_likes[movie_data.director_facebook_likes!=0]\n",
    "real_director_likes = real_director_likes.dropna()\n",
    "movie_data.director_facebook_likes=movie_data.director_facebook_likes.fillna(real_director_likes.mean())\n",
    "\n",
    "movie_data.actor_3_facebook_likes= movie_data.actor_3_facebook_likes.fillna(movie_data.actor_3_facebook_likes.mean())\n",
    "\n",
    "gross_real_values= movie_data.gross[movie_data.gross !=0]\n",
    "gross_real_values= gross_real_values.dropna()\n",
    "movie_data.gross= movie_data.gross.fillna(gross_real_values.mean())\n",
    "\n",
    "movie_data.gross = movie_data.gross/1000000\n",
    "movie_data.facenumber_in_poster= movie_data.facenumber_in_poster.fillna(movie_data.facenumber_in_poster.mean())\n",
    "movie_data.num_user_for_reviews= movie_data.num_user_for_reviews.fillna(movie_data.num_user_for_reviews.mean())\n",
    "movie_data.budget= movie_data.budget.fillna(movie_data.budget.mean())\n",
    "movie_data.budget= movie_data.budget/1000000\n",
    "movie_data.aspect_ratio= movie_data.aspect_ratio.fillna(movie_data.aspect_ratio.mean())\n",
    "movie_data=movie_data.dropna().reset_index(drop=True)\n"
   ]
  },
  {
   "cell_type": "markdown",
   "metadata": {},
   "source": [
    "Some columns had an unusual amount of 0's so I read in the documentation that this was a web scraper bug so I did't use them for the filling.But according to the author and other research that I had read in kaggle it is ok to use them because we are not sure of the reason why the web scraper didn't read the values."
   ]
  },
  {
   "cell_type": "code",
   "execution_count": 5,
   "metadata": {
    "collapsed": false
   },
   "outputs": [
    {
     "data": {
      "image/png": "[encoded data removed]",
      "text/plain": [
       "<matplotlib.figure.Figure at 0x28d769b1710>"
      ]
     },
     "metadata": {},
     "output_type": "display_data"
    }
   ],
   "source": [
    "plt.figure(figsize=(13,13))\n",
    "basic_matrix=movie_data.corr()\n",
    "sns.heatmap(basic_matrix, square=True,annot=True)\n",
    "plt.show()"
   ]
  },
  {
   "cell_type": "markdown",
   "metadata": {},
   "source": [
    "Here is a correlation matrix of all numerical variables. I am using it so I can see the data better and because of the strong correlation between the facebook likes of the first actor and the number of critics for reviews I am going to drop the one of them."
   ]
  },
  {
   "cell_type": "code",
   "execution_count": 6,
   "metadata": {
    "collapsed": false
   },
   "outputs": [
    {
     "data": {
      "text/plain": [
       "(4581, 26)"
      ]
     },
     "execution_count": 6,
     "metadata": {},
     "output_type": "execute_result"
    }
   ],
   "source": [
    "movie_data = movie_data.drop(['actor_1_facebook_likes'],axis=1)\n",
    "movie_data = movie_data.drop(['movie_imdb_link'], axis=1)\n",
    "movie_data.shape"
   ]
  },
  {
   "cell_type": "code",
   "execution_count": 7,
   "metadata": {
    "collapsed": false
   },
   "outputs": [
    {
     "data": {
      "image/png": "[encoded data removed]",
      "text/plain": [
       "<matplotlib.figure.Figure at 0x28d77b65748>"
      ]
     },
     "metadata": {},
     "output_type": "display_data"
    },
    {
     "name": "stdout",
     "output_type": "stream",
     "text": [
      "987     The Messenger: The Story of Joan of Arc \n",
      "1300                                  Red Cliff \n",
      "2246                          Princess Mononoke \n",
      "2257                                   Steamboy \n",
      "2880                                   The Host \n",
      "2897                                   Fateless \n",
      "2962                     Kabhi Alvida Naa Kehna \n",
      "3178                   The Legend of Suriyothai \n",
      "3278                                      Akira \n",
      "3657                                      Tango \n",
      "3665                             Lady Vengeance \n",
      "4231                              Godzilla 2000 \n",
      "Name: movie_title, dtype: object\n"
     ]
    },
    {
     "name": "stderr",
     "output_type": "stream",
     "text": [
      "C:\\Users\\Lenovo\\Anaconda3\\lib\\site-packages\\pandas\\core\\indexing.py:141: SettingWithCopyWarning: \n",
      "A value is trying to be set on a copy of a slice from a DataFrame\n",
      "\n",
      "See the caveats in the documentation: http://pandas.pydata.org/pandas-docs/stable/indexing.html#indexing-view-versus-copy\n",
      "  self._setitem_with_indexer(indexer, value)\n"
     ]
    }
   ],
   "source": [
    "plt.scatter(movie_data.title_year,movie_data.budget)\n",
    "plt.xlabel(\"Year of release\")\n",
    "plt.ylabel(\"Budget in milions\")\n",
    "plt.show()\n",
    "odd_movies= movie_data[movie_data.budget>380]\n",
    "print(odd_movies.movie_title)\n",
    "\n",
    "\n",
    "movie_data.budget.loc[movie_data.budget==390.000000]=85\n",
    "movie_data.budget.loc[movie_data.budget==553.632000]=36\n",
    "movie_data.budget.loc[movie_data.budget==2400.000000]=23.5\n",
    "movie_data.budget.loc[movie_data.budget==2127.519898]=22\n",
    "movie_data.budget.loc[movie_data.budget==12215.500000]=40\n",
    "movie_data.budget.loc[movie_data.budget==2500.000000]=8.5\n",
    "movie_data.budget.loc[movie_data.budget==700.000000]=7.4\n",
    "movie_data.budget.loc[movie_data.budget==400.000000]=10.1\n",
    "movie_data.budget.loc[movie_data.budget==1100.000000]=8\n",
    "movie_data.budget.loc[movie_data.budget== 700.000000]=4.206\n",
    "movie_data.budget.loc[movie_data.budget== 4200.000000]=4.5\n",
    "movie_data.budget.loc[movie_data.budget==1000.000000]=8.3\n",
    "\n",
    "\n",
    "\n"
   ]
  },
  {
   "cell_type": "markdown",
   "metadata": {},
   "source": [
    "Here I am looking at how the budjet of a film is variating with time.However I googled the record budget for a movie and it was 380 000 000 not 1.2 billion dollars. So i fixed them with the help of Google and the plot below is the accurate one."
   ]
  },
  {
   "cell_type": "code",
   "execution_count": 8,
   "metadata": {
    "collapsed": false
   },
   "outputs": [
    {
     "data": {
      "image/png": "[encoded data removed]",
      "text/plain": [
       "<matplotlib.figure.Figure at 0x28d77b5b0b8>"
      ]
     },
     "metadata": {},
     "output_type": "display_data"
    },
    {
     "data": {
      "image/png": "[encoded data removed]",
      "text/plain": [
       "<matplotlib.figure.Figure at 0x28d763566d8>"
      ]
     },
     "metadata": {},
     "output_type": "display_data"
    },
    {
     "data": {
      "image/png": "[encoded data removed]",
      "text/plain": [
       "<matplotlib.figure.Figure at 0x28d763565c0>"
      ]
     },
     "metadata": {},
     "output_type": "display_data"
    },
    {
     "data": {
      "image/png": "[encoded data removed]",
      "text/plain": [
       "<matplotlib.figure.Figure at 0x28d77ab16d8>"
      ]
     },
     "metadata": {},
     "output_type": "display_data"
    }
   ],
   "source": [
    "plt.scatter(movie_data.title_year,movie_data.budget)\n",
    "plt.xlim(1920,2018)\n",
    "plt.title(\"How the budget changes\")\n",
    "plt.xlabel(\"Year of release\")\n",
    "plt.ylabel(\"Budget in milions\")\n",
    "plt.show()\n",
    "\n",
    "plt.hist(movie_data.imdb_score,bins=30,color='r')\n",
    "plt.title(\"Number of movies with certain score\")\n",
    "plt.xlabel(\"IMDB score\")\n",
    "plt.ylabel(\"Number of movies\")\n",
    "plt.show()\n",
    "\n",
    "plt.hist(movie_data.title_year, bins= 50,color='g')\n",
    "plt.xlim(1920,2020)\n",
    "plt.xlabel(\"Year\")\n",
    "plt.title(\"Number of movies each year\")\n",
    "plt.ylabel(\"Number of movies\")\n",
    "plt.show()\n",
    "\n",
    "plt.scatter(movie_data.imdb_score,movie_data.duration)\n",
    "\n",
    "plt.title(\"Duration and Score\")\n",
    "plt.ylabel(\"Duration\")\n",
    "plt.xlabel(\"Score\")\n",
    "plt.show()"
   ]
  },
  {
   "cell_type": "markdown",
   "metadata": {},
   "source": [
    "From the middle 2 plots I can see something very bad. There isn't the same amount of data for each range of values. I think that this won't be benefitial for my models.\n",
    "From the last plot i can see a slight correlation between the duration and the score which was logical after the results from the correlation matrix.I am going to create a method to help me with the plotting."
   ]
  },
  {
   "cell_type": "code",
   "execution_count": 9,
   "metadata": {
    "collapsed": false
   },
   "outputs": [],
   "source": [
    "def plotting_from_high_to_low(parameter,xlabel,ylabel):\n",
    "    group_country = movie_data.groupby(by=parameter,as_index=False)\n",
    "    number_per_country=group_country.size()\n",
    "    country_to_count ={}\n",
    "\n",
    "    names=[]\n",
    "    for g in group_country:\n",
    "        names.append(g[0])\n",
    "\n",
    "\n",
    "    counter=0\n",
    "    for o in number_per_country:\n",
    "        country_to_count[names[counter]]=o\n",
    "        counter+=1\n",
    "    v_counter=0\n",
    "    values=[]\n",
    "    for z in sorted(country_to_count.values(),reverse=True):\n",
    "        values.append(z)\n",
    "        if v_counter>8:\n",
    "            break\n",
    "        v_counter+=1\n",
    "    n_counter=0\n",
    "    name=[]\n",
    "    for y in sorted(country_to_count, key=country_to_count.__getitem__,reverse=True):\n",
    "        name.append(y)\n",
    "        if n_counter>8:\n",
    "            break\n",
    "        n_counter+=1\n",
    "\n",
    "    plt.bar(left=range(10),height=values,align='center')\n",
    "    plt.xticks(range(10),name,rotation=90)\n",
    "    plt.xlabel(xlabel)\n",
    "    plt.ylabel(ylabel)\n",
    "    plt.show()"
   ]
  },
  {
   "cell_type": "code",
   "execution_count": 10,
   "metadata": {
    "collapsed": false
   },
   "outputs": [
    {
     "data": {
      "image/png": "[encoded data removed]",
      "text/plain": [
       "<matplotlib.figure.Figure at 0x28d7642d668>"
      ]
     },
     "metadata": {},
     "output_type": "display_data"
    },
    {
     "data": {
      "image/png": "[encoded data removed]",
      "text/plain": [
       "<matplotlib.figure.Figure at 0x28d764a1c50>"
      ]
     },
     "metadata": {},
     "output_type": "display_data"
    },
    {
     "data": {
      "image/png": "[encoded data removed]",
      "text/plain": [
       "<matplotlib.figure.Figure at 0x28d76432780>"
      ]
     },
     "metadata": {},
     "output_type": "display_data"
    },
    {
     "data": {
      "image/png": "[encoded data removed]",
      "text/plain": [
       "<matplotlib.figure.Figure at 0x28d764326a0>"
      ]
     },
     "metadata": {},
     "output_type": "display_data"
    }
   ],
   "source": [
    "plotting_from_high_to_low('language','Languages','Movies')\n",
    "plotting_from_high_to_low('country','Countries','Movies')\n",
    "plotting_from_high_to_low('actor_1_name','Actors','Movies')\n",
    "plotting_from_high_to_low('director_name','Directors','Movies')"
   ]
  },
  {
   "cell_type": "markdown",
   "metadata": {},
   "source": [
    "I can see that the results from the first two plots will make my life harder when I am using them to predict the IMDB score because again they are inconssistent. Nevertheless the last two plots show that there isn't anyone who is dominating in terms of actors and directors like in the previous two graphs"
   ]
  },
  {
   "cell_type": "code",
   "execution_count": 11,
   "metadata": {
    "collapsed": false
   },
   "outputs": [],
   "source": [
    "\n",
    "#group_country = movie_data.groupby(by='country',as_index=False)\n",
    "#number_per_country=group_country.size()\n",
    "#country_to_count ={}\n",
    "#\n",
    "#names=[]\n",
    "#for g in group_country:\n",
    "#    names.append(g[0])\n",
    "#\n",
    "#\n",
    "#counter=0\n",
    "#for o in number_per_country:\n",
    "#    country_to_count[names[counter]]=o\n",
    "#    counter+=1\n",
    "#v_counter=0\n",
    "#values=[]\n",
    "#for z in sorted(country_to_count.values(),reverse=True):\n",
    "#    values.append(z)\n",
    "#    if v_counter>8:\n",
    "#        break\n",
    "#    v_counter+=1\n",
    "#n_counter=0\n",
    "#name=[]\n",
    "#for y in sorted(country_to_count, key=country_to_count.__getitem__,reverse=True):\n",
    "#    name.append(y)\n",
    "#    if n_counter>8:\n",
    "#        break\n",
    "#    n_counter+=1\n",
    "#\n",
    "#plt.bar(left=range(10),height=values,align='center')\n",
    "#plt.xticks(range(10),name,rotation=90)\n",
    "#plt.show()\n"
   ]
  },
  {
   "cell_type": "markdown",
   "metadata": {},
   "source": [
    "And in terms of directors Steven Spilberg is leading in terms of movies made.The actor Robert De Niro has the most movies as the main actor.However Johnny Depp isn't too far behind.From the diagram I can confidentrly say that the USA are the leader in film making according to my data."
   ]
  },
  {
   "cell_type": "code",
   "execution_count": 12,
   "metadata": {
    "collapsed": false
   },
   "outputs": [
    {
     "data": {
      "image/png": "[encoded data removed]",
      "text/plain": [
       "<matplotlib.figure.Figure at 0x28d7671ee80>"
      ]
     },
     "metadata": {},
     "output_type": "display_data"
    },
    {
     "data": {
      "image/png": "[encoded data removed]",
      "text/plain": [
       "<matplotlib.figure.Figure at 0x28d76486eb8>"
      ]
     },
     "metadata": {},
     "output_type": "display_data"
    }
   ],
   "source": [
    "plt.title(\"Rating and Gross\")\n",
    "plt.scatter(movie_data.imdb_score, movie_data.gross)\n",
    "plt.xlabel(\"IMDB rating\")\n",
    "plt.ylabel(\"Gross in millions\")\n",
    "plt.show()\n",
    "plt.title(\"Rating and Budget\")\n",
    "plt.scatter(movie_data.imdb_score,movie_data.budget,color='r')\n",
    "plt.xlabel(\"IMDB rating\")\n",
    "plt.ylabel(\"Budget in millions\")\n",
    "plt.show()\n"
   ]
  },
  {
   "cell_type": "markdown",
   "metadata": {},
   "source": [
    "From the plots I can see that the rating of a movie clearly isn't connected neither to the budget nor to the gross."
   ]
  },
  {
   "cell_type": "code",
   "execution_count": 13,
   "metadata": {
    "collapsed": false
   },
   "outputs": [
    {
     "data": {
      "image/png": "[encoded data removed]",
      "text/plain": [
       "<matplotlib.figure.Figure at 0x28d75eac4a8>"
      ]
     },
     "metadata": {},
     "output_type": "display_data"
    },
    {
     "name": "stdout",
     "output_type": "stream",
     "text": [
      "4.1257367387%\n",
      "95.8742632613%\n"
     ]
    }
   ],
   "source": [
    "color_group = movie_data.groupby(by='color')\n",
    "occurences=color_group.size()\n",
    "plt.bar(left=[0,1], height = occurences,align='center')\n",
    "plt.xticks([0,1],[\"Black and White\",\"Color\"] )\n",
    "plt.show()\n",
    "for o in occurences:\n",
    "    print(str(o/len(movie_data)*100)+'%')"
   ]
  },
  {
   "cell_type": "markdown",
   "metadata": {},
   "source": [
    "As I expected only 4.12% of the movies are black and white and almost all have color."
   ]
  },
  {
   "cell_type": "code",
   "execution_count": 14,
   "metadata": {
    "collapsed": false
   },
   "outputs": [],
   "source": [
    "movie_data.genres\n",
    "all_genres=set()\n",
    "\n",
    "for m in movie_data.genres.unique():\n",
    "    list_genres=m.split('|')\n",
    "    for i in list_genres:\n",
    "        all_genres.add(i)\n",
    "    \n",
    "    \n",
    "\n",
    "\n",
    "new_col=pd.DataFrame(columns=all_genres,index=range(len(movie_data)))\n",
    "for c in range(len(new_col)):\n",
    "    this_movie_genres=movie_data.iloc[c].genres.split(\"|\")\n",
    "    for col in new_col.columns:\n",
    "        if col in this_movie_genres:\n",
    "            new_col.iloc[c][col]=1\n",
    "        else:\n",
    "            new_col.iloc[c][col]=0\n",
    "\n",
    "movie_data=pd.concat([movie_data,new_col],axis=1)\n"
   ]
  },
  {
   "cell_type": "code",
   "execution_count": 15,
   "metadata": {
    "collapsed": false
   },
   "outputs": [
    {
     "name": "stdout",
     "output_type": "stream",
     "text": [
      "   color      director_name  num_critic_for_reviews  duration  \\\n",
      "0  Color      James Cameron                   723.0     178.0   \n",
      "1  Color     Gore Verbinski                   302.0     169.0   \n",
      "2  Color         Sam Mendes                   602.0     148.0   \n",
      "3  Color  Christopher Nolan                   813.0     164.0   \n",
      "4  Color     Andrew Stanton                   462.0     132.0   \n",
      "\n",
      "   director_facebook_likes  actor_3_facebook_likes      actor_2_name  \\\n",
      "0                      0.0                   855.0  Joel David Moore   \n",
      "1                    563.0                  1000.0     Orlando Bloom   \n",
      "2                      0.0                   161.0      Rory Kinnear   \n",
      "3                  22000.0                 23000.0    Christian Bale   \n",
      "4                    475.0                   530.0   Samantha Morton   \n",
      "\n",
      "        gross     actor_1_name                                movie_title  \\\n",
      "0  760.505847      CCH Pounder                                    Avatar    \n",
      "1  309.404152      Johnny Depp  Pirates of the Caribbean: At World's End    \n",
      "2  200.074175  Christoph Waltz                                   Spectre    \n",
      "3  448.130642        Tom Hardy                     The Dark Knight Rises    \n",
      "4   73.058679     Daryl Sabara                               John Carter    \n",
      "\n",
      "    ...    Thriller  Family Fantasy  Film-Noir Western  Adventure Sport  \\\n",
      "0   ...           0       0       1          0       0          1     0   \n",
      "1   ...           0       0       1          0       0          1     0   \n",
      "2   ...           1       0       0          0       0          1     0   \n",
      "3   ...           1       0       0          0       0          0     0   \n",
      "4   ...           0       0       0          0       0          1     0   \n",
      "\n",
      "  Musical Mystery  Sci-Fi  \n",
      "0       0       0       1  \n",
      "1       0       0       0  \n",
      "2       0       0       0  \n",
      "3       0       0       0  \n",
      "4       0       0       1  \n",
      "\n",
      "[5 rows x 48 columns]\n"
     ]
    }
   ],
   "source": [
    "movie_data=movie_data.drop('genres',axis=1)\n",
    "print(movie_data.head())"
   ]
  },
  {
   "cell_type": "markdown",
   "metadata": {},
   "source": [
    "### Model testing "
   ]
  },
  {
   "cell_type": "code",
   "execution_count": 16,
   "metadata": {
    "collapsed": false
   },
   "outputs": [],
   "source": [
    "#'color', 'director_name', 'num_critic_for_reviews', 'duration',\n",
    "#       'director_facebook_likes', 'actor_3_facebook_likes', 'actor_2_name',\n",
    "#       'actor_1_facebook_likes', 'gross', 'genres', 'actor_1_name',\n",
    "#       'movie_title', 'num_voted_users', 'cast_total_facebook_likes',\n",
    "#       'actor_3_name', 'facenumber_in_poster', 'plot_keywords',\n",
    "#       'movie_imdb_link', 'num_user_for_reviews', 'language', 'country',\n",
    "#       'content_rating', 'budget', 'title_year', 'actor_2_facebook_likes',\n",
    "#       'imdb_score', 'aspect_ratio', 'movie_facebook_likes'\n",
    "workable_data = movie_data.drop([\"content_rating\",\"movie_title\",\"director_name\",\n",
    "                                 \"actor_1_name\",\"actor_2_name\",\"plot_keywords\",\"actor_3_name\"], axis=1)\n",
    "scaler=StandardScaler()\n",
    "attributes = scaler.fit_transform(pd.get_dummies(workable_data.drop('imdb_score',axis=1)),workable_data['imdb_score'])\n",
    "labels = workable_data['imdb_score']\n",
    "attr_train,attr_test,l_train,l_test = train_test_split(attributes,labels, train_size=0.7)\n"
   ]
  },
  {
   "cell_type": "markdown",
   "metadata": {},
   "source": [
    "After I have processed the data in a way in which it is scaled, easy to fit and train and I have dropped some of the columns which can't be used or are not appropriate to use. I am going to try different models.\n",
    "First the method is doing a grid search to find the best parameters then it is cross validating twice- the first time for the r2 score and the second time for the negative mean squared error.I am going to evaluate the model's performance with a negative mean squared error and r2 score. My main concern is that the models will be very unstable because of the data."
   ]
  },
  {
   "cell_type": "code",
   "execution_count": 17,
   "metadata": {
    "collapsed": false
   },
   "outputs": [
    {
     "name": "stdout",
     "output_type": "stream",
     "text": [
      "{'fit_intercept': True, 'normalize': False}\n",
      "-1.52906852828e+27\n"
     ]
    }
   ],
   "source": [
    "parameters={\"fit_intercept\":[True,False],\"normalize\":[True,False]}\n",
    "score_model = LinearRegression()\n",
    "grid=GridSearchCV(score_model,parameters)\n",
    "grid.fit(attr_train,l_train)\n",
    "print(grid.best_params_)\n",
    "print(grid.best_score_)"
   ]
  },
  {
   "cell_type": "code",
   "execution_count": 18,
   "metadata": {
    "collapsed": true
   },
   "outputs": [],
   "source": [
    "def best_params(model,parameters,attr_train,l_train,attr_test,l_test,attributes,labels):\n",
    "    grid=GridSearchCV(model,parameters)\n",
    "    grid.fit(attr_train,l_train)\n",
    "    kfold= StratifiedKFold(n_splits=5, shuffle = True)\n",
    "    folds = kfold.get_n_splits(attr_train,l_train)\n",
    "    cross= cross_val_score(model,attributes,labels,cv=folds,scoring='r2')\n",
    "    cross2= cross_val_score(model,attributes,labels,cv=folds,scoring='neg_mean_squared_error')\n",
    "\n",
    "    print(grid.best_params_)\n",
    "    print('Grid Score',grid.best_score_)\n",
    "    print('R2 score',cross)\n",
    "    print('Negative mean squared error',cross2)\n",
    " \n",
    "    "
   ]
  },
  {
   "cell_type": "code",
   "execution_count": 19,
   "metadata": {
    "collapsed": false
   },
   "outputs": [
    {
     "data": {
      "text/plain": [
       "array([ -2.78716468e+27,  -5.95644339e+26,  -1.19245400e+27])"
      ]
     },
     "execution_count": 19,
     "metadata": {},
     "output_type": "execute_result"
    }
   ],
   "source": [
    "score_model=LinearRegression(n_jobs=16)\n",
    "score_model.fit(attr_train,l_train)\n",
    "cross= cross_val_score(score_model,attributes,labels,cv=3,scoring='r2')\n",
    "cross"
   ]
  },
  {
   "cell_type": "code",
   "execution_count": 20,
   "metadata": {
    "collapsed": false
   },
   "outputs": [
    {
     "name": "stdout",
     "output_type": "stream",
     "text": [
      "{'alpha': 0.9}\n",
      "Grid Score -0.000834597752473\n",
      "R2 score [-0.00432857 -0.00602907 -0.01575349 -0.003927   -0.00557895]\n",
      "Negative mean squared error [-0.9992169  -0.996503   -1.39344431 -1.1742522  -1.48718679]\n"
     ]
    }
   ],
   "source": [
    "lasso_model = Lasso()\n",
    "parameters={\"alpha\": [0.9,0.81,1.1,1.2]}\n",
    "best_params(lasso_model,parameters,attr_train,l_train,attr_test,l_test,attributes,labels)"
   ]
  },
  {
   "cell_type": "code",
   "execution_count": 21,
   "metadata": {
    "collapsed": false
   },
   "outputs": [
    {
     "name": "stdout",
     "output_type": "stream",
     "text": [
      "{'alpha': 50}\n",
      "Grid Score 0.485638729908\n",
      "R2 score [ 0.50492601  0.53627159  0.47708229  0.45635965  0.44742065]\n",
      "Negative mean squared error [-0.49255424 -0.45933737 -0.71735585 -0.6358738  -0.81722943]\n"
     ]
    }
   ],
   "source": [
    "ridge_model = Ridge()\n",
    "parameters={\"alpha\": [13,14,15,16,17,50,100,200]}\n",
    "best_params(ridge_model,parameters,attr_train,l_train,attr_test,l_test,attributes,labels)\n"
   ]
  },
  {
   "cell_type": "code",
   "execution_count": 22,
   "metadata": {
    "collapsed": false
   },
   "outputs": [
    {
     "name": "stdout",
     "output_type": "stream",
     "text": [
      "{'alpha': 2, 'l1_ratio': 0.1}\n",
      "Grid Score 0.148062591371\n",
      "R2 score [-0.00432857 -0.00439645 -0.01575349  0.00491515  0.00362176]\n",
      "Negative mean squared error [-0.9992169  -0.99488583 -1.39344431 -1.1639099  -1.47357954]\n"
     ]
    }
   ],
   "source": [
    "elastic_model=ElasticNet()\n",
    "parameters={\"alpha\": [2,5,3,4,6,7,8],\"l1_ratio\":[0.1,0.2,0.3,0.4,0.5]}\n",
    "best_params(elastic_model,parameters,attr_train,l_train,attr_test,l_test,attributes,labels)"
   ]
  },
  {
   "cell_type": "code",
   "execution_count": 23,
   "metadata": {
    "collapsed": false
   },
   "outputs": [
    {
     "name": "stdout",
     "output_type": "stream",
     "text": [
      "{}\n",
      "Grid Score -1.99978898728e+27\n",
      "R2 score [ -1.12976802e+26  -2.44262800e+26  -1.51025286e+26  -2.58567962e+26\n",
      "  -6.72087739e+26]\n",
      "Negative mean squared error [ -1.08577959e+25  -2.48460713e+25  -5.77112594e+25  -3.11278590e+26\n",
      "  -5.66348319e+26]\n"
     ]
    }
   ],
   "source": [
    "ransac=RANSACRegressor()\n",
    "params={}\n",
    "best_params(ransac,params,attr_train,l_train,attr_test,l_test,attributes,labels)"
   ]
  },
  {
   "cell_type": "code",
   "execution_count": 24,
   "metadata": {
    "collapsed": false
   },
   "outputs": [
    {
     "name": "stdout",
     "output_type": "stream",
     "text": [
      "{'criterion': 'mse', 'max_depth': 5}\n",
      "Grid Score 0.379644115897\n",
      "R2 score [ 0.15924321  0.14707652  0.16236615  0.07340586 -0.01920324]\n",
      "Negative mean squared error [-0.86533261 -0.87463974 -1.09318777 -1.14677948 -1.60106987]\n"
     ]
    }
   ],
   "source": [
    "tree= DecisionTreeRegressor()\n",
    "parameters={\"criterion\": ['mse','mae'],\"max_depth\":[None,1,2,3,5,6]}\n",
    "best_params(tree,parameters,attr_train,l_train,attr_test,l_test,attributes,labels)"
   ]
  },
  {
   "cell_type": "code",
   "execution_count": 25,
   "metadata": {
    "collapsed": false
   },
   "outputs": [
    {
     "name": "stdout",
     "output_type": "stream",
     "text": [
      "{'max_depth': 50, 'n_estimators': 500}\n",
      "Grid Score 0.57317241607\n",
      "R2 score [ 0.52601244  0.57245662  0.53663784  0.46389749  0.36571916]\n",
      "Negative mean squared error [-0.47396521 -0.43733024 -0.62798886 -0.60788275 -0.9817488 ]\n"
     ]
    }
   ],
   "source": [
    "forest = RandomForestRegressor(n_jobs=-1)\n",
    "parameters={\"n_estimators\":[1000,500,2000],\"max_depth\":[1,10,50,None,100]}\n",
    "best_params(forest,parameters,attr_train,l_train,attr_test,l_test,attributes,labels)"
   ]
  },
  {
   "cell_type": "code",
   "execution_count": 26,
   "metadata": {
    "collapsed": false
   },
   "outputs": [
    {
     "name": "stdout",
     "output_type": "stream",
     "text": [
      "{'learning_rate': 0.1, 'n_estimators': 100}\n",
      "Grid Score 0.369601693259\n",
      "R2 score [ 0.4097726   0.44824792  0.36442511  0.21458393 -0.06350578]\n",
      "Negative mean squared error [-0.62496014 -0.55231088 -0.83148927 -1.08653071 -1.49465851]\n"
     ]
    }
   ],
   "source": [
    "adaboost = AdaBoostRegressor()\n",
    "parameters={ 'n_estimators' :[200, 100, 50,25], 'learning_rate':[0.5, 0.1,0.01]}\n",
    "best_params(adaboost,parameters,attr_train,l_train,attr_test,l_test,attributes,labels)"
   ]
  },
  {
   "cell_type": "code",
   "execution_count": 27,
   "metadata": {
    "collapsed": false
   },
   "outputs": [
    {
     "name": "stdout",
     "output_type": "stream",
     "text": [
      "{'alpha_1': 10, 'alpha_2': 1e-05, 'fit_intercept': True, 'lambda_1': 1e-12, 'lambda_2': 0.1, 'n_iter': 100, 'normalize': False, 'tol': 1}\n",
      "Grid Score 0.485579299419\n",
      "R2 score [ 0.50577395  0.53247406  0.47494993  0.45555443  0.44858357]\n",
      "Negative mean squared error [-0.49171061 -0.46309894 -0.72028109 -0.63681564 -0.81550955]\n"
     ]
    }
   ],
   "source": [
    "br=BayesianRidge()\n",
    "params={'n_iter':[100,150],'tol':[0.001,0.01,1,2],'alpha_1':[10,1e-01,1],\n",
    "        'alpha_2':[0.00001,0.0001,0.001],\n",
    "        'lambda_1':[1e-12,1e-10,1e-13], \n",
    "        'lambda_2':[10,1,1e-01],\n",
    "        'fit_intercept':[True,False],'normalize':[True,False]}\n",
    "best_params(br,params,attr_train,l_train,attr_test,l_test,attributes,labels)"
   ]
  },
  {
   "cell_type": "code",
   "execution_count": 28,
   "metadata": {
    "collapsed": false
   },
   "outputs": [
    {
     "name": "stdout",
     "output_type": "stream",
     "text": [
      "MLPRegressor(activation='relu', alpha=0.0001, batch_size='auto', beta_1=0.9,\n",
      "       beta_2=0.999, early_stopping=False, epsilon=1e-08,\n",
      "       hidden_layer_sizes=(500, 500), learning_rate='constant',\n",
      "       learning_rate_init=0.001, max_iter=200, momentum=0.9,\n",
      "       nesterovs_momentum=True, power_t=0.5, random_state=None,\n",
      "       shuffle=True, solver='adam', tol=0.0001, validation_fraction=0.1,\n",
      "       verbose=False, warm_start=False)\n"
     ]
    }
   ],
   "source": [
    "nn=MLPRegressor()\n",
    "params={\"hidden_layer_sizes\":[(10,10,10,10,10),(100,100,100),(500,500),(66,66,66),(50,60,70,20)]}\n",
    "search = GridSearchCV(nn,params,n_jobs=-1)\n",
    "search.fit(attr_train,l_train)\n",
    "print(search.best_estimator_)"
   ]
  },
  {
   "cell_type": "code",
   "execution_count": 29,
   "metadata": {
    "collapsed": false
   },
   "outputs": [
    {
     "name": "stdout",
     "output_type": "stream",
     "text": [
      "0.410720072103\n",
      "0.753699703214\n"
     ]
    }
   ],
   "source": [
    "print(search.score(attr_test,l_test))\n",
    "print(search.score(attr_train,l_train))"
   ]
  },
  {
   "cell_type": "code",
   "execution_count": 30,
   "metadata": {
    "collapsed": false
   },
   "outputs": [
    {
     "name": "stdout",
     "output_type": "stream",
     "text": [
      "[ 0.35092237  0.25516959 -0.19940104]\n",
      "[-0.74402894 -0.77958444 -1.52002088]\n"
     ]
    }
   ],
   "source": [
    "nn1=MLPRegressor(hidden_layer_sizes=(10,10,10,10,10))\n",
    "print(cross_val_score(nn1,attributes,labels,n_jobs=-1,scoring='r2'))\n",
    "print(cross_val_score(nn1,attributes,labels,n_jobs=-1,scoring='neg_mean_squared_error'))"
   ]
  },
  {
   "cell_type": "markdown",
   "metadata": {},
   "source": [
    "As I assumpted earlier the models and very stable.However The ridge regression and the bayesian ridge are giving the best results and also are very stable. The Random forest gives me decent results but is very unstable.Now I am going to add inflation to the monetary data."
   ]
  },
  {
   "cell_type": "markdown",
   "metadata": {},
   "source": [
    "In google I found a dataset with information about inflation throughout the years.The data is only for the USA but I am going to use it for everywhere because there wasn't any data about the other countries and the USA have the most number of movies by far."
   ]
  },
  {
   "cell_type": "code",
   "execution_count": 31,
   "metadata": {
    "collapsed": false
   },
   "outputs": [
    {
     "data": {
      "text/html": [
       "<div>\n",
       "<table border=\"1\" class=\"dataframe\">\n",
       "  <thead>\n",
       "    <tr style=\"text-align: right;\">\n",
       "      <th></th>\n",
       "      <th>year</th>\n",
       "      <th>jan</th>\n",
       "      <th>feb</th>\n",
       "      <th>mar</th>\n",
       "      <th>apr</th>\n",
       "      <th>may</th>\n",
       "      <th>june</th>\n",
       "      <th>jule</th>\n",
       "      <th>aug</th>\n",
       "      <th>sep</th>\n",
       "      <th>oct</th>\n",
       "      <th>nov</th>\n",
       "      <th>dec</th>\n",
       "      <th>mean</th>\n",
       "    </tr>\n",
       "  </thead>\n",
       "  <tbody>\n",
       "    <tr>\n",
       "      <th>0</th>\n",
       "      <td>1913</td>\n",
       "      <td>9.8</td>\n",
       "      <td>9.8</td>\n",
       "      <td>9.8</td>\n",
       "      <td>9.8</td>\n",
       "      <td>9.7</td>\n",
       "      <td>9.8</td>\n",
       "      <td>9.9</td>\n",
       "      <td>9.9</td>\n",
       "      <td>10.0</td>\n",
       "      <td>10.0</td>\n",
       "      <td>10.1</td>\n",
       "      <td>10.0</td>\n",
       "      <td>9.883333</td>\n",
       "    </tr>\n",
       "    <tr>\n",
       "      <th>1</th>\n",
       "      <td>1914</td>\n",
       "      <td>10.0</td>\n",
       "      <td>9.9</td>\n",
       "      <td>9.9</td>\n",
       "      <td>9.8</td>\n",
       "      <td>9.9</td>\n",
       "      <td>9.9</td>\n",
       "      <td>10.0</td>\n",
       "      <td>10.2</td>\n",
       "      <td>10.2</td>\n",
       "      <td>10.1</td>\n",
       "      <td>10.2</td>\n",
       "      <td>10.1</td>\n",
       "      <td>10.016667</td>\n",
       "    </tr>\n",
       "    <tr>\n",
       "      <th>2</th>\n",
       "      <td>1915</td>\n",
       "      <td>10.1</td>\n",
       "      <td>10.0</td>\n",
       "      <td>9.9</td>\n",
       "      <td>10.0</td>\n",
       "      <td>10.1</td>\n",
       "      <td>10.1</td>\n",
       "      <td>10.1</td>\n",
       "      <td>10.1</td>\n",
       "      <td>10.1</td>\n",
       "      <td>10.2</td>\n",
       "      <td>10.3</td>\n",
       "      <td>10.3</td>\n",
       "      <td>10.108333</td>\n",
       "    </tr>\n",
       "    <tr>\n",
       "      <th>3</th>\n",
       "      <td>1916</td>\n",
       "      <td>10.4</td>\n",
       "      <td>10.4</td>\n",
       "      <td>10.5</td>\n",
       "      <td>10.6</td>\n",
       "      <td>10.7</td>\n",
       "      <td>10.8</td>\n",
       "      <td>10.8</td>\n",
       "      <td>10.9</td>\n",
       "      <td>11.1</td>\n",
       "      <td>11.3</td>\n",
       "      <td>11.5</td>\n",
       "      <td>11.6</td>\n",
       "      <td>10.883333</td>\n",
       "    </tr>\n",
       "    <tr>\n",
       "      <th>4</th>\n",
       "      <td>1917</td>\n",
       "      <td>11.7</td>\n",
       "      <td>12.0</td>\n",
       "      <td>12.0</td>\n",
       "      <td>12.6</td>\n",
       "      <td>12.8</td>\n",
       "      <td>13.0</td>\n",
       "      <td>12.8</td>\n",
       "      <td>13.0</td>\n",
       "      <td>13.3</td>\n",
       "      <td>13.5</td>\n",
       "      <td>13.5</td>\n",
       "      <td>13.7</td>\n",
       "      <td>12.825000</td>\n",
       "    </tr>\n",
       "  </tbody>\n",
       "</table>\n",
       "</div>"
      ],
      "text/plain": [
       "   year   jan   feb   mar   apr   may  june  jule   aug   sep   oct   nov  \\\n",
       "0  1913   9.8   9.8   9.8   9.8   9.7   9.8   9.9   9.9  10.0  10.0  10.1   \n",
       "1  1914  10.0   9.9   9.9   9.8   9.9   9.9  10.0  10.2  10.2  10.1  10.2   \n",
       "2  1915  10.1  10.0   9.9  10.0  10.1  10.1  10.1  10.1  10.1  10.2  10.3   \n",
       "3  1916  10.4  10.4  10.5  10.6  10.7  10.8  10.8  10.9  11.1  11.3  11.5   \n",
       "4  1917  11.7  12.0  12.0  12.6  12.8  13.0  12.8  13.0  13.3  13.5  13.5   \n",
       "\n",
       "    dec       mean  \n",
       "0  10.0   9.883333  \n",
       "1  10.1  10.016667  \n",
       "2  10.3  10.108333  \n",
       "3  11.6  10.883333  \n",
       "4  13.7  12.825000  "
      ]
     },
     "execution_count": 31,
     "metadata": {},
     "output_type": "execute_result"
    }
   ],
   "source": [
    "inflation = pd.read_excel('inflation.xlsx')\n",
    "inflation=inflation.drop([0,1,2,3,4,5,6,7,8,9])\n",
    "inflation.columns=['year','jan','feb','mar','apr','may','june','jule','aug','sep','oct','nov','dec','half1','half2']\n",
    "inflation.jan=inflation.jan.astype(float)\n",
    "inflation.feb=inflation.feb.astype(float)\n",
    "inflation.mar=inflation.mar.astype(float)\n",
    "inflation.apr=inflation.apr.astype(float)\n",
    "inflation.may=inflation.may.astype(float)\n",
    "inflation.june=inflation.june.astype(float)\n",
    "inflation.jule=inflation.jule.astype(float)\n",
    "inflation.aug=inflation.aug.astype(float)\n",
    "inflation.sep=inflation.sep.astype(float)\n",
    "inflation['oct']=inflation['oct'].astype(float)\n",
    "inflation.nov=inflation.nov.astype(float)\n",
    "inflation.dec=inflation.dec.astype(float)\n",
    "inflation=inflation.drop(['half1','half2'],axis=1)\n",
    "\n",
    "inflation['mean']=(inflation.jan+\n",
    "inflation.feb+inflation.mar\n",
    "+inflation.apr+inflation.may+inflation.june\n",
    "+inflation.jule+inflation.aug+inflation.sep+inflation['oct']+inflation.nov+inflation.dec)/12\n",
    "inflation.reset_index(inplace=True,drop=True)\n",
    "inflation.head()"
   ]
  },
  {
   "cell_type": "code",
   "execution_count": 32,
   "metadata": {
    "collapsed": false
   },
   "outputs": [],
   "source": [
    "\n",
    "def calculateInflation(year_wanted,year_now,num):\n",
    "    price_now=-1\n",
    "    price_future=-1\n",
    "    year_wanted_num = year_wanted-1913\n",
    "    year_now_num = year_now-1913\n",
    "    counter=0\n",
    "    for i in inflation['mean']:    \n",
    "        if counter==year_now_num:\n",
    "            price_now=i\n",
    "        if counter==year_wanted_num:\n",
    "            price_future=i\n",
    "        counter+=1\n",
    "  \n",
    "    year_wanted_num\n",
    "    \n",
    "    inflation_rate=(price_future-price_now)/price_now\n",
    " \n",
    "    return(num*inflation_rate+num)\n",
    "    \n"
   ]
  },
  {
   "cell_type": "markdown",
   "metadata": {},
   "source": [
    "This is a function which I use to change the data."
   ]
  },
  {
   "cell_type": "code",
   "execution_count": 33,
   "metadata": {
    "collapsed": false
   },
   "outputs": [],
   "source": [
    "budgets=pd.DataFrame()\n",
    "grosses=pd.DataFrame()\n",
    "budgets['adj_budget']=movie_data.budget\n",
    "grosses['adj_gross']=movie_data.gross\n",
    "\n",
    "for i in range(len(movie_data)):\n",
    "    budgets.iloc[i].adj_budget=calculateInflation(2016,movie_data.iloc[i].title_year,movie_data.iloc[i].budget)\n",
    "    grosses.iloc[i].adj_gross=calculateInflation(2016,movie_data.iloc[i].title_year,movie_data.iloc[i].gross)\n",
    "   \n",
    "    "
   ]
  },
  {
   "cell_type": "code",
   "execution_count": 34,
   "metadata": {
    "collapsed": false
   },
   "outputs": [
    {
     "data": {
      "text/html": [
       "<div>\n",
       "<table border=\"1\" class=\"dataframe\">\n",
       "  <thead>\n",
       "    <tr style=\"text-align: right;\">\n",
       "      <th></th>\n",
       "      <th>color</th>\n",
       "      <th>director_name</th>\n",
       "      <th>num_critic_for_reviews</th>\n",
       "      <th>duration</th>\n",
       "      <th>director_facebook_likes</th>\n",
       "      <th>actor_3_facebook_likes</th>\n",
       "      <th>actor_2_name</th>\n",
       "      <th>actor_1_name</th>\n",
       "      <th>movie_title</th>\n",
       "      <th>num_voted_users</th>\n",
       "      <th>...</th>\n",
       "      <th>Fantasy</th>\n",
       "      <th>Film-Noir</th>\n",
       "      <th>Western</th>\n",
       "      <th>Adventure</th>\n",
       "      <th>Sport</th>\n",
       "      <th>Musical</th>\n",
       "      <th>Mystery</th>\n",
       "      <th>Sci-Fi</th>\n",
       "      <th>adj_budget</th>\n",
       "      <th>adj_gross</th>\n",
       "    </tr>\n",
       "  </thead>\n",
       "  <tbody>\n",
       "    <tr>\n",
       "      <th>0</th>\n",
       "      <td>Color</td>\n",
       "      <td>James Cameron</td>\n",
       "      <td>723.000000</td>\n",
       "      <td>178.0</td>\n",
       "      <td>0.0</td>\n",
       "      <td>855.0</td>\n",
       "      <td>Joel David Moore</td>\n",
       "      <td>CCH Pounder</td>\n",
       "      <td>Avatar</td>\n",
       "      <td>886204</td>\n",
       "      <td>...</td>\n",
       "      <td>1</td>\n",
       "      <td>0</td>\n",
       "      <td>0</td>\n",
       "      <td>1</td>\n",
       "      <td>0</td>\n",
       "      <td>0</td>\n",
       "      <td>0</td>\n",
       "      <td>1</td>\n",
       "      <td>265.137009</td>\n",
       "      <td>850.794285</td>\n",
       "    </tr>\n",
       "    <tr>\n",
       "      <th>1</th>\n",
       "      <td>Color</td>\n",
       "      <td>Gore Verbinski</td>\n",
       "      <td>302.000000</td>\n",
       "      <td>169.0</td>\n",
       "      <td>563.0</td>\n",
       "      <td>1000.0</td>\n",
       "      <td>Orlando Bloom</td>\n",
       "      <td>Johnny Depp</td>\n",
       "      <td>Pirates of the Caribbean: At World's End</td>\n",
       "      <td>471220</td>\n",
       "      <td>...</td>\n",
       "      <td>1</td>\n",
       "      <td>0</td>\n",
       "      <td>0</td>\n",
       "      <td>1</td>\n",
       "      <td>0</td>\n",
       "      <td>0</td>\n",
       "      <td>0</td>\n",
       "      <td>0</td>\n",
       "      <td>347.262037</td>\n",
       "      <td>358.147720</td>\n",
       "    </tr>\n",
       "    <tr>\n",
       "      <th>2</th>\n",
       "      <td>Color</td>\n",
       "      <td>Sam Mendes</td>\n",
       "      <td>602.000000</td>\n",
       "      <td>148.0</td>\n",
       "      <td>0.0</td>\n",
       "      <td>161.0</td>\n",
       "      <td>Rory Kinnear</td>\n",
       "      <td>Christoph Waltz</td>\n",
       "      <td>Spectre</td>\n",
       "      <td>275868</td>\n",
       "      <td>...</td>\n",
       "      <td>0</td>\n",
       "      <td>0</td>\n",
       "      <td>0</td>\n",
       "      <td>1</td>\n",
       "      <td>0</td>\n",
       "      <td>0</td>\n",
       "      <td>0</td>\n",
       "      <td>0</td>\n",
       "      <td>248.090879</td>\n",
       "      <td>202.598277</td>\n",
       "    </tr>\n",
       "    <tr>\n",
       "      <th>3</th>\n",
       "      <td>Color</td>\n",
       "      <td>Christopher Nolan</td>\n",
       "      <td>813.000000</td>\n",
       "      <td>164.0</td>\n",
       "      <td>22000.0</td>\n",
       "      <td>23000.0</td>\n",
       "      <td>Christian Bale</td>\n",
       "      <td>Tom Hardy</td>\n",
       "      <td>The Dark Knight Rises</td>\n",
       "      <td>1144337</td>\n",
       "      <td>...</td>\n",
       "      <td>0</td>\n",
       "      <td>0</td>\n",
       "      <td>0</td>\n",
       "      <td>0</td>\n",
       "      <td>0</td>\n",
       "      <td>0</td>\n",
       "      <td>0</td>\n",
       "      <td>0</td>\n",
       "      <td>261.338770</td>\n",
       "      <td>468.455642</td>\n",
       "    </tr>\n",
       "    <tr>\n",
       "      <th>4</th>\n",
       "      <td>Color</td>\n",
       "      <td>Andrew Stanton</td>\n",
       "      <td>462.000000</td>\n",
       "      <td>132.0</td>\n",
       "      <td>475.0</td>\n",
       "      <td>530.0</td>\n",
       "      <td>Samantha Morton</td>\n",
       "      <td>Daryl Sabara</td>\n",
       "      <td>John Carter</td>\n",
       "      <td>212204</td>\n",
       "      <td>...</td>\n",
       "      <td>0</td>\n",
       "      <td>0</td>\n",
       "      <td>0</td>\n",
       "      <td>1</td>\n",
       "      <td>0</td>\n",
       "      <td>0</td>\n",
       "      <td>0</td>\n",
       "      <td>1</td>\n",
       "      <td>275.660134</td>\n",
       "      <td>76.372261</td>\n",
       "    </tr>\n",
       "    <tr>\n",
       "      <th>5</th>\n",
       "      <td>Color</td>\n",
       "      <td>Sam Raimi</td>\n",
       "      <td>392.000000</td>\n",
       "      <td>156.0</td>\n",
       "      <td>0.0</td>\n",
       "      <td>4000.0</td>\n",
       "      <td>James Franco</td>\n",
       "      <td>J.K. Simmons</td>\n",
       "      <td>Spider-Man 3</td>\n",
       "      <td>383056</td>\n",
       "      <td>...</td>\n",
       "      <td>0</td>\n",
       "      <td>0</td>\n",
       "      <td>0</td>\n",
       "      <td>1</td>\n",
       "      <td>0</td>\n",
       "      <td>0</td>\n",
       "      <td>0</td>\n",
       "      <td>0</td>\n",
       "      <td>298.645352</td>\n",
       "      <td>389.547329</td>\n",
       "    </tr>\n",
       "    <tr>\n",
       "      <th>6</th>\n",
       "      <td>Color</td>\n",
       "      <td>Nathan Greno</td>\n",
       "      <td>324.000000</td>\n",
       "      <td>100.0</td>\n",
       "      <td>15.0</td>\n",
       "      <td>284.0</td>\n",
       "      <td>Donna Murphy</td>\n",
       "      <td>Brad Garrett</td>\n",
       "      <td>Tangled</td>\n",
       "      <td>294810</td>\n",
       "      <td>...</td>\n",
       "      <td>1</td>\n",
       "      <td>0</td>\n",
       "      <td>0</td>\n",
       "      <td>1</td>\n",
       "      <td>0</td>\n",
       "      <td>1</td>\n",
       "      <td>0</td>\n",
       "      <td>0</td>\n",
       "      <td>286.174223</td>\n",
       "      <td>221.022547</td>\n",
       "    </tr>\n",
       "    <tr>\n",
       "      <th>7</th>\n",
       "      <td>Color</td>\n",
       "      <td>Joss Whedon</td>\n",
       "      <td>635.000000</td>\n",
       "      <td>141.0</td>\n",
       "      <td>0.0</td>\n",
       "      <td>19000.0</td>\n",
       "      <td>Robert Downey Jr.</td>\n",
       "      <td>Chris Hemsworth</td>\n",
       "      <td>Avengers: Age of Ultron</td>\n",
       "      <td>462669</td>\n",
       "      <td>...</td>\n",
       "      <td>0</td>\n",
       "      <td>0</td>\n",
       "      <td>0</td>\n",
       "      <td>1</td>\n",
       "      <td>0</td>\n",
       "      <td>0</td>\n",
       "      <td>0</td>\n",
       "      <td>1</td>\n",
       "      <td>253.153958</td>\n",
       "      <td>464.782160</td>\n",
       "    </tr>\n",
       "    <tr>\n",
       "      <th>8</th>\n",
       "      <td>Color</td>\n",
       "      <td>David Yates</td>\n",
       "      <td>375.000000</td>\n",
       "      <td>153.0</td>\n",
       "      <td>282.0</td>\n",
       "      <td>10000.0</td>\n",
       "      <td>Daniel Radcliffe</td>\n",
       "      <td>Alan Rickman</td>\n",
       "      <td>Harry Potter and the Half-Blood Prince</td>\n",
       "      <td>321795</td>\n",
       "      <td>...</td>\n",
       "      <td>1</td>\n",
       "      <td>0</td>\n",
       "      <td>0</td>\n",
       "      <td>1</td>\n",
       "      <td>0</td>\n",
       "      <td>0</td>\n",
       "      <td>1</td>\n",
       "      <td>0</td>\n",
       "      <td>279.680389</td>\n",
       "      <td>337.805783</td>\n",
       "    </tr>\n",
       "    <tr>\n",
       "      <th>9</th>\n",
       "      <td>Color</td>\n",
       "      <td>Zack Snyder</td>\n",
       "      <td>673.000000</td>\n",
       "      <td>183.0</td>\n",
       "      <td>0.0</td>\n",
       "      <td>2000.0</td>\n",
       "      <td>Lauren Cohan</td>\n",
       "      <td>Henry Cavill</td>\n",
       "      <td>Batman v Superman: Dawn of Justice</td>\n",
       "      <td>371639</td>\n",
       "      <td>...</td>\n",
       "      <td>0</td>\n",
       "      <td>0</td>\n",
       "      <td>0</td>\n",
       "      <td>1</td>\n",
       "      <td>0</td>\n",
       "      <td>0</td>\n",
       "      <td>0</td>\n",
       "      <td>1</td>\n",
       "      <td>250.000000</td>\n",
       "      <td>330.249062</td>\n",
       "    </tr>\n",
       "    <tr>\n",
       "      <th>10</th>\n",
       "      <td>Color</td>\n",
       "      <td>Bryan Singer</td>\n",
       "      <td>434.000000</td>\n",
       "      <td>169.0</td>\n",
       "      <td>0.0</td>\n",
       "      <td>903.0</td>\n",
       "      <td>Marlon Brando</td>\n",
       "      <td>Kevin Spacey</td>\n",
       "      <td>Superman Returns</td>\n",
       "      <td>240396</td>\n",
       "      <td>...</td>\n",
       "      <td>0</td>\n",
       "      <td>0</td>\n",
       "      <td>0</td>\n",
       "      <td>1</td>\n",
       "      <td>0</td>\n",
       "      <td>0</td>\n",
       "      <td>0</td>\n",
       "      <td>1</td>\n",
       "      <td>248.827239</td>\n",
       "      <td>238.194825</td>\n",
       "    </tr>\n",
       "    <tr>\n",
       "      <th>11</th>\n",
       "      <td>Color</td>\n",
       "      <td>Marc Forster</td>\n",
       "      <td>403.000000</td>\n",
       "      <td>106.0</td>\n",
       "      <td>395.0</td>\n",
       "      <td>393.0</td>\n",
       "      <td>Mathieu Amalric</td>\n",
       "      <td>Giancarlo Giannini</td>\n",
       "      <td>Quantum of Solace</td>\n",
       "      <td>330784</td>\n",
       "      <td>...</td>\n",
       "      <td>0</td>\n",
       "      <td>0</td>\n",
       "      <td>0</td>\n",
       "      <td>1</td>\n",
       "      <td>0</td>\n",
       "      <td>0</td>\n",
       "      <td>0</td>\n",
       "      <td>0</td>\n",
       "      <td>222.948797</td>\n",
       "      <td>187.687691</td>\n",
       "    </tr>\n",
       "    <tr>\n",
       "      <th>12</th>\n",
       "      <td>Color</td>\n",
       "      <td>Gore Verbinski</td>\n",
       "      <td>313.000000</td>\n",
       "      <td>151.0</td>\n",
       "      <td>563.0</td>\n",
       "      <td>1000.0</td>\n",
       "      <td>Orlando Bloom</td>\n",
       "      <td>Johnny Depp</td>\n",
       "      <td>Pirates of the Caribbean: Dead Man's Chest</td>\n",
       "      <td>522040</td>\n",
       "      <td>...</td>\n",
       "      <td>1</td>\n",
       "      <td>0</td>\n",
       "      <td>0</td>\n",
       "      <td>1</td>\n",
       "      <td>0</td>\n",
       "      <td>0</td>\n",
       "      <td>0</td>\n",
       "      <td>0</td>\n",
       "      <td>267.876214</td>\n",
       "      <td>503.646128</td>\n",
       "    </tr>\n",
       "    <tr>\n",
       "      <th>13</th>\n",
       "      <td>Color</td>\n",
       "      <td>Gore Verbinski</td>\n",
       "      <td>450.000000</td>\n",
       "      <td>150.0</td>\n",
       "      <td>563.0</td>\n",
       "      <td>1000.0</td>\n",
       "      <td>Ruth Wilson</td>\n",
       "      <td>Johnny Depp</td>\n",
       "      <td>The Lone Ranger</td>\n",
       "      <td>181792</td>\n",
       "      <td>...</td>\n",
       "      <td>0</td>\n",
       "      <td>0</td>\n",
       "      <td>1</td>\n",
       "      <td>1</td>\n",
       "      <td>0</td>\n",
       "      <td>0</td>\n",
       "      <td>0</td>\n",
       "      <td>0</td>\n",
       "      <td>221.506640</td>\n",
       "      <td>91.992130</td>\n",
       "    </tr>\n",
       "    <tr>\n",
       "      <th>14</th>\n",
       "      <td>Color</td>\n",
       "      <td>Zack Snyder</td>\n",
       "      <td>733.000000</td>\n",
       "      <td>143.0</td>\n",
       "      <td>0.0</td>\n",
       "      <td>748.0</td>\n",
       "      <td>Christopher Meloni</td>\n",
       "      <td>Henry Cavill</td>\n",
       "      <td>Man of Steel</td>\n",
       "      <td>548573</td>\n",
       "      <td>...</td>\n",
       "      <td>1</td>\n",
       "      <td>0</td>\n",
       "      <td>0</td>\n",
       "      <td>1</td>\n",
       "      <td>0</td>\n",
       "      <td>0</td>\n",
       "      <td>0</td>\n",
       "      <td>1</td>\n",
       "      <td>231.809275</td>\n",
       "      <td>299.828879</td>\n",
       "    </tr>\n",
       "    <tr>\n",
       "      <th>15</th>\n",
       "      <td>Color</td>\n",
       "      <td>Andrew Adamson</td>\n",
       "      <td>258.000000</td>\n",
       "      <td>150.0</td>\n",
       "      <td>80.0</td>\n",
       "      <td>201.0</td>\n",
       "      <td>Pierfrancesco Favino</td>\n",
       "      <td>Peter Dinklage</td>\n",
       "      <td>The Chronicles of Narnia: Prince Caspian</td>\n",
       "      <td>149922</td>\n",
       "      <td>...</td>\n",
       "      <td>1</td>\n",
       "      <td>0</td>\n",
       "      <td>0</td>\n",
       "      <td>1</td>\n",
       "      <td>0</td>\n",
       "      <td>0</td>\n",
       "      <td>0</td>\n",
       "      <td>0</td>\n",
       "      <td>250.817396</td>\n",
       "      <td>157.863380</td>\n",
       "    </tr>\n",
       "    <tr>\n",
       "      <th>16</th>\n",
       "      <td>Color</td>\n",
       "      <td>Joss Whedon</td>\n",
       "      <td>703.000000</td>\n",
       "      <td>173.0</td>\n",
       "      <td>0.0</td>\n",
       "      <td>19000.0</td>\n",
       "      <td>Robert Downey Jr.</td>\n",
       "      <td>Chris Hemsworth</td>\n",
       "      <td>The Avengers</td>\n",
       "      <td>995415</td>\n",
       "      <td>...</td>\n",
       "      <td>0</td>\n",
       "      <td>0</td>\n",
       "      <td>0</td>\n",
       "      <td>1</td>\n",
       "      <td>0</td>\n",
       "      <td>0</td>\n",
       "      <td>0</td>\n",
       "      <td>1</td>\n",
       "      <td>229.978117</td>\n",
       "      <td>651.548439</td>\n",
       "    </tr>\n",
       "    <tr>\n",
       "      <th>17</th>\n",
       "      <td>Color</td>\n",
       "      <td>Rob Marshall</td>\n",
       "      <td>448.000000</td>\n",
       "      <td>136.0</td>\n",
       "      <td>252.0</td>\n",
       "      <td>1000.0</td>\n",
       "      <td>Sam Claflin</td>\n",
       "      <td>Johnny Depp</td>\n",
       "      <td>Pirates of the Caribbean: On Stranger Tides</td>\n",
       "      <td>370704</td>\n",
       "      <td>...</td>\n",
       "      <td>1</td>\n",
       "      <td>0</td>\n",
       "      <td>0</td>\n",
       "      <td>1</td>\n",
       "      <td>0</td>\n",
       "      <td>0</td>\n",
       "      <td>0</td>\n",
       "      <td>0</td>\n",
       "      <td>266.746750</td>\n",
       "      <td>257.212021</td>\n",
       "    </tr>\n",
       "    <tr>\n",
       "      <th>18</th>\n",
       "      <td>Color</td>\n",
       "      <td>Barry Sonnenfeld</td>\n",
       "      <td>451.000000</td>\n",
       "      <td>106.0</td>\n",
       "      <td>188.0</td>\n",
       "      <td>718.0</td>\n",
       "      <td>Michael Stuhlbarg</td>\n",
       "      <td>Will Smith</td>\n",
       "      <td>Men in Black 3</td>\n",
       "      <td>268154</td>\n",
       "      <td>...</td>\n",
       "      <td>1</td>\n",
       "      <td>0</td>\n",
       "      <td>0</td>\n",
       "      <td>1</td>\n",
       "      <td>0</td>\n",
       "      <td>0</td>\n",
       "      <td>0</td>\n",
       "      <td>1</td>\n",
       "      <td>235.204893</td>\n",
       "      <td>187.140359</td>\n",
       "    </tr>\n",
       "    <tr>\n",
       "      <th>19</th>\n",
       "      <td>Color</td>\n",
       "      <td>Peter Jackson</td>\n",
       "      <td>422.000000</td>\n",
       "      <td>164.0</td>\n",
       "      <td>0.0</td>\n",
       "      <td>773.0</td>\n",
       "      <td>Adam Brown</td>\n",
       "      <td>Aidan Turner</td>\n",
       "      <td>The Hobbit: The Battle of the Five Armies</td>\n",
       "      <td>354228</td>\n",
       "      <td>...</td>\n",
       "      <td>1</td>\n",
       "      <td>0</td>\n",
       "      <td>0</td>\n",
       "      <td>1</td>\n",
       "      <td>0</td>\n",
       "      <td>0</td>\n",
       "      <td>0</td>\n",
       "      <td>0</td>\n",
       "      <td>253.454267</td>\n",
       "      <td>258.633220</td>\n",
       "    </tr>\n",
       "    <tr>\n",
       "      <th>20</th>\n",
       "      <td>Color</td>\n",
       "      <td>Marc Webb</td>\n",
       "      <td>599.000000</td>\n",
       "      <td>153.0</td>\n",
       "      <td>464.0</td>\n",
       "      <td>963.0</td>\n",
       "      <td>Andrew Garfield</td>\n",
       "      <td>Emma Stone</td>\n",
       "      <td>The Amazing Spider-Man</td>\n",
       "      <td>451803</td>\n",
       "      <td>...</td>\n",
       "      <td>1</td>\n",
       "      <td>0</td>\n",
       "      <td>0</td>\n",
       "      <td>1</td>\n",
       "      <td>0</td>\n",
       "      <td>0</td>\n",
       "      <td>0</td>\n",
       "      <td>0</td>\n",
       "      <td>240.431668</td>\n",
       "      <td>273.915084</td>\n",
       "    </tr>\n",
       "    <tr>\n",
       "      <th>21</th>\n",
       "      <td>Color</td>\n",
       "      <td>Ridley Scott</td>\n",
       "      <td>343.000000</td>\n",
       "      <td>156.0</td>\n",
       "      <td>0.0</td>\n",
       "      <td>738.0</td>\n",
       "      <td>William Hurt</td>\n",
       "      <td>Mark Addy</td>\n",
       "      <td>Robin Hood</td>\n",
       "      <td>211765</td>\n",
       "      <td>...</td>\n",
       "      <td>0</td>\n",
       "      <td>0</td>\n",
       "      <td>0</td>\n",
       "      <td>1</td>\n",
       "      <td>0</td>\n",
       "      <td>0</td>\n",
       "      <td>0</td>\n",
       "      <td>0</td>\n",
       "      <td>220.134018</td>\n",
       "      <td>115.812215</td>\n",
       "    </tr>\n",
       "    <tr>\n",
       "      <th>22</th>\n",
       "      <td>Color</td>\n",
       "      <td>Peter Jackson</td>\n",
       "      <td>509.000000</td>\n",
       "      <td>186.0</td>\n",
       "      <td>0.0</td>\n",
       "      <td>773.0</td>\n",
       "      <td>Adam Brown</td>\n",
       "      <td>Aidan Turner</td>\n",
       "      <td>The Hobbit: The Desolation of Smaug</td>\n",
       "      <td>483540</td>\n",
       "      <td>...</td>\n",
       "      <td>1</td>\n",
       "      <td>0</td>\n",
       "      <td>0</td>\n",
       "      <td>1</td>\n",
       "      <td>0</td>\n",
       "      <td>0</td>\n",
       "      <td>0</td>\n",
       "      <td>0</td>\n",
       "      <td>231.809275</td>\n",
       "      <td>266.174076</td>\n",
       "    </tr>\n",
       "    <tr>\n",
       "      <th>23</th>\n",
       "      <td>Color</td>\n",
       "      <td>Chris Weitz</td>\n",
       "      <td>251.000000</td>\n",
       "      <td>113.0</td>\n",
       "      <td>129.0</td>\n",
       "      <td>1000.0</td>\n",
       "      <td>Eva Green</td>\n",
       "      <td>Christopher Lee</td>\n",
       "      <td>The Golden Compass</td>\n",
       "      <td>149019</td>\n",
       "      <td>...</td>\n",
       "      <td>1</td>\n",
       "      <td>0</td>\n",
       "      <td>0</td>\n",
       "      <td>1</td>\n",
       "      <td>0</td>\n",
       "      <td>0</td>\n",
       "      <td>0</td>\n",
       "      <td>0</td>\n",
       "      <td>208.357222</td>\n",
       "      <td>81.124485</td>\n",
       "    </tr>\n",
       "    <tr>\n",
       "      <th>24</th>\n",
       "      <td>Color</td>\n",
       "      <td>Peter Jackson</td>\n",
       "      <td>446.000000</td>\n",
       "      <td>201.0</td>\n",
       "      <td>0.0</td>\n",
       "      <td>84.0</td>\n",
       "      <td>Thomas Kretschmann</td>\n",
       "      <td>Naomi Watts</td>\n",
       "      <td>King Kong</td>\n",
       "      <td>316018</td>\n",
       "      <td>...</td>\n",
       "      <td>0</td>\n",
       "      <td>0</td>\n",
       "      <td>0</td>\n",
       "      <td>1</td>\n",
       "      <td>0</td>\n",
       "      <td>0</td>\n",
       "      <td>0</td>\n",
       "      <td>0</td>\n",
       "      <td>254.396331</td>\n",
       "      <td>267.977974</td>\n",
       "    </tr>\n",
       "    <tr>\n",
       "      <th>25</th>\n",
       "      <td>Color</td>\n",
       "      <td>James Cameron</td>\n",
       "      <td>315.000000</td>\n",
       "      <td>194.0</td>\n",
       "      <td>0.0</td>\n",
       "      <td>794.0</td>\n",
       "      <td>Kate Winslet</td>\n",
       "      <td>Leonardo DiCaprio</td>\n",
       "      <td>Titanic</td>\n",
       "      <td>793059</td>\n",
       "      <td>...</td>\n",
       "      <td>0</td>\n",
       "      <td>0</td>\n",
       "      <td>0</td>\n",
       "      <td>0</td>\n",
       "      <td>0</td>\n",
       "      <td>0</td>\n",
       "      <td>0</td>\n",
       "      <td>0</td>\n",
       "      <td>299.043298</td>\n",
       "      <td>984.857686</td>\n",
       "    </tr>\n",
       "    <tr>\n",
       "      <th>26</th>\n",
       "      <td>Color</td>\n",
       "      <td>Anthony Russo</td>\n",
       "      <td>516.000000</td>\n",
       "      <td>147.0</td>\n",
       "      <td>94.0</td>\n",
       "      <td>11000.0</td>\n",
       "      <td>Scarlett Johansson</td>\n",
       "      <td>Robert Downey Jr.</td>\n",
       "      <td>Captain America: Civil War</td>\n",
       "      <td>272670</td>\n",
       "      <td>...</td>\n",
       "      <td>0</td>\n",
       "      <td>0</td>\n",
       "      <td>0</td>\n",
       "      <td>1</td>\n",
       "      <td>0</td>\n",
       "      <td>0</td>\n",
       "      <td>0</td>\n",
       "      <td>1</td>\n",
       "      <td>250.000000</td>\n",
       "      <td>407.197282</td>\n",
       "    </tr>\n",
       "    <tr>\n",
       "      <th>27</th>\n",
       "      <td>Color</td>\n",
       "      <td>Peter Berg</td>\n",
       "      <td>377.000000</td>\n",
       "      <td>131.0</td>\n",
       "      <td>532.0</td>\n",
       "      <td>627.0</td>\n",
       "      <td>Alexander Skarsgård</td>\n",
       "      <td>Liam Neeson</td>\n",
       "      <td>Battleship</td>\n",
       "      <td>202382</td>\n",
       "      <td>...</td>\n",
       "      <td>0</td>\n",
       "      <td>0</td>\n",
       "      <td>0</td>\n",
       "      <td>1</td>\n",
       "      <td>0</td>\n",
       "      <td>0</td>\n",
       "      <td>0</td>\n",
       "      <td>1</td>\n",
       "      <td>218.479211</td>\n",
       "      <td>68.129094</td>\n",
       "    </tr>\n",
       "    <tr>\n",
       "      <th>28</th>\n",
       "      <td>Color</td>\n",
       "      <td>Colin Trevorrow</td>\n",
       "      <td>644.000000</td>\n",
       "      <td>124.0</td>\n",
       "      <td>365.0</td>\n",
       "      <td>1000.0</td>\n",
       "      <td>Judy Greer</td>\n",
       "      <td>Bryce Dallas Howard</td>\n",
       "      <td>Jurassic World</td>\n",
       "      <td>418214</td>\n",
       "      <td>...</td>\n",
       "      <td>0</td>\n",
       "      <td>0</td>\n",
       "      <td>0</td>\n",
       "      <td>1</td>\n",
       "      <td>0</td>\n",
       "      <td>0</td>\n",
       "      <td>0</td>\n",
       "      <td>1</td>\n",
       "      <td>151.892375</td>\n",
       "      <td>660.405030</td>\n",
       "    </tr>\n",
       "    <tr>\n",
       "      <th>29</th>\n",
       "      <td>Color</td>\n",
       "      <td>Sam Mendes</td>\n",
       "      <td>750.000000</td>\n",
       "      <td>143.0</td>\n",
       "      <td>0.0</td>\n",
       "      <td>393.0</td>\n",
       "      <td>Helen McCrory</td>\n",
       "      <td>Albert Finney</td>\n",
       "      <td>Skyfall</td>\n",
       "      <td>522030</td>\n",
       "      <td>...</td>\n",
       "      <td>0</td>\n",
       "      <td>0</td>\n",
       "      <td>0</td>\n",
       "      <td>1</td>\n",
       "      <td>0</td>\n",
       "      <td>0</td>\n",
       "      <td>0</td>\n",
       "      <td>0</td>\n",
       "      <td>209.071016</td>\n",
       "      <td>318.164561</td>\n",
       "    </tr>\n",
       "    <tr>\n",
       "      <th>...</th>\n",
       "      <td>...</td>\n",
       "      <td>...</td>\n",
       "      <td>...</td>\n",
       "      <td>...</td>\n",
       "      <td>...</td>\n",
       "      <td>...</td>\n",
       "      <td>...</td>\n",
       "      <td>...</td>\n",
       "      <td>...</td>\n",
       "      <td>...</td>\n",
       "      <td>...</td>\n",
       "      <td>...</td>\n",
       "      <td>...</td>\n",
       "      <td>...</td>\n",
       "      <td>...</td>\n",
       "      <td>...</td>\n",
       "      <td>...</td>\n",
       "      <td>...</td>\n",
       "      <td>...</td>\n",
       "      <td>...</td>\n",
       "      <td>...</td>\n",
       "    </tr>\n",
       "    <tr>\n",
       "      <th>4551</th>\n",
       "      <td>Color</td>\n",
       "      <td>Matt Johnson</td>\n",
       "      <td>73.000000</td>\n",
       "      <td>83.0</td>\n",
       "      <td>8.0</td>\n",
       "      <td>8.0</td>\n",
       "      <td>Shailene Garnett</td>\n",
       "      <td>Paul Daniel Ayotte</td>\n",
       "      <td>The Dirties</td>\n",
       "      <td>3885</td>\n",
       "      <td>...</td>\n",
       "      <td>0</td>\n",
       "      <td>0</td>\n",
       "      <td>0</td>\n",
       "      <td>0</td>\n",
       "      <td>0</td>\n",
       "      <td>0</td>\n",
       "      <td>0</td>\n",
       "      <td>0</td>\n",
       "      <td>40.955672</td>\n",
       "      <td>49.935228</td>\n",
       "    </tr>\n",
       "    <tr>\n",
       "      <th>4552</th>\n",
       "      <td>Color</td>\n",
       "      <td>Bruno Barreto</td>\n",
       "      <td>1.000000</td>\n",
       "      <td>99.0</td>\n",
       "      <td>9.0</td>\n",
       "      <td>3.0</td>\n",
       "      <td>Sonia Braga</td>\n",
       "      <td>Marcello Mastroianni</td>\n",
       "      <td>Gabriela</td>\n",
       "      <td>712</td>\n",
       "      <td>...</td>\n",
       "      <td>0</td>\n",
       "      <td>0</td>\n",
       "      <td>0</td>\n",
       "      <td>0</td>\n",
       "      <td>0</td>\n",
       "      <td>0</td>\n",
       "      <td>0</td>\n",
       "      <td>0</td>\n",
       "      <td>95.792307</td>\n",
       "      <td>116.794831</td>\n",
       "    </tr>\n",
       "    <tr>\n",
       "      <th>4553</th>\n",
       "      <td>Color</td>\n",
       "      <td>Lena Dunham</td>\n",
       "      <td>113.000000</td>\n",
       "      <td>98.0</td>\n",
       "      <td>969.0</td>\n",
       "      <td>433.0</td>\n",
       "      <td>Merritt Wever</td>\n",
       "      <td>Lena Dunham</td>\n",
       "      <td>Tiny Furniture</td>\n",
       "      <td>11816</td>\n",
       "      <td>...</td>\n",
       "      <td>0</td>\n",
       "      <td>0</td>\n",
       "      <td>0</td>\n",
       "      <td>0</td>\n",
       "      <td>0</td>\n",
       "      <td>0</td>\n",
       "      <td>0</td>\n",
       "      <td>0</td>\n",
       "      <td>0.071544</td>\n",
       "      <td>0.429046</td>\n",
       "    </tr>\n",
       "    <tr>\n",
       "      <th>4554</th>\n",
       "      <td>Color</td>\n",
       "      <td>William Eubank</td>\n",
       "      <td>161.000000</td>\n",
       "      <td>97.0</td>\n",
       "      <td>18.0</td>\n",
       "      <td>236.0</td>\n",
       "      <td>Olivia Cooke</td>\n",
       "      <td>Lin Shaye</td>\n",
       "      <td>The Signal</td>\n",
       "      <td>48236</td>\n",
       "      <td>...</td>\n",
       "      <td>0</td>\n",
       "      <td>0</td>\n",
       "      <td>0</td>\n",
       "      <td>0</td>\n",
       "      <td>0</td>\n",
       "      <td>0</td>\n",
       "      <td>0</td>\n",
       "      <td>1</td>\n",
       "      <td>4.055268</td>\n",
       "      <td>49.138099</td>\n",
       "    </tr>\n",
       "    <tr>\n",
       "      <th>4555</th>\n",
       "      <td>Color</td>\n",
       "      <td>Chad Hartigan</td>\n",
       "      <td>34.000000</td>\n",
       "      <td>83.0</td>\n",
       "      <td>3.0</td>\n",
       "      <td>69.0</td>\n",
       "      <td>Paul Eenhoorn</td>\n",
       "      <td>Jan Haley</td>\n",
       "      <td>This Is Martin Bonner</td>\n",
       "      <td>733</td>\n",
       "      <td>...</td>\n",
       "      <td>0</td>\n",
       "      <td>0</td>\n",
       "      <td>0</td>\n",
       "      <td>0</td>\n",
       "      <td>0</td>\n",
       "      <td>0</td>\n",
       "      <td>0</td>\n",
       "      <td>0</td>\n",
       "      <td>0.043271</td>\n",
       "      <td>49.935228</td>\n",
       "    </tr>\n",
       "    <tr>\n",
       "      <th>4556</th>\n",
       "      <td>Color</td>\n",
       "      <td>David Gordon Green</td>\n",
       "      <td>75.000000</td>\n",
       "      <td>90.0</td>\n",
       "      <td>234.0</td>\n",
       "      <td>15.0</td>\n",
       "      <td>Eddie Rouse</td>\n",
       "      <td>Paul Schneider</td>\n",
       "      <td>George Washington</td>\n",
       "      <td>6246</td>\n",
       "      <td>...</td>\n",
       "      <td>0</td>\n",
       "      <td>0</td>\n",
       "      <td>0</td>\n",
       "      <td>0</td>\n",
       "      <td>0</td>\n",
       "      <td>0</td>\n",
       "      <td>0</td>\n",
       "      <td>0</td>\n",
       "      <td>0.058538</td>\n",
       "      <td>0.337036</td>\n",
       "    </tr>\n",
       "    <tr>\n",
       "      <th>4557</th>\n",
       "      <td>Color</td>\n",
       "      <td>Kevin Jordan</td>\n",
       "      <td>21.000000</td>\n",
       "      <td>90.0</td>\n",
       "      <td>4.0</td>\n",
       "      <td>113.0</td>\n",
       "      <td>Christa Miller</td>\n",
       "      <td>Derick Martini</td>\n",
       "      <td>Smiling Fish &amp; Goat on Fire</td>\n",
       "      <td>2631</td>\n",
       "      <td>...</td>\n",
       "      <td>0</td>\n",
       "      <td>0</td>\n",
       "      <td>0</td>\n",
       "      <td>0</td>\n",
       "      <td>0</td>\n",
       "      <td>0</td>\n",
       "      <td>0</td>\n",
       "      <td>0</td>\n",
       "      <td>0.057633</td>\n",
       "      <td>0.399447</td>\n",
       "    </tr>\n",
       "    <tr>\n",
       "      <th>4558</th>\n",
       "      <td>Color</td>\n",
       "      <td>Travis Legge</td>\n",
       "      <td>2.000000</td>\n",
       "      <td>83.0</td>\n",
       "      <td>138.0</td>\n",
       "      <td>76.0</td>\n",
       "      <td>Patricia Raven</td>\n",
       "      <td>Elissa Dowling</td>\n",
       "      <td>Raymond Did It</td>\n",
       "      <td>192</td>\n",
       "      <td>...</td>\n",
       "      <td>0</td>\n",
       "      <td>0</td>\n",
       "      <td>0</td>\n",
       "      <td>0</td>\n",
       "      <td>0</td>\n",
       "      <td>0</td>\n",
       "      <td>0</td>\n",
       "      <td>0</td>\n",
       "      <td>0.042679</td>\n",
       "      <td>51.715161</td>\n",
       "    </tr>\n",
       "    <tr>\n",
       "      <th>4559</th>\n",
       "      <td>Color</td>\n",
       "      <td>Martin Scorsese</td>\n",
       "      <td>71.000000</td>\n",
       "      <td>117.0</td>\n",
       "      <td>17000.0</td>\n",
       "      <td>476.0</td>\n",
       "      <td>Levon Helm</td>\n",
       "      <td>Ringo Starr</td>\n",
       "      <td>The Last Waltz</td>\n",
       "      <td>12611</td>\n",
       "      <td>...</td>\n",
       "      <td>0</td>\n",
       "      <td>0</td>\n",
       "      <td>0</td>\n",
       "      <td>0</td>\n",
       "      <td>0</td>\n",
       "      <td>0</td>\n",
       "      <td>0</td>\n",
       "      <td>0</td>\n",
       "      <td>146.258260</td>\n",
       "      <td>1.184529</td>\n",
       "    </tr>\n",
       "    <tr>\n",
       "      <th>4560</th>\n",
       "      <td>Color</td>\n",
       "      <td>Bradley Rust Gray</td>\n",
       "      <td>61.000000</td>\n",
       "      <td>79.0</td>\n",
       "      <td>2.0</td>\n",
       "      <td>20.0</td>\n",
       "      <td>Mark Rendall</td>\n",
       "      <td>Zoe Kazan</td>\n",
       "      <td>The Exploding Girl</td>\n",
       "      <td>1516</td>\n",
       "      <td>...</td>\n",
       "      <td>0</td>\n",
       "      <td>0</td>\n",
       "      <td>0</td>\n",
       "      <td>0</td>\n",
       "      <td>0</td>\n",
       "      <td>0</td>\n",
       "      <td>0</td>\n",
       "      <td>0</td>\n",
       "      <td>44.472113</td>\n",
       "      <td>0.027638</td>\n",
       "    </tr>\n",
       "    <tr>\n",
       "      <th>4561</th>\n",
       "      <td>Black and White</td>\n",
       "      <td>Andrew Bujalski</td>\n",
       "      <td>52.000000</td>\n",
       "      <td>109.0</td>\n",
       "      <td>26.0</td>\n",
       "      <td>3.0</td>\n",
       "      <td>Kate Dollenmayer</td>\n",
       "      <td>Andrew Bujalski</td>\n",
       "      <td>Mutual Appreciation</td>\n",
       "      <td>1578</td>\n",
       "      <td>...</td>\n",
       "      <td>0</td>\n",
       "      <td>0</td>\n",
       "      <td>0</td>\n",
       "      <td>0</td>\n",
       "      <td>0</td>\n",
       "      <td>0</td>\n",
       "      <td>0</td>\n",
       "      <td>0</td>\n",
       "      <td>48.854690</td>\n",
       "      <td>59.566111</td>\n",
       "    </tr>\n",
       "    <tr>\n",
       "      <th>4562</th>\n",
       "      <td>Color</td>\n",
       "      <td>Damir Catic</td>\n",
       "      <td>140.194272</td>\n",
       "      <td>89.0</td>\n",
       "      <td>2.0</td>\n",
       "      <td>0.0</td>\n",
       "      <td>Ron Gelner</td>\n",
       "      <td>Nichole Ceballos</td>\n",
       "      <td>Her Cry: La Llorona Investigation</td>\n",
       "      <td>23</td>\n",
       "      <td>...</td>\n",
       "      <td>0</td>\n",
       "      <td>0</td>\n",
       "      <td>0</td>\n",
       "      <td>0</td>\n",
       "      <td>0</td>\n",
       "      <td>0</td>\n",
       "      <td>0</td>\n",
       "      <td>0</td>\n",
       "      <td>0.061816</td>\n",
       "      <td>49.935228</td>\n",
       "    </tr>\n",
       "    <tr>\n",
       "      <th>4563</th>\n",
       "      <td>Color</td>\n",
       "      <td>Ben Wheatley</td>\n",
       "      <td>53.000000</td>\n",
       "      <td>93.0</td>\n",
       "      <td>214.0</td>\n",
       "      <td>59.0</td>\n",
       "      <td>Tony Way</td>\n",
       "      <td>Michael Smiley</td>\n",
       "      <td>Down Terrace</td>\n",
       "      <td>2646</td>\n",
       "      <td>...</td>\n",
       "      <td>0</td>\n",
       "      <td>0</td>\n",
       "      <td>0</td>\n",
       "      <td>0</td>\n",
       "      <td>0</td>\n",
       "      <td>0</td>\n",
       "      <td>0</td>\n",
       "      <td>0</td>\n",
       "      <td>44.472113</td>\n",
       "      <td>0.010750</td>\n",
       "    </tr>\n",
       "    <tr>\n",
       "      <th>4564</th>\n",
       "      <td>Black and White</td>\n",
       "      <td>Kevin Smith</td>\n",
       "      <td>136.000000</td>\n",
       "      <td>102.0</td>\n",
       "      <td>0.0</td>\n",
       "      <td>216.0</td>\n",
       "      <td>Brian O'Halloran</td>\n",
       "      <td>Jason Mewes</td>\n",
       "      <td>Clerks</td>\n",
       "      <td>181749</td>\n",
       "      <td>...</td>\n",
       "      <td>0</td>\n",
       "      <td>0</td>\n",
       "      <td>0</td>\n",
       "      <td>0</td>\n",
       "      <td>0</td>\n",
       "      <td>0</td>\n",
       "      <td>0</td>\n",
       "      <td>0</td>\n",
       "      <td>0.372418</td>\n",
       "      <td>5.102336</td>\n",
       "    </tr>\n",
       "    <tr>\n",
       "      <th>4565</th>\n",
       "      <td>Color</td>\n",
       "      <td>Neil LaBute</td>\n",
       "      <td>80.000000</td>\n",
       "      <td>97.0</td>\n",
       "      <td>119.0</td>\n",
       "      <td>7.0</td>\n",
       "      <td>Matt Malloy</td>\n",
       "      <td>Stacy Edwards</td>\n",
       "      <td>In the Company of Men</td>\n",
       "      <td>11550</td>\n",
       "      <td>...</td>\n",
       "      <td>0</td>\n",
       "      <td>0</td>\n",
       "      <td>0</td>\n",
       "      <td>0</td>\n",
       "      <td>0</td>\n",
       "      <td>0</td>\n",
       "      <td>0</td>\n",
       "      <td>0</td>\n",
       "      <td>0.037380</td>\n",
       "      <td>4.271268</td>\n",
       "    </tr>\n",
       "    <tr>\n",
       "      <th>4566</th>\n",
       "      <td>Color</td>\n",
       "      <td>David Ayer</td>\n",
       "      <td>233.000000</td>\n",
       "      <td>109.0</td>\n",
       "      <td>453.0</td>\n",
       "      <td>120.0</td>\n",
       "      <td>Martin Donovan</td>\n",
       "      <td>Mireille Enos</td>\n",
       "      <td>Sabotage</td>\n",
       "      <td>47502</td>\n",
       "      <td>...</td>\n",
       "      <td>0</td>\n",
       "      <td>0</td>\n",
       "      <td>0</td>\n",
       "      <td>0</td>\n",
       "      <td>0</td>\n",
       "      <td>0</td>\n",
       "      <td>0</td>\n",
       "      <td>0</td>\n",
       "      <td>35.483597</td>\n",
       "      <td>10.645047</td>\n",
       "    </tr>\n",
       "    <tr>\n",
       "      <th>4567</th>\n",
       "      <td>Color</td>\n",
       "      <td>Uwe Boll</td>\n",
       "      <td>58.000000</td>\n",
       "      <td>80.0</td>\n",
       "      <td>892.0</td>\n",
       "      <td>492.0</td>\n",
       "      <td>Katharine Isabelle</td>\n",
       "      <td>Matt Frewer</td>\n",
       "      <td>Rampage</td>\n",
       "      <td>15091</td>\n",
       "      <td>...</td>\n",
       "      <td>0</td>\n",
       "      <td>0</td>\n",
       "      <td>0</td>\n",
       "      <td>0</td>\n",
       "      <td>0</td>\n",
       "      <td>0</td>\n",
       "      <td>0</td>\n",
       "      <td>0</td>\n",
       "      <td>44.472113</td>\n",
       "      <td>54.222652</td>\n",
       "    </tr>\n",
       "    <tr>\n",
       "      <th>4568</th>\n",
       "      <td>Black and White</td>\n",
       "      <td>Richard Linklater</td>\n",
       "      <td>61.000000</td>\n",
       "      <td>100.0</td>\n",
       "      <td>0.0</td>\n",
       "      <td>0.0</td>\n",
       "      <td>Richard Linklater</td>\n",
       "      <td>Tommy Pallotta</td>\n",
       "      <td>Slacker</td>\n",
       "      <td>15103</td>\n",
       "      <td>...</td>\n",
       "      <td>0</td>\n",
       "      <td>0</td>\n",
       "      <td>0</td>\n",
       "      <td>0</td>\n",
       "      <td>0</td>\n",
       "      <td>0</td>\n",
       "      <td>0</td>\n",
       "      <td>0</td>\n",
       "      <td>0.040532</td>\n",
       "      <td>2.163207</td>\n",
       "    </tr>\n",
       "    <tr>\n",
       "      <th>4569</th>\n",
       "      <td>Color</td>\n",
       "      <td>Marcus Nispel</td>\n",
       "      <td>43.000000</td>\n",
       "      <td>91.0</td>\n",
       "      <td>158.0</td>\n",
       "      <td>265.0</td>\n",
       "      <td>Brittany Curran</td>\n",
       "      <td>Ashley Tramonte</td>\n",
       "      <td>Exeter</td>\n",
       "      <td>3836</td>\n",
       "      <td>...</td>\n",
       "      <td>0</td>\n",
       "      <td>0</td>\n",
       "      <td>0</td>\n",
       "      <td>0</td>\n",
       "      <td>0</td>\n",
       "      <td>0</td>\n",
       "      <td>1</td>\n",
       "      <td>0</td>\n",
       "      <td>40.254133</td>\n",
       "      <td>49.079877</td>\n",
       "    </tr>\n",
       "    <tr>\n",
       "      <th>4570</th>\n",
       "      <td>Color</td>\n",
       "      <td>Jay Duplass</td>\n",
       "      <td>51.000000</td>\n",
       "      <td>85.0</td>\n",
       "      <td>157.0</td>\n",
       "      <td>10.0</td>\n",
       "      <td>Katie Aselton</td>\n",
       "      <td>Mark Duplass</td>\n",
       "      <td>The Puffy Chair</td>\n",
       "      <td>4067</td>\n",
       "      <td>...</td>\n",
       "      <td>0</td>\n",
       "      <td>0</td>\n",
       "      <td>0</td>\n",
       "      <td>0</td>\n",
       "      <td>0</td>\n",
       "      <td>0</td>\n",
       "      <td>0</td>\n",
       "      <td>0</td>\n",
       "      <td>0.018435</td>\n",
       "      <td>0.236536</td>\n",
       "    </tr>\n",
       "    <tr>\n",
       "      <th>4571</th>\n",
       "      <td>Color</td>\n",
       "      <td>Jason Trost</td>\n",
       "      <td>42.000000</td>\n",
       "      <td>78.0</td>\n",
       "      <td>91.0</td>\n",
       "      <td>86.0</td>\n",
       "      <td>Jason Trost</td>\n",
       "      <td>Sean Whalen</td>\n",
       "      <td>All Superheroes Must Die</td>\n",
       "      <td>1771</td>\n",
       "      <td>...</td>\n",
       "      <td>0</td>\n",
       "      <td>0</td>\n",
       "      <td>0</td>\n",
       "      <td>0</td>\n",
       "      <td>0</td>\n",
       "      <td>0</td>\n",
       "      <td>0</td>\n",
       "      <td>1</td>\n",
       "      <td>0.021340</td>\n",
       "      <td>51.715161</td>\n",
       "    </tr>\n",
       "    <tr>\n",
       "      <th>4572</th>\n",
       "      <td>Color</td>\n",
       "      <td>John Waters</td>\n",
       "      <td>73.000000</td>\n",
       "      <td>108.0</td>\n",
       "      <td>0.0</td>\n",
       "      <td>105.0</td>\n",
       "      <td>Mink Stole</td>\n",
       "      <td>Divine</td>\n",
       "      <td>Pink Flamingos</td>\n",
       "      <td>16792</td>\n",
       "      <td>...</td>\n",
       "      <td>0</td>\n",
       "      <td>0</td>\n",
       "      <td>0</td>\n",
       "      <td>0</td>\n",
       "      <td>0</td>\n",
       "      <td>0</td>\n",
       "      <td>0</td>\n",
       "      <td>0</td>\n",
       "      <td>0.057395</td>\n",
       "      <td>1.035884</td>\n",
       "    </tr>\n",
       "    <tr>\n",
       "      <th>4573</th>\n",
       "      <td>Color</td>\n",
       "      <td>Olivier Assayas</td>\n",
       "      <td>81.000000</td>\n",
       "      <td>110.0</td>\n",
       "      <td>107.0</td>\n",
       "      <td>45.0</td>\n",
       "      <td>Béatrice Dalle</td>\n",
       "      <td>Maggie Cheung</td>\n",
       "      <td>Clean</td>\n",
       "      <td>3924</td>\n",
       "      <td>...</td>\n",
       "      <td>0</td>\n",
       "      <td>0</td>\n",
       "      <td>0</td>\n",
       "      <td>0</td>\n",
       "      <td>0</td>\n",
       "      <td>0</td>\n",
       "      <td>0</td>\n",
       "      <td>0</td>\n",
       "      <td>0.005718</td>\n",
       "      <td>0.172819</td>\n",
       "    </tr>\n",
       "    <tr>\n",
       "      <th>4574</th>\n",
       "      <td>Color</td>\n",
       "      <td>Jafar Panahi</td>\n",
       "      <td>64.000000</td>\n",
       "      <td>90.0</td>\n",
       "      <td>397.0</td>\n",
       "      <td>0.0</td>\n",
       "      <td>Nargess Mamizadeh</td>\n",
       "      <td>Fereshteh Sadre Orafaiy</td>\n",
       "      <td>The Circle</td>\n",
       "      <td>4555</td>\n",
       "      <td>...</td>\n",
       "      <td>0</td>\n",
       "      <td>0</td>\n",
       "      <td>0</td>\n",
       "      <td>0</td>\n",
       "      <td>0</td>\n",
       "      <td>0</td>\n",
       "      <td>0</td>\n",
       "      <td>0</td>\n",
       "      <td>0.013938</td>\n",
       "      <td>0.939094</td>\n",
       "    </tr>\n",
       "    <tr>\n",
       "      <th>4575</th>\n",
       "      <td>Color</td>\n",
       "      <td>Shane Carruth</td>\n",
       "      <td>143.000000</td>\n",
       "      <td>77.0</td>\n",
       "      <td>291.0</td>\n",
       "      <td>8.0</td>\n",
       "      <td>David Sullivan</td>\n",
       "      <td>Shane Carruth</td>\n",
       "      <td>Primer</td>\n",
       "      <td>72639</td>\n",
       "      <td>...</td>\n",
       "      <td>0</td>\n",
       "      <td>0</td>\n",
       "      <td>0</td>\n",
       "      <td>0</td>\n",
       "      <td>0</td>\n",
       "      <td>0</td>\n",
       "      <td>0</td>\n",
       "      <td>1</td>\n",
       "      <td>0.008895</td>\n",
       "      <td>0.539727</td>\n",
       "    </tr>\n",
       "    <tr>\n",
       "      <th>4576</th>\n",
       "      <td>Color</td>\n",
       "      <td>Neill Dela Llana</td>\n",
       "      <td>35.000000</td>\n",
       "      <td>80.0</td>\n",
       "      <td>0.0</td>\n",
       "      <td>0.0</td>\n",
       "      <td>Edgar Tancangco</td>\n",
       "      <td>Ian Gamazon</td>\n",
       "      <td>Cavite</td>\n",
       "      <td>589</td>\n",
       "      <td>...</td>\n",
       "      <td>0</td>\n",
       "      <td>0</td>\n",
       "      <td>0</td>\n",
       "      <td>0</td>\n",
       "      <td>0</td>\n",
       "      <td>0</td>\n",
       "      <td>0</td>\n",
       "      <td>0</td>\n",
       "      <td>0.008603</td>\n",
       "      <td>0.086115</td>\n",
       "    </tr>\n",
       "    <tr>\n",
       "      <th>4577</th>\n",
       "      <td>Color</td>\n",
       "      <td>Robert Rodriguez</td>\n",
       "      <td>56.000000</td>\n",
       "      <td>81.0</td>\n",
       "      <td>0.0</td>\n",
       "      <td>6.0</td>\n",
       "      <td>Peter Marquardt</td>\n",
       "      <td>Carlos Gallardo</td>\n",
       "      <td>El Mariachi</td>\n",
       "      <td>52055</td>\n",
       "      <td>...</td>\n",
       "      <td>0</td>\n",
       "      <td>0</td>\n",
       "      <td>0</td>\n",
       "      <td>0</td>\n",
       "      <td>0</td>\n",
       "      <td>0</td>\n",
       "      <td>0</td>\n",
       "      <td>0</td>\n",
       "      <td>0.011973</td>\n",
       "      <td>3.490928</td>\n",
       "    </tr>\n",
       "    <tr>\n",
       "      <th>4578</th>\n",
       "      <td>Color</td>\n",
       "      <td>Anthony Vallone</td>\n",
       "      <td>140.194272</td>\n",
       "      <td>84.0</td>\n",
       "      <td>2.0</td>\n",
       "      <td>2.0</td>\n",
       "      <td>John Considine</td>\n",
       "      <td>Richard Jewell</td>\n",
       "      <td>The Mongol King</td>\n",
       "      <td>36</td>\n",
       "      <td>...</td>\n",
       "      <td>0</td>\n",
       "      <td>0</td>\n",
       "      <td>0</td>\n",
       "      <td>0</td>\n",
       "      <td>0</td>\n",
       "      <td>0</td>\n",
       "      <td>0</td>\n",
       "      <td>0</td>\n",
       "      <td>0.003994</td>\n",
       "      <td>59.566111</td>\n",
       "    </tr>\n",
       "    <tr>\n",
       "      <th>4579</th>\n",
       "      <td>Color</td>\n",
       "      <td>Edward Burns</td>\n",
       "      <td>14.000000</td>\n",
       "      <td>95.0</td>\n",
       "      <td>0.0</td>\n",
       "      <td>133.0</td>\n",
       "      <td>Caitlin FitzGerald</td>\n",
       "      <td>Kerry Bishé</td>\n",
       "      <td>Newlyweds</td>\n",
       "      <td>1338</td>\n",
       "      <td>...</td>\n",
       "      <td>0</td>\n",
       "      <td>0</td>\n",
       "      <td>0</td>\n",
       "      <td>0</td>\n",
       "      <td>0</td>\n",
       "      <td>0</td>\n",
       "      <td>0</td>\n",
       "      <td>0</td>\n",
       "      <td>0.009603</td>\n",
       "      <td>0.004891</td>\n",
       "    </tr>\n",
       "    <tr>\n",
       "      <th>4580</th>\n",
       "      <td>Color</td>\n",
       "      <td>Jon Gunn</td>\n",
       "      <td>43.000000</td>\n",
       "      <td>90.0</td>\n",
       "      <td>16.0</td>\n",
       "      <td>16.0</td>\n",
       "      <td>Brian Herzlinger</td>\n",
       "      <td>John August</td>\n",
       "      <td>My Date with Drew</td>\n",
       "      <td>4285</td>\n",
       "      <td>...</td>\n",
       "      <td>0</td>\n",
       "      <td>0</td>\n",
       "      <td>0</td>\n",
       "      <td>0</td>\n",
       "      <td>0</td>\n",
       "      <td>0</td>\n",
       "      <td>0</td>\n",
       "      <td>0</td>\n",
       "      <td>0.001398</td>\n",
       "      <td>0.108288</td>\n",
       "    </tr>\n",
       "  </tbody>\n",
       "</table>\n",
       "<p>4581 rows × 48 columns</p>\n",
       "</div>"
      ],
      "text/plain": [
       "                 color       director_name  num_critic_for_reviews  duration  \\\n",
       "0                Color       James Cameron              723.000000     178.0   \n",
       "1                Color      Gore Verbinski              302.000000     169.0   \n",
       "2                Color          Sam Mendes              602.000000     148.0   \n",
       "3                Color   Christopher Nolan              813.000000     164.0   \n",
       "4                Color      Andrew Stanton              462.000000     132.0   \n",
       "5                Color           Sam Raimi              392.000000     156.0   \n",
       "6                Color        Nathan Greno              324.000000     100.0   \n",
       "7                Color         Joss Whedon              635.000000     141.0   \n",
       "8                Color         David Yates              375.000000     153.0   \n",
       "9                Color         Zack Snyder              673.000000     183.0   \n",
       "10               Color        Bryan Singer              434.000000     169.0   \n",
       "11               Color        Marc Forster              403.000000     106.0   \n",
       "12               Color      Gore Verbinski              313.000000     151.0   \n",
       "13               Color      Gore Verbinski              450.000000     150.0   \n",
       "14               Color         Zack Snyder              733.000000     143.0   \n",
       "15               Color      Andrew Adamson              258.000000     150.0   \n",
       "16               Color         Joss Whedon              703.000000     173.0   \n",
       "17               Color        Rob Marshall              448.000000     136.0   \n",
       "18               Color    Barry Sonnenfeld              451.000000     106.0   \n",
       "19               Color       Peter Jackson              422.000000     164.0   \n",
       "20               Color           Marc Webb              599.000000     153.0   \n",
       "21               Color        Ridley Scott              343.000000     156.0   \n",
       "22               Color       Peter Jackson              509.000000     186.0   \n",
       "23               Color         Chris Weitz              251.000000     113.0   \n",
       "24               Color       Peter Jackson              446.000000     201.0   \n",
       "25               Color       James Cameron              315.000000     194.0   \n",
       "26               Color       Anthony Russo              516.000000     147.0   \n",
       "27               Color          Peter Berg              377.000000     131.0   \n",
       "28               Color     Colin Trevorrow              644.000000     124.0   \n",
       "29               Color          Sam Mendes              750.000000     143.0   \n",
       "...                ...                 ...                     ...       ...   \n",
       "4551             Color        Matt Johnson               73.000000      83.0   \n",
       "4552             Color       Bruno Barreto                1.000000      99.0   \n",
       "4553             Color         Lena Dunham              113.000000      98.0   \n",
       "4554             Color      William Eubank              161.000000      97.0   \n",
       "4555             Color       Chad Hartigan               34.000000      83.0   \n",
       "4556             Color  David Gordon Green               75.000000      90.0   \n",
       "4557             Color        Kevin Jordan               21.000000      90.0   \n",
       "4558             Color        Travis Legge                2.000000      83.0   \n",
       "4559             Color     Martin Scorsese               71.000000     117.0   \n",
       "4560             Color   Bradley Rust Gray               61.000000      79.0   \n",
       "4561   Black and White     Andrew Bujalski               52.000000     109.0   \n",
       "4562             Color         Damir Catic              140.194272      89.0   \n",
       "4563             Color        Ben Wheatley               53.000000      93.0   \n",
       "4564   Black and White         Kevin Smith              136.000000     102.0   \n",
       "4565             Color         Neil LaBute               80.000000      97.0   \n",
       "4566             Color          David Ayer              233.000000     109.0   \n",
       "4567             Color            Uwe Boll               58.000000      80.0   \n",
       "4568   Black and White   Richard Linklater               61.000000     100.0   \n",
       "4569             Color       Marcus Nispel               43.000000      91.0   \n",
       "4570             Color         Jay Duplass               51.000000      85.0   \n",
       "4571             Color         Jason Trost               42.000000      78.0   \n",
       "4572             Color         John Waters               73.000000     108.0   \n",
       "4573             Color     Olivier Assayas               81.000000     110.0   \n",
       "4574             Color        Jafar Panahi               64.000000      90.0   \n",
       "4575             Color       Shane Carruth              143.000000      77.0   \n",
       "4576             Color    Neill Dela Llana               35.000000      80.0   \n",
       "4577             Color    Robert Rodriguez               56.000000      81.0   \n",
       "4578             Color     Anthony Vallone              140.194272      84.0   \n",
       "4579             Color        Edward Burns               14.000000      95.0   \n",
       "4580             Color            Jon Gunn               43.000000      90.0   \n",
       "\n",
       "      director_facebook_likes  actor_3_facebook_likes          actor_2_name  \\\n",
       "0                         0.0                   855.0      Joel David Moore   \n",
       "1                       563.0                  1000.0         Orlando Bloom   \n",
       "2                         0.0                   161.0          Rory Kinnear   \n",
       "3                     22000.0                 23000.0        Christian Bale   \n",
       "4                       475.0                   530.0       Samantha Morton   \n",
       "5                         0.0                  4000.0          James Franco   \n",
       "6                        15.0                   284.0          Donna Murphy   \n",
       "7                         0.0                 19000.0     Robert Downey Jr.   \n",
       "8                       282.0                 10000.0      Daniel Radcliffe   \n",
       "9                         0.0                  2000.0          Lauren Cohan   \n",
       "10                        0.0                   903.0         Marlon Brando   \n",
       "11                      395.0                   393.0       Mathieu Amalric   \n",
       "12                      563.0                  1000.0         Orlando Bloom   \n",
       "13                      563.0                  1000.0           Ruth Wilson   \n",
       "14                        0.0                   748.0    Christopher Meloni   \n",
       "15                       80.0                   201.0  Pierfrancesco Favino   \n",
       "16                        0.0                 19000.0     Robert Downey Jr.   \n",
       "17                      252.0                  1000.0           Sam Claflin   \n",
       "18                      188.0                   718.0     Michael Stuhlbarg   \n",
       "19                        0.0                   773.0            Adam Brown   \n",
       "20                      464.0                   963.0       Andrew Garfield   \n",
       "21                        0.0                   738.0          William Hurt   \n",
       "22                        0.0                   773.0            Adam Brown   \n",
       "23                      129.0                  1000.0             Eva Green   \n",
       "24                        0.0                    84.0    Thomas Kretschmann   \n",
       "25                        0.0                   794.0          Kate Winslet   \n",
       "26                       94.0                 11000.0    Scarlett Johansson   \n",
       "27                      532.0                   627.0   Alexander Skarsgård   \n",
       "28                      365.0                  1000.0            Judy Greer   \n",
       "29                        0.0                   393.0         Helen McCrory   \n",
       "...                       ...                     ...                   ...   \n",
       "4551                      8.0                     8.0      Shailene Garnett   \n",
       "4552                      9.0                     3.0           Sonia Braga   \n",
       "4553                    969.0                   433.0         Merritt Wever   \n",
       "4554                     18.0                   236.0          Olivia Cooke   \n",
       "4555                      3.0                    69.0         Paul Eenhoorn   \n",
       "4556                    234.0                    15.0           Eddie Rouse   \n",
       "4557                      4.0                   113.0        Christa Miller   \n",
       "4558                    138.0                    76.0        Patricia Raven   \n",
       "4559                  17000.0                   476.0            Levon Helm   \n",
       "4560                      2.0                    20.0          Mark Rendall   \n",
       "4561                     26.0                     3.0      Kate Dollenmayer   \n",
       "4562                      2.0                     0.0            Ron Gelner   \n",
       "4563                    214.0                    59.0              Tony Way   \n",
       "4564                      0.0                   216.0      Brian O'Halloran   \n",
       "4565                    119.0                     7.0           Matt Malloy   \n",
       "4566                    453.0                   120.0        Martin Donovan   \n",
       "4567                    892.0                   492.0    Katharine Isabelle   \n",
       "4568                      0.0                     0.0     Richard Linklater   \n",
       "4569                    158.0                   265.0       Brittany Curran   \n",
       "4570                    157.0                    10.0         Katie Aselton   \n",
       "4571                     91.0                    86.0           Jason Trost   \n",
       "4572                      0.0                   105.0            Mink Stole   \n",
       "4573                    107.0                    45.0        Béatrice Dalle   \n",
       "4574                    397.0                     0.0     Nargess Mamizadeh   \n",
       "4575                    291.0                     8.0        David Sullivan   \n",
       "4576                      0.0                     0.0       Edgar Tancangco   \n",
       "4577                      0.0                     6.0       Peter Marquardt   \n",
       "4578                      2.0                     2.0        John Considine   \n",
       "4579                      0.0                   133.0    Caitlin FitzGerald   \n",
       "4580                     16.0                    16.0      Brian Herzlinger   \n",
       "\n",
       "                 actor_1_name                                   movie_title  \\\n",
       "0                 CCH Pounder                                       Avatar    \n",
       "1                 Johnny Depp     Pirates of the Caribbean: At World's End    \n",
       "2             Christoph Waltz                                      Spectre    \n",
       "3                   Tom Hardy                        The Dark Knight Rises    \n",
       "4                Daryl Sabara                                  John Carter    \n",
       "5                J.K. Simmons                                 Spider-Man 3    \n",
       "6                Brad Garrett                                      Tangled    \n",
       "7             Chris Hemsworth                      Avengers: Age of Ultron    \n",
       "8                Alan Rickman       Harry Potter and the Half-Blood Prince    \n",
       "9                Henry Cavill           Batman v Superman: Dawn of Justice    \n",
       "10               Kevin Spacey                             Superman Returns    \n",
       "11         Giancarlo Giannini                            Quantum of Solace    \n",
       "12                Johnny Depp   Pirates of the Caribbean: Dead Man's Chest    \n",
       "13                Johnny Depp                              The Lone Ranger    \n",
       "14               Henry Cavill                                 Man of Steel    \n",
       "15             Peter Dinklage     The Chronicles of Narnia: Prince Caspian    \n",
       "16            Chris Hemsworth                                 The Avengers    \n",
       "17                Johnny Depp  Pirates of the Caribbean: On Stranger Tides    \n",
       "18                 Will Smith                               Men in Black 3    \n",
       "19               Aidan Turner    The Hobbit: The Battle of the Five Armies    \n",
       "20                 Emma Stone                       The Amazing Spider-Man    \n",
       "21                  Mark Addy                                   Robin Hood    \n",
       "22               Aidan Turner          The Hobbit: The Desolation of Smaug    \n",
       "23            Christopher Lee                           The Golden Compass    \n",
       "24                Naomi Watts                                    King Kong    \n",
       "25          Leonardo DiCaprio                                      Titanic    \n",
       "26          Robert Downey Jr.                   Captain America: Civil War    \n",
       "27                Liam Neeson                                   Battleship    \n",
       "28        Bryce Dallas Howard                               Jurassic World    \n",
       "29              Albert Finney                                      Skyfall    \n",
       "...                       ...                                           ...   \n",
       "4551       Paul Daniel Ayotte                                  The Dirties    \n",
       "4552     Marcello Mastroianni                                     Gabriela    \n",
       "4553              Lena Dunham                               Tiny Furniture    \n",
       "4554                Lin Shaye                                   The Signal    \n",
       "4555                Jan Haley                        This Is Martin Bonner    \n",
       "4556           Paul Schneider                            George Washington    \n",
       "4557           Derick Martini                  Smiling Fish & Goat on Fire    \n",
       "4558           Elissa Dowling                               Raymond Did It    \n",
       "4559              Ringo Starr                               The Last Waltz    \n",
       "4560                Zoe Kazan                           The Exploding Girl    \n",
       "4561          Andrew Bujalski                          Mutual Appreciation    \n",
       "4562         Nichole Ceballos            Her Cry: La Llorona Investigation    \n",
       "4563           Michael Smiley                                 Down Terrace    \n",
       "4564              Jason Mewes                                       Clerks    \n",
       "4565            Stacy Edwards                        In the Company of Men    \n",
       "4566            Mireille Enos                                     Sabotage    \n",
       "4567              Matt Frewer                                      Rampage    \n",
       "4568           Tommy Pallotta                                      Slacker    \n",
       "4569          Ashley Tramonte                                       Exeter    \n",
       "4570             Mark Duplass                              The Puffy Chair    \n",
       "4571              Sean Whalen                     All Superheroes Must Die    \n",
       "4572                   Divine                               Pink Flamingos    \n",
       "4573            Maggie Cheung                                        Clean    \n",
       "4574  Fereshteh Sadre Orafaiy                                   The Circle    \n",
       "4575            Shane Carruth                                       Primer    \n",
       "4576              Ian Gamazon                                       Cavite    \n",
       "4577          Carlos Gallardo                                  El Mariachi    \n",
       "4578           Richard Jewell                              The Mongol King    \n",
       "4579              Kerry Bishé                                    Newlyweds    \n",
       "4580              John August                            My Date with Drew    \n",
       "\n",
       "      num_voted_users     ...      Fantasy Film-Noir  Western Adventure  \\\n",
       "0              886204     ...            1         0        0         1   \n",
       "1              471220     ...            1         0        0         1   \n",
       "2              275868     ...            0         0        0         1   \n",
       "3             1144337     ...            0         0        0         0   \n",
       "4              212204     ...            0         0        0         1   \n",
       "5              383056     ...            0         0        0         1   \n",
       "6              294810     ...            1         0        0         1   \n",
       "7              462669     ...            0         0        0         1   \n",
       "8              321795     ...            1         0        0         1   \n",
       "9              371639     ...            0         0        0         1   \n",
       "10             240396     ...            0         0        0         1   \n",
       "11             330784     ...            0         0        0         1   \n",
       "12             522040     ...            1         0        0         1   \n",
       "13             181792     ...            0         0        1         1   \n",
       "14             548573     ...            1         0        0         1   \n",
       "15             149922     ...            1         0        0         1   \n",
       "16             995415     ...            0         0        0         1   \n",
       "17             370704     ...            1         0        0         1   \n",
       "18             268154     ...            1         0        0         1   \n",
       "19             354228     ...            1         0        0         1   \n",
       "20             451803     ...            1         0        0         1   \n",
       "21             211765     ...            0         0        0         1   \n",
       "22             483540     ...            1         0        0         1   \n",
       "23             149019     ...            1         0        0         1   \n",
       "24             316018     ...            0         0        0         1   \n",
       "25             793059     ...            0         0        0         0   \n",
       "26             272670     ...            0         0        0         1   \n",
       "27             202382     ...            0         0        0         1   \n",
       "28             418214     ...            0         0        0         1   \n",
       "29             522030     ...            0         0        0         1   \n",
       "...               ...     ...          ...       ...      ...       ...   \n",
       "4551             3885     ...            0         0        0         0   \n",
       "4552              712     ...            0         0        0         0   \n",
       "4553            11816     ...            0         0        0         0   \n",
       "4554            48236     ...            0         0        0         0   \n",
       "4555              733     ...            0         0        0         0   \n",
       "4556             6246     ...            0         0        0         0   \n",
       "4557             2631     ...            0         0        0         0   \n",
       "4558              192     ...            0         0        0         0   \n",
       "4559            12611     ...            0         0        0         0   \n",
       "4560             1516     ...            0         0        0         0   \n",
       "4561             1578     ...            0         0        0         0   \n",
       "4562               23     ...            0         0        0         0   \n",
       "4563             2646     ...            0         0        0         0   \n",
       "4564           181749     ...            0         0        0         0   \n",
       "4565            11550     ...            0         0        0         0   \n",
       "4566            47502     ...            0         0        0         0   \n",
       "4567            15091     ...            0         0        0         0   \n",
       "4568            15103     ...            0         0        0         0   \n",
       "4569             3836     ...            0         0        0         0   \n",
       "4570             4067     ...            0         0        0         0   \n",
       "4571             1771     ...            0         0        0         0   \n",
       "4572            16792     ...            0         0        0         0   \n",
       "4573             3924     ...            0         0        0         0   \n",
       "4574             4555     ...            0         0        0         0   \n",
       "4575            72639     ...            0         0        0         0   \n",
       "4576              589     ...            0         0        0         0   \n",
       "4577            52055     ...            0         0        0         0   \n",
       "4578               36     ...            0         0        0         0   \n",
       "4579             1338     ...            0         0        0         0   \n",
       "4580             4285     ...            0         0        0         0   \n",
       "\n",
       "      Sport Musical Mystery Sci-Fi  adj_budget   adj_gross  \n",
       "0         0       0       0      1  265.137009  850.794285  \n",
       "1         0       0       0      0  347.262037  358.147720  \n",
       "2         0       0       0      0  248.090879  202.598277  \n",
       "3         0       0       0      0  261.338770  468.455642  \n",
       "4         0       0       0      1  275.660134   76.372261  \n",
       "5         0       0       0      0  298.645352  389.547329  \n",
       "6         0       1       0      0  286.174223  221.022547  \n",
       "7         0       0       0      1  253.153958  464.782160  \n",
       "8         0       0       1      0  279.680389  337.805783  \n",
       "9         0       0       0      1  250.000000  330.249062  \n",
       "10        0       0       0      1  248.827239  238.194825  \n",
       "11        0       0       0      0  222.948797  187.687691  \n",
       "12        0       0       0      0  267.876214  503.646128  \n",
       "13        0       0       0      0  221.506640   91.992130  \n",
       "14        0       0       0      1  231.809275  299.828879  \n",
       "15        0       0       0      0  250.817396  157.863380  \n",
       "16        0       0       0      1  229.978117  651.548439  \n",
       "17        0       0       0      0  266.746750  257.212021  \n",
       "18        0       0       0      1  235.204893  187.140359  \n",
       "19        0       0       0      0  253.454267  258.633220  \n",
       "20        0       0       0      0  240.431668  273.915084  \n",
       "21        0       0       0      0  220.134018  115.812215  \n",
       "22        0       0       0      0  231.809275  266.174076  \n",
       "23        0       0       0      0  208.357222   81.124485  \n",
       "24        0       0       0      0  254.396331  267.977974  \n",
       "25        0       0       0      0  299.043298  984.857686  \n",
       "26        0       0       0      1  250.000000  407.197282  \n",
       "27        0       0       0      1  218.479211   68.129094  \n",
       "28        0       0       0      1  151.892375  660.405030  \n",
       "29        0       0       0      0  209.071016  318.164561  \n",
       "...     ...     ...     ...    ...         ...         ...  \n",
       "4551      0       0       0      0   40.955672   49.935228  \n",
       "4552      0       0       0      0   95.792307  116.794831  \n",
       "4553      0       0       0      0    0.071544    0.429046  \n",
       "4554      0       0       0      1    4.055268   49.138099  \n",
       "4555      0       0       0      0    0.043271   49.935228  \n",
       "4556      0       0       0      0    0.058538    0.337036  \n",
       "4557      0       0       0      0    0.057633    0.399447  \n",
       "4558      0       0       0      0    0.042679   51.715161  \n",
       "4559      0       0       0      0  146.258260    1.184529  \n",
       "4560      0       0       0      0   44.472113    0.027638  \n",
       "4561      0       0       0      0   48.854690   59.566111  \n",
       "4562      0       0       0      0    0.061816   49.935228  \n",
       "4563      0       0       0      0   44.472113    0.010750  \n",
       "4564      0       0       0      0    0.372418    5.102336  \n",
       "4565      0       0       0      0    0.037380    4.271268  \n",
       "4566      0       0       0      0   35.483597   10.645047  \n",
       "4567      0       0       0      0   44.472113   54.222652  \n",
       "4568      0       0       0      0    0.040532    2.163207  \n",
       "4569      0       0       1      0   40.254133   49.079877  \n",
       "4570      0       0       0      0    0.018435    0.236536  \n",
       "4571      0       0       0      1    0.021340   51.715161  \n",
       "4572      0       0       0      0    0.057395    1.035884  \n",
       "4573      0       0       0      0    0.005718    0.172819  \n",
       "4574      0       0       0      0    0.013938    0.939094  \n",
       "4575      0       0       0      1    0.008895    0.539727  \n",
       "4576      0       0       0      0    0.008603    0.086115  \n",
       "4577      0       0       0      0    0.011973    3.490928  \n",
       "4578      0       0       0      0    0.003994   59.566111  \n",
       "4579      0       0       0      0    0.009603    0.004891  \n",
       "4580      0       0       0      0    0.001398    0.108288  \n",
       "\n",
       "[4581 rows x 48 columns]"
      ]
     },
     "execution_count": 34,
     "metadata": {},
     "output_type": "execute_result"
    }
   ],
   "source": [
    "movie_data=pd.concat([movie_data,budgets],axis=1)\n",
    "movie_data=pd.concat([movie_data,grosses],axis=1)\n",
    "movie_data=movie_data.drop(['budget','gross'],axis=1)\n",
    "movie_data"
   ]
  },
  {
   "cell_type": "code",
   "execution_count": 35,
   "metadata": {
    "collapsed": false
   },
   "outputs": [],
   "source": [
    "working_data =movie_data.drop([\"content_rating\",\"movie_title\",\n",
    "                                 \"actor_1_name\",\"actor_2_name\",\"actor_1_name\",\"plot_keywords\",\"actor_3_name\"], axis=1)\n",
    "attributes=working_data.drop('imdb_score',axis=1)\n",
    "scale=StandardScaler()\n",
    "\n",
    "labels=working_data.imdb_score\n",
    "attributes=scale.fit_transform(pd.get_dummies(attributes),labels)\n",
    "attr_train,attr_test,l_train,l_test= train_test_split(attributes,labels,train_size=0.7)\n",
    "\n",
    "scaled_attr_train=attr_train\n",
    "scaled_attr_test=attr_test\n",
    "scaled_attr= attributes\n",
    "kfold= StratifiedKFold(n_splits=10, shuffle = True)\n",
    "folds = kfold.get_n_splits(scaled_attr_train,l_train)"
   ]
  },
  {
   "cell_type": "code",
   "execution_count": 36,
   "metadata": {
    "collapsed": false
   },
   "outputs": [],
   "source": [
    "kfold= StratifiedKFold(n_splits=4, shuffle = True)\n",
    "folds = kfold.get_n_splits(scaled_attr,labels)"
   ]
  },
  {
   "cell_type": "markdown",
   "metadata": {},
   "source": [
    "Now I am going to examine in detail a couple of the previous models which were giving interesting results."
   ]
  },
  {
   "cell_type": "markdown",
   "metadata": {},
   "source": [
    "### Ridge"
   ]
  },
  {
   "cell_type": "code",
   "execution_count": 37,
   "metadata": {
    "collapsed": false
   },
   "outputs": [
    {
     "data": {
      "text/plain": [
       "GridSearchCV(cv=None, error_score='raise',\n",
       "       estimator=Ridge(alpha=1.0, copy_X=True, fit_intercept=True, max_iter=None,\n",
       "   normalize=False, random_state=None, solver='auto', tol=0.001),\n",
       "       fit_params={}, iid=True, n_jobs=1,\n",
       "       param_grid={'alpha': [0.1, 1, 2, 10, 15, 20], 'normalize': [True, False], 'fit_intercept': [True, False]},\n",
       "       pre_dispatch='2*n_jobs', refit=True, return_train_score=True,\n",
       "       scoring=None, verbose=0)"
      ]
     },
     "execution_count": 37,
     "metadata": {},
     "output_type": "execute_result"
    }
   ],
   "source": [
    "ridge_scl=Ridge()\n",
    "params={'alpha':[0.1,1,2,10,15,20],'normalize':[True,False],'fit_intercept':[True,False]}\n",
    "grid=GridSearchCV(ridge_scl,params)\n",
    "grid.fit(scaled_attr_train,l_train)"
   ]
  },
  {
   "cell_type": "code",
   "execution_count": 38,
   "metadata": {
    "collapsed": false
   },
   "outputs": [
    {
     "name": "stdout",
     "output_type": "stream",
     "text": [
      "[ 0.34556212  0.4165717   0.30203515  0.20296834]\n",
      "[-0.64598424 -0.67562897 -0.85511891 -1.15123383]\n"
     ]
    }
   ],
   "source": [
    "ridge_scl1=Ridge()\n",
    "print(cross_val_score(ridge_scl1,scaled_attr,labels,cv=folds,scoring='r2'))\n",
    "print(cross_val_score(ridge_scl1,scaled_attr,labels,cv=folds,scoring='neg_mean_squared_error'))"
   ]
  },
  {
   "cell_type": "code",
   "execution_count": 39,
   "metadata": {
    "collapsed": false
   },
   "outputs": [],
   "source": [
    "ridge_scl1.fit(scaled_attr_train,l_train)\n",
    "predicted=ridge_scl1.predict(scaled_attr_test)"
   ]
  },
  {
   "cell_type": "code",
   "execution_count": 40,
   "metadata": {
    "collapsed": false
   },
   "outputs": [
    {
     "name": "stdout",
     "output_type": "stream",
     "text": [
      "-0.04636745620352066\n",
      "3.44289737844\n"
     ]
    },
    {
     "data": {
      "image/png": "[encoded data removed]",
      "text/plain": [
       "<matplotlib.figure.Figure at 0x28d765667b8>"
      ]
     },
     "metadata": {},
     "output_type": "display_data"
    },
    {
     "data": {
      "image/png": "[encoded data removed]",
      "text/plain": [
       "<matplotlib.figure.Figure at 0x28d7664f9e8>"
      ]
     },
     "metadata": {},
     "output_type": "display_data"
    }
   ],
   "source": [
    "print((l_test-predicted).mean())\n",
    "print((l_test-predicted).max())\n",
    "plt.scatter(predicted,l_test-predicted)\n",
    "plt.show()\n",
    "plt.hist(l_test-predicted,bins=40)\n",
    "plt.show()"
   ]
  },
  {
   "cell_type": "markdown",
   "metadata": {},
   "source": [
    "### Random Forest"
   ]
  },
  {
   "cell_type": "code",
   "execution_count": 41,
   "metadata": {
    "collapsed": false
   },
   "outputs": [
    {
     "name": "stdout",
     "output_type": "stream",
     "text": [
      "[ 0.52117232  0.53711447  0.50776942  0.37966116]\n",
      "[-0.47391486 -0.53483983 -0.60306926 -0.89884557]\n"
     ]
    }
   ],
   "source": [
    "forest = RandomForestRegressor(n_estimators=2000, max_depth=10,n_jobs=-1)\n",
    "print(cross_val_score(forest,scaled_attr,labels,cv=folds,n_jobs=-1,scoring='r2'))\n",
    "print(cross_val_score(forest,scaled_attr,labels,cv=folds,n_jobs=-1,scoring='neg_mean_squared_error'))\n"
   ]
  },
  {
   "cell_type": "code",
   "execution_count": 42,
   "metadata": {
    "collapsed": false
   },
   "outputs": [
    {
     "data": {
      "text/plain": [
       "RandomForestRegressor(bootstrap=True, criterion='mse', max_depth=10,\n",
       "           max_features='auto', max_leaf_nodes=None,\n",
       "           min_impurity_split=1e-07, min_samples_leaf=1,\n",
       "           min_samples_split=2, min_weight_fraction_leaf=0.0,\n",
       "           n_estimators=2000, n_jobs=-1, oob_score=False,\n",
       "           random_state=None, verbose=0, warm_start=False)"
      ]
     },
     "execution_count": 42,
     "metadata": {},
     "output_type": "execute_result"
    }
   ],
   "source": [
    "forest.fit(scaled_attr_train,l_train)"
   ]
  },
  {
   "cell_type": "code",
   "execution_count": 43,
   "metadata": {
    "collapsed": false
   },
   "outputs": [
    {
     "name": "stdout",
     "output_type": "stream",
     "text": [
      "-0.02421126303957002\n"
     ]
    }
   ],
   "source": [
    "predicted=forest.predict(scaled_attr_test)\n",
    "y=predicted-l_test\n",
    "print(y.mean())"
   ]
  },
  {
   "cell_type": "code",
   "execution_count": 44,
   "metadata": {
    "collapsed": false
   },
   "outputs": [
    {
     "data": {
      "image/png": "[encoded data removed]",
      "text/plain": [
       "<matplotlib.figure.Figure at 0x28d77ae7a58>"
      ]
     },
     "metadata": {},
     "output_type": "display_data"
    },
    {
     "data": {
      "image/png": "[encoded data removed]",
      "text/plain": [
       "<matplotlib.figure.Figure at 0x28d77ae78d0>"
      ]
     },
     "metadata": {},
     "output_type": "display_data"
    }
   ],
   "source": [
    "plt.scatter(predicted,y)\n",
    "plt.title(\"Random Forest with Inflation and with scaled data\")\n",
    "plt.show()\n",
    "plt.title(\"Random Forest with Inflation and with scaled data\")\n",
    "plt.hist(y,bins=40)\n",
    "plt.show()"
   ]
  },
  {
   "cell_type": "code",
   "execution_count": 45,
   "metadata": {
    "collapsed": false
   },
   "outputs": [
    {
     "data": {
      "text/plain": [
       "0.7858959431965159"
      ]
     },
     "execution_count": 45,
     "metadata": {},
     "output_type": "execute_result"
    }
   ],
   "source": [
    "forest.score(scaled_attr_train,l_train)"
   ]
  },
  {
   "cell_type": "markdown",
   "metadata": {},
   "source": [
    "The results are actually slightly better. There is still some difference in the cross validation results but in comparison to the previous Random Forest they are smaller and the scores are higher."
   ]
  },
  {
   "cell_type": "markdown",
   "metadata": {},
   "source": [
    "### Neural network"
   ]
  },
  {
   "cell_type": "code",
   "execution_count": 46,
   "metadata": {
    "collapsed": false
   },
   "outputs": [
    {
     "name": "stdout",
     "output_type": "stream",
     "text": [
      "{'hidden_layer_sizes': (100, 100, 100)}\n"
     ]
    }
   ],
   "source": [
    "nn1=MLPRegressor()\n",
    "params={'hidden_layer_sizes':[(100,100,100),(100,),(30,30,30,30,30),(80,20,50,15,60),(30,30,30,30,30)]}\n",
    "grid=GridSearchCV(nn1,params,n_jobs=-1)\n",
    "grid.fit(scaled_attr_train,l_train)\n",
    "print(grid.best_params_)"
   ]
  },
  {
   "cell_type": "code",
   "execution_count": 47,
   "metadata": {
    "collapsed": false
   },
   "outputs": [
    {
     "data": {
      "text/plain": [
       "array([-2.22880559, -0.9471933 , -2.60283374, -2.9470509 ])"
      ]
     },
     "execution_count": 47,
     "metadata": {},
     "output_type": "execute_result"
    }
   ],
   "source": [
    "nn2=MLPRegressor(hidden_layer_sizes=(30, 30, 30, 30, 30))\n",
    "cross_val_score(nn2,scaled_attr,labels,n_jobs=-1,cv=folds)"
   ]
  },
  {
   "cell_type": "markdown",
   "metadata": {},
   "source": [
    "The model is very unstable and the scores are low so I am not going to examine it any further"
   ]
  },
  {
   "cell_type": "markdown",
   "metadata": {},
   "source": [
    "### Bayesian Ridge"
   ]
  },
  {
   "cell_type": "code",
   "execution_count": 48,
   "metadata": {
    "collapsed": false
   },
   "outputs": [
    {
     "data": {
      "text/plain": [
       "GridSearchCV(cv=None, error_score='raise',\n",
       "       estimator=BayesianRidge(alpha_1=1e-06, alpha_2=1e-06, compute_score=False, copy_X=True,\n",
       "       fit_intercept=True, lambda_1=1e-06, lambda_2=1e-06, n_iter=300,\n",
       "       normalize=False, tol=0.001, verbose=False),\n",
       "       fit_params={}, iid=True, n_jobs=-1,\n",
       "       param_grid={'n_iter': [100], 'tol': [1], 'alpha_1': [10, 1], 'alpha_2': [1e-05, 0.0001, 0.001], 'lambda_1': [1e-12, 1e-10, 1e-13], 'lambda_2': [10, 1, 0.1], 'fit_intercept': [True], 'normalize': [False]},\n",
       "       pre_dispatch='2*n_jobs', refit=True, return_train_score=True,\n",
       "       scoring=None, verbose=0)"
      ]
     },
     "execution_count": 48,
     "metadata": {},
     "output_type": "execute_result"
    }
   ],
   "source": [
    "bRidge=BayesianRidge()\n",
    "params={'n_iter':[100],'tol':[1],'alpha_1':[10,1],\n",
    "        'alpha_2':[0.00001,0.0001,0.001],\n",
    "        'lambda_1':[1e-12,1e-10,1e-13], \n",
    "        'lambda_2':[10,1,1e-01],\n",
    "        'fit_intercept':[True],'normalize':[False]}\n",
    "grid=GridSearchCV(bRidge,params,n_jobs=-1)\n",
    "grid.fit(scaled_attr_train,l_train)"
   ]
  },
  {
   "cell_type": "code",
   "execution_count": 51,
   "metadata": {
    "collapsed": false
   },
   "outputs": [
    {
     "name": "stdout",
     "output_type": "stream",
     "text": [
      "[ 0.39995354  0.44759582  0.40848073  0.32167782]\n",
      "[-0.59229542 -0.63970203 -0.724706   -0.97976966]\n"
     ]
    }
   ],
   "source": [
    "bridge2=BayesianRidge()\n",
    "print(cross_val_score(bridge2,scaled_attr,labels,n_jobs=-1,cv=folds,scoring='r2'))\n",
    "print(cross_val_score(bridge2,scaled_attr,labels,n_jobs=-1,cv=folds,scoring='neg_mean_squared_error'))"
   ]
  },
  {
   "cell_type": "code",
   "execution_count": 52,
   "metadata": {
    "collapsed": false
   },
   "outputs": [
    {
     "name": "stdout",
     "output_type": "stream",
     "text": [
      "[  6.42866875e+00   5.99853704e+00   5.00934736e+00 ...,   1.63245004e-33\n",
      "   1.19054562e-33   1.82782898e-34]\n"
     ]
    },
    {
     "data": {
      "image/png": "[encoded data removed]",
      "text/plain": [
       "<matplotlib.figure.Figure at 0x28d76471e10>"
      ]
     },
     "metadata": {},
     "output_type": "display_data"
    }
   ],
   "source": [
    "pca=PCA()\n",
    "pca.fit(attributes)\n",
    "print(pca.explained_variance_)\n",
    "plt.bar(list(range(len(pca.components_))), pca.explained_variance_ratio_)\n",
    "plt.xlim(0,10)\n",
    "plt.show()"
   ]
  },
  {
   "cell_type": "markdown",
   "metadata": {},
   "source": [
    "I won't be able to use PCA transformed data because there are a lot of components which affect the end result"
   ]
  },
  {
   "cell_type": "code",
   "execution_count": 53,
   "metadata": {
    "collapsed": false
   },
   "outputs": [],
   "source": [
    "movie_data.imdb_score= round(movie_data.imdb_score)\n",
    "attributes = pd.get_dummies(movie_data.drop([\"content_rating\",\"movie_title\",\"director_name\",\n",
    "                                 \"actor_1_name\",\"actor_2_name\",\"actor_1_name\",\n",
    "                                          \"plot_keywords\",\"actor_3_name\",\"imdb_score\"], axis=1))\n",
    "labels=movie_data.imdb_score\n",
    "skf=StratifiedKFold(n_splits=5)\n",
    "attr=skf.get_n_splits(attributes,labels)\n",
    "attr_train,attr_test,l_train,l_test=train_test_split(attributes,labels,train_size=0.7,stratify=labels)"
   ]
  },
  {
   "cell_type": "code",
   "execution_count": 54,
   "metadata": {
    "collapsed": false
   },
   "outputs": [
    {
     "data": {
      "text/plain": [
       "GridSearchCV(cv=None, error_score='raise',\n",
       "       estimator=RandomForestRegressor(bootstrap=True, criterion='mse', max_depth=10,\n",
       "           max_features='auto', max_leaf_nodes=None,\n",
       "           min_impurity_split=1e-07, min_samples_leaf=1,\n",
       "           min_samples_split=2, min_weight_fraction_leaf=0.0,\n",
       "           n_estimators=2000, n_jobs=-1, oob_score=False,\n",
       "           random_state=None, verbose=0, warm_start=False),\n",
       "       fit_params={}, iid=True, n_jobs=1,\n",
       "       param_grid={'n_estimators': [10, 100, 1000], 'max_depth': [1, 10, 20, 50]},\n",
       "       pre_dispatch='2*n_jobs', refit=True, return_train_score=True,\n",
       "       scoring=None, verbose=0)"
      ]
     },
     "execution_count": 54,
     "metadata": {},
     "output_type": "execute_result"
    }
   ],
   "source": [
    "forest_classifier= RandomForestClassifier(n_jobs=-1)\n",
    "params={\"n_estimators\":[10,100,1000],\"max_depth\":[1,10,20,50]}\n",
    "grid=GridSearchCV(forest,params)\n",
    "grid.fit(attr_train,l_train)"
   ]
  },
  {
   "cell_type": "code",
   "execution_count": 55,
   "metadata": {
    "collapsed": false
   },
   "outputs": [
    {
     "data": {
      "text/plain": [
       "array([ 0.52448313,  0.55930359,  0.55398037,  0.52026287,  0.49178532])"
      ]
     },
     "execution_count": 55,
     "metadata": {},
     "output_type": "execute_result"
    }
   ],
   "source": [
    "forest_cl = RandomForestClassifier(n_jobs=-1,n_estimators=500, max_depth=10)\n",
    "cross_val_score(forest_cl,attributes,labels,cv=attr,n_jobs=-1)"
   ]
  },
  {
   "cell_type": "markdown",
   "metadata": {},
   "source": [
    "## Conclusion"
   ]
  },
  {
   "cell_type": "markdown",
   "metadata": {},
   "source": [
    "After spending hours and hours in fine tunning and analyzing I think that it is possible to predict the rating of a movie but not with great accuracy. The reason for that for me is that the data is very unbalanced-in many columns only one category dominates and that is logical but it is an obsticle for prediction.Nevertheless the result is useful because the scores are quite tolerable, not the best but tolerable.\n",
    "If the data is assumpted to be used as a classification the models are much more stable but there is a huge loss in information and accuracy because I think that it is much more useful to know that the movie rating is 8.5 +-0.8 than to know that the movie rating is 8 with 50% accuracy."
   ]
  }
 ],
 "metadata": {
  "anaconda-cloud": {},
  "kernelspec": {
   "display_name": "Python 3",
   "language": "python",
   "name": "python3"
  },
  "language_info": {
   "codemirror_mode": {
    "name": "ipython",
    "version": 3
   },
   "file_extension": ".py",
   "mimetype": "text/x-python",
   "name": "python",
   "nbconvert_exporter": "python",
   "pygments_lexer": "ipython3",
   "version": "3.6.0"
  }
 },
 "nbformat": 4,
 "nbformat_minor": 1
}
